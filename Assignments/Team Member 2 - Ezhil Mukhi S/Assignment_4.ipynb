{
  "nbformat": 4,
  "nbformat_minor": 0,
  "metadata": {
    "colab": {
      "provenance": []
    },
    "kernelspec": {
      "name": "python3",
      "display_name": "Python 3"
    },
    "language_info": {
      "name": "python"
    }
  },
  "cells": [
    {
      "cell_type": "markdown",
      "source": [
        "1. DOWNLOADING THE DATASET"
      ],
      "metadata": {
        "id": "XsaqEol6Gdbg"
      }
    },
    {
      "cell_type": "code",
      "source": [
        "from google.colab import drive\n",
        "drive.mount(\"/content/drive\", force_remount=True)\n",
        "%cd '/content/drive/My Drive/cloud/'"
      ],
      "metadata": {
        "colab": {
          "base_uri": "https://localhost:8080/"
        },
        "id": "lXyxD6luGh9m",
        "outputId": "0bee6aef-11d2-4b25-bd27-5dfd02b5bd74"
      },
      "execution_count": 1,
      "outputs": [
        {
          "output_type": "stream",
          "name": "stdout",
          "text": [
            "Mounted at /content/drive\n",
            "/content/drive/My Drive/cloud\n"
          ]
        }
      ]
    },
    {
      "cell_type": "markdown",
      "source": [
        "2.LOAD THE DATASET"
      ],
      "metadata": {
        "id": "qvWQO1wMG0Oo"
      }
    },
    {
      "cell_type": "code",
      "source": [
        "import pandas as pd\n",
        "df = pd.read_csv('Mall_Customers.csv')\n",
        "df.head()"
      ],
      "metadata": {
        "colab": {
          "base_uri": "https://localhost:8080/",
          "height": 206
        },
        "id": "93EtDsgHG5Lh",
        "outputId": "765bdcc3-b21e-445d-a520-04eaa43c356e"
      },
      "execution_count": 2,
      "outputs": [
        {
          "output_type": "execute_result",
          "data": {
            "text/plain": [
              "   CustomerID  Gender  Age  Annual Income (k$)  Spending Score (1-100)\n",
              "0           1    Male   19                  15                      39\n",
              "1           2    Male   21                  15                      81\n",
              "2           3  Female   20                  16                       6\n",
              "3           4  Female   23                  16                      77\n",
              "4           5  Female   31                  17                      40"
            ],
            "text/html": [
              "\n",
              "  <div id=\"df-af3c2e4f-b61b-458d-b169-13307a7201f1\">\n",
              "    <div class=\"colab-df-container\">\n",
              "      <div>\n",
              "<style scoped>\n",
              "    .dataframe tbody tr th:only-of-type {\n",
              "        vertical-align: middle;\n",
              "    }\n",
              "\n",
              "    .dataframe tbody tr th {\n",
              "        vertical-align: top;\n",
              "    }\n",
              "\n",
              "    .dataframe thead th {\n",
              "        text-align: right;\n",
              "    }\n",
              "</style>\n",
              "<table border=\"1\" class=\"dataframe\">\n",
              "  <thead>\n",
              "    <tr style=\"text-align: right;\">\n",
              "      <th></th>\n",
              "      <th>CustomerID</th>\n",
              "      <th>Gender</th>\n",
              "      <th>Age</th>\n",
              "      <th>Annual Income (k$)</th>\n",
              "      <th>Spending Score (1-100)</th>\n",
              "    </tr>\n",
              "  </thead>\n",
              "  <tbody>\n",
              "    <tr>\n",
              "      <th>0</th>\n",
              "      <td>1</td>\n",
              "      <td>Male</td>\n",
              "      <td>19</td>\n",
              "      <td>15</td>\n",
              "      <td>39</td>\n",
              "    </tr>\n",
              "    <tr>\n",
              "      <th>1</th>\n",
              "      <td>2</td>\n",
              "      <td>Male</td>\n",
              "      <td>21</td>\n",
              "      <td>15</td>\n",
              "      <td>81</td>\n",
              "    </tr>\n",
              "    <tr>\n",
              "      <th>2</th>\n",
              "      <td>3</td>\n",
              "      <td>Female</td>\n",
              "      <td>20</td>\n",
              "      <td>16</td>\n",
              "      <td>6</td>\n",
              "    </tr>\n",
              "    <tr>\n",
              "      <th>3</th>\n",
              "      <td>4</td>\n",
              "      <td>Female</td>\n",
              "      <td>23</td>\n",
              "      <td>16</td>\n",
              "      <td>77</td>\n",
              "    </tr>\n",
              "    <tr>\n",
              "      <th>4</th>\n",
              "      <td>5</td>\n",
              "      <td>Female</td>\n",
              "      <td>31</td>\n",
              "      <td>17</td>\n",
              "      <td>40</td>\n",
              "    </tr>\n",
              "  </tbody>\n",
              "</table>\n",
              "</div>\n",
              "      <button class=\"colab-df-convert\" onclick=\"convertToInteractive('df-af3c2e4f-b61b-458d-b169-13307a7201f1')\"\n",
              "              title=\"Convert this dataframe to an interactive table.\"\n",
              "              style=\"display:none;\">\n",
              "        \n",
              "  <svg xmlns=\"http://www.w3.org/2000/svg\" height=\"24px\"viewBox=\"0 0 24 24\"\n",
              "       width=\"24px\">\n",
              "    <path d=\"M0 0h24v24H0V0z\" fill=\"none\"/>\n",
              "    <path d=\"M18.56 5.44l.94 2.06.94-2.06 2.06-.94-2.06-.94-.94-2.06-.94 2.06-2.06.94zm-11 1L8.5 8.5l.94-2.06 2.06-.94-2.06-.94L8.5 2.5l-.94 2.06-2.06.94zm10 10l.94 2.06.94-2.06 2.06-.94-2.06-.94-.94-2.06-.94 2.06-2.06.94z\"/><path d=\"M17.41 7.96l-1.37-1.37c-.4-.4-.92-.59-1.43-.59-.52 0-1.04.2-1.43.59L10.3 9.45l-7.72 7.72c-.78.78-.78 2.05 0 2.83L4 21.41c.39.39.9.59 1.41.59.51 0 1.02-.2 1.41-.59l7.78-7.78 2.81-2.81c.8-.78.8-2.07 0-2.86zM5.41 20L4 18.59l7.72-7.72 1.47 1.35L5.41 20z\"/>\n",
              "  </svg>\n",
              "      </button>\n",
              "      \n",
              "  <style>\n",
              "    .colab-df-container {\n",
              "      display:flex;\n",
              "      flex-wrap:wrap;\n",
              "      gap: 12px;\n",
              "    }\n",
              "\n",
              "    .colab-df-convert {\n",
              "      background-color: #E8F0FE;\n",
              "      border: none;\n",
              "      border-radius: 50%;\n",
              "      cursor: pointer;\n",
              "      display: none;\n",
              "      fill: #1967D2;\n",
              "      height: 32px;\n",
              "      padding: 0 0 0 0;\n",
              "      width: 32px;\n",
              "    }\n",
              "\n",
              "    .colab-df-convert:hover {\n",
              "      background-color: #E2EBFA;\n",
              "      box-shadow: 0px 1px 2px rgba(60, 64, 67, 0.3), 0px 1px 3px 1px rgba(60, 64, 67, 0.15);\n",
              "      fill: #174EA6;\n",
              "    }\n",
              "\n",
              "    [theme=dark] .colab-df-convert {\n",
              "      background-color: #3B4455;\n",
              "      fill: #D2E3FC;\n",
              "    }\n",
              "\n",
              "    [theme=dark] .colab-df-convert:hover {\n",
              "      background-color: #434B5C;\n",
              "      box-shadow: 0px 1px 3px 1px rgba(0, 0, 0, 0.15);\n",
              "      filter: drop-shadow(0px 1px 2px rgba(0, 0, 0, 0.3));\n",
              "      fill: #FFFFFF;\n",
              "    }\n",
              "  </style>\n",
              "\n",
              "      <script>\n",
              "        const buttonEl =\n",
              "          document.querySelector('#df-af3c2e4f-b61b-458d-b169-13307a7201f1 button.colab-df-convert');\n",
              "        buttonEl.style.display =\n",
              "          google.colab.kernel.accessAllowed ? 'block' : 'none';\n",
              "\n",
              "        async function convertToInteractive(key) {\n",
              "          const element = document.querySelector('#df-af3c2e4f-b61b-458d-b169-13307a7201f1');\n",
              "          const dataTable =\n",
              "            await google.colab.kernel.invokeFunction('convertToInteractive',\n",
              "                                                     [key], {});\n",
              "          if (!dataTable) return;\n",
              "\n",
              "          const docLinkHtml = 'Like what you see? Visit the ' +\n",
              "            '<a target=\"_blank\" href=https://colab.research.google.com/notebooks/data_table.ipynb>data table notebook</a>'\n",
              "            + ' to learn more about interactive tables.';\n",
              "          element.innerHTML = '';\n",
              "          dataTable['output_type'] = 'display_data';\n",
              "          await google.colab.output.renderOutput(dataTable, element);\n",
              "          const docLink = document.createElement('div');\n",
              "          docLink.innerHTML = docLinkHtml;\n",
              "          element.appendChild(docLink);\n",
              "        }\n",
              "      </script>\n",
              "    </div>\n",
              "  </div>\n",
              "  "
            ]
          },
          "metadata": {},
          "execution_count": 2
        }
      ]
    },
    {
      "cell_type": "markdown",
      "source": [
        "3. PERFORM BELOW VISUALIZATTIONS"
      ],
      "metadata": {
        "id": "GHRj2JhJHFAW"
      }
    },
    {
      "cell_type": "markdown",
      "source": [
        "   I. Univariate Analysis"
      ],
      "metadata": {
        "id": "2ys5Q-3jHRie"
      }
    },
    {
      "cell_type": "code",
      "source": [
        "# information about the dataset \n",
        "df.info()"
      ],
      "metadata": {
        "colab": {
          "base_uri": "https://localhost:8080/"
        },
        "id": "G4yvo1igHCpM",
        "outputId": "aee98626-f8be-43f9-d74a-3ee6d3f229af"
      },
      "execution_count": 3,
      "outputs": [
        {
          "output_type": "stream",
          "name": "stdout",
          "text": [
            "<class 'pandas.core.frame.DataFrame'>\n",
            "RangeIndex: 200 entries, 0 to 199\n",
            "Data columns (total 5 columns):\n",
            " #   Column                  Non-Null Count  Dtype \n",
            "---  ------                  --------------  ----- \n",
            " 0   CustomerID              200 non-null    int64 \n",
            " 1   Gender                  200 non-null    object\n",
            " 2   Age                     200 non-null    int64 \n",
            " 3   Annual Income (k$)      200 non-null    int64 \n",
            " 4   Spending Score (1-100)  200 non-null    int64 \n",
            "dtypes: int64(4), object(1)\n",
            "memory usage: 7.9+ KB\n"
          ]
        }
      ]
    },
    {
      "cell_type": "code",
      "source": [
        "# importing modules\n",
        "import matplotlib.pyplot as plt\n",
        "%matplotlib inline\n",
        "import seaborn as sns"
      ],
      "metadata": {
        "id": "YEUKzo_nHVJ-"
      },
      "execution_count": 4,
      "outputs": []
    },
    {
      "cell_type": "code",
      "source": [
        "plt.scatter(df.index, df['Annual Income (k$)'])\n",
        "plt.show()"
      ],
      "metadata": {
        "colab": {
          "base_uri": "https://localhost:8080/",
          "height": 265
        },
        "id": "mMZgIAC4HY4V",
        "outputId": "58578b74-6ce8-4ee9-b511-f660242b9268"
      },
      "execution_count": 5,
      "outputs": [
        {
          "output_type": "display_data",
          "data": {
            "text/plain": [
              "<Figure size 432x288 with 1 Axes>"
            ],
            "image/png": "[encoded data removed]"
          },
          "metadata": {
            "needs_background": "light"
          }
        }
      ]
    },
    {
      "cell_type": "code",
      "source": [
        "plt.hist(df['Spending Score (1-100)'])\n",
        "plt.show()"
      ],
      "metadata": {
        "colab": {
          "base_uri": "https://localhost:8080/",
          "height": 265
        },
        "id": "Anufei6YHeSd",
        "outputId": "1573987f-0a95-4781-d709-701e5d71969f"
      },
      "execution_count": 6,
      "outputs": [
        {
          "output_type": "display_data",
          "data": {
            "text/plain": [
              "<Figure size 432x288 with 1 Axes>"
            ],
            "image/png": "[encoded data removed]"
          },
          "metadata": {
            "needs_background": "light"
          }
        }
      ]
    },
    {
      "cell_type": "markdown",
      "source": [
        "ii.Bivariate Analysis"
      ],
      "metadata": {
        "id": "wu0Chxv-HmBS"
      }
    },
    {
      "cell_type": "code",
      "source": [
        "import seaborn as sns\n",
        "import matplotlib.pyplot as plt\n",
        "fig, axis=plt.subplots(2,2,figsize=(15,10))\n",
        "#direct bilirubin shows positive correlation with total bilirubin\n",
        "sns.scatterplot(x='Gender', y='Age', data=df, ax=axis[0,0])\n",
        "sns.scatterplot(x='Gender', y='Age', data=df, ax=axis[0,1])\n",
        "sns.scatterplot(x='Gender', y='Age', data=df, ax=axis[1,0])\n",
        "sns.scatterplot(x='Gender', y='Age', data=df, ax=axis[1,1])\n",
        "#linear positive correlation with coefficient as r=0.7 "
      ],
      "metadata": {
        "colab": {
          "base_uri": "https://localhost:8080/",
          "height": 623
        },
        "id": "365Uu3J9HkS8",
        "outputId": "4bed46d4-44d0-43ae-d1e1-9928aaaa68b8"
      },
      "execution_count": 7,
      "outputs": [
        {
          "output_type": "execute_result",
          "data": {
            "text/plain": [
              "<matplotlib.axes._subplots.AxesSubplot at 0x7faeddd12710>"
            ]
          },
          "metadata": {},
          "execution_count": 7
        },
        {
          "output_type": "display_data",
          "data": {
            "text/plain": [
              "<Figure size 1080x720 with 4 Axes>"
            ],
            "image/png": "[encoded data removed]"
          },
          "metadata": {
            "needs_background": "light"
          }
        }
      ]
    },
    {
      "cell_type": "code",
      "source": [
        "sns.scatterplot(x='Age', y='Annual Income (k$)', data=df)\n",
        "#non-linear negative correlation with coefficient as r=-1 "
      ],
      "metadata": {
        "colab": {
          "base_uri": "https://localhost:8080/",
          "height": 296
        },
        "id": "ktypb6sYH4ge",
        "outputId": "a4911f18-2076-49ed-8a62-a41026a5e2aa"
      },
      "execution_count": 8,
      "outputs": [
        {
          "output_type": "execute_result",
          "data": {
            "text/plain": [
              "<matplotlib.axes._subplots.AxesSubplot at 0x7faedde3b7d0>"
            ]
          },
          "metadata": {},
          "execution_count": 8
        },
        {
          "output_type": "display_data",
          "data": {
            "text/plain": [
              "<Figure size 432x288 with 1 Axes>"
            ],
            "image/png": "[encoded data removed]"
          },
          "metadata": {
            "needs_background": "light"
          }
        }
      ]
    },
    {
      "cell_type": "code",
      "source": [
        "import numpy as np\n",
        "import matplotlib.pyplot as plt\n",
        "def estimate_coef(x, y):\n",
        "  n = np.size(x)\n",
        "  m_x = np.mean(x)\n",
        "  m_y = np.mean(y)\n",
        "  # calculating cross-deviation and deviation about x\n",
        "  SS_xy = np.sum(y*x) - n*m_y*m_x\n",
        "  SS_xx = np.sum(x*x) - n*m_x*m_x\n",
        "  # calculating regression coefficients\n",
        "  b_1 = SS_xy / SS_xx\n",
        "  b_0 = m_y - b_1*m_x\n",
        "  return (b_0, b_1)\n",
        "def plot_regression_line(x, y, b):\n",
        "  # plotting the actual points as scatter plot\n",
        "  plt.scatter(x, y, color = \"m\",marker = \"o\", s = 30)\n",
        "  # predicted response vector\n",
        "  y_pred = b[0] + b[1]*x\n",
        "  # plotting the regression line\n",
        "  plt.plot(x, y_pred, color = \"g\")\n",
        "  plt.xlabel('x')\n",
        "  plt.ylabel('y')\n",
        "  plt.show()\n",
        "def main():\n",
        "  x = df['Age']\n",
        "  y = df['Spending Score (1-100)']\n",
        "  b = estimate_coef(x, y)\n",
        "  print(\"Estimated coefficients:\\nb_0 = {} \\\\nb_1 = {}\".format(b[0], b[1]))\n",
        "  plot_regression_line(x, y, b)\n",
        "if __name__ == \"__main__\":\n",
        "  main() "
      ],
      "metadata": {
        "colab": {
          "base_uri": "https://localhost:8080/",
          "height": 314
        },
        "id": "vY8G1v7_IAij",
        "outputId": "cc5c7fb5-eee1-4fc3-d867-df66b41da7a0"
      },
      "execution_count": 10,
      "outputs": [
        {
          "output_type": "stream",
          "name": "stdout",
          "text": [
            "Estimated coefficients:\n",
            "b_0 = 73.70119104335399 \\nb_1 = -0.6049212623771938\n"
          ]
        },
        {
          "output_type": "display_data",
          "data": {
            "text/plain": [
              "<Figure size 432x288 with 1 Axes>"
            ],
            "image/png": "[encoded data removed]"
          },
          "metadata": {
            "needs_background": "light"
          }
        }
      ]
    },
    {
      "cell_type": "code",
      "source": [
        "#Chi-square test\n",
        "from scipy.stats import chi2_contingency\n",
        "stat, p, dof, expected = chi2_contingency(df['Annual Income (k$)'])\n",
        "# interpret p-value\n",
        "alpha = 0.05\n",
        "print(\"p value is \" + str(p))\n",
        "if p <= alpha:\n",
        " print('Dependent (reject H0)')\n",
        "else:\n",
        " print('Independent (H0 holds true)') "
      ],
      "metadata": {
        "colab": {
          "base_uri": "https://localhost:8080/"
        },
        "id": "OPIGIuZcIQvh",
        "outputId": "a214e3e2-8d6f-4fe2-8f96-a9cb29a00373"
      },
      "execution_count": 11,
      "outputs": [
        {
          "output_type": "stream",
          "name": "stdout",
          "text": [
            "p value is 1.0\n",
            "Independent (H0 holds true)\n"
          ]
        }
      ]
    },
    {
      "cell_type": "markdown",
      "source": [
        "iii.Multivariate Analysis"
      ],
      "metadata": {
        "id": "PmTK0d8tIWlM"
      }
    },
    {
      "cell_type": "code",
      "source": [
        "sns.pairplot(df);"
      ],
      "metadata": {
        "colab": {
          "base_uri": "https://localhost:8080/",
          "height": 726
        },
        "id": "Hhl7JOQGIWD6",
        "outputId": "7f417370-6621-41e1-e6a5-6141eaabc876"
      },
      "execution_count": 12,
      "outputs": [
        {
          "output_type": "display_data",
          "data": {
            "text/plain": [
              "<Figure size 720x720 with 20 Axes>"
            ],
            "image/png": "[encoded data removed]"
          },
          "metadata": {
            "needs_background": "light"
          }
        }
      ]
    },
    {
      "cell_type": "code",
      "source": [
        "sns.set(font_scale=1.15)\n",
        "plt.figure(figsize=(15,15))\n",
        "sns.heatmap(\n",
        "    df.corr(),        \n",
        "    cmap='RdBu_r', \n",
        "    annot=True, \n",
        "    vmin=-1, vmax=1);"
      ],
      "metadata": {
        "colab": {
          "base_uri": "https://localhost:8080/",
          "height": 874
        },
        "id": "RmdHfx7hIoFe",
        "outputId": "ea12dc23-c8e4-425d-f5c1-7d6d930c13d8"
      },
      "execution_count": 13,
      "outputs": [
        {
          "output_type": "display_data",
          "data": {
            "text/plain": [
              "<Figure size 1080x1080 with 2 Axes>"
            ],
            "image/png": "[encoded data removed]"
          },
          "metadata": {}
        }
      ]
    },
    {
      "cell_type": "markdown",
      "source": [
        "4. DESCRIPTIVE STATISTICS"
      ],
      "metadata": {
        "id": "AmwF56dBItfD"
      }
    },
    {
      "cell_type": "code",
      "source": [
        "df.count()"
      ],
      "metadata": {
        "colab": {
          "base_uri": "https://localhost:8080/"
        },
        "id": "cv9vRDIUIq6p",
        "outputId": "6a7b997e-2812-473d-c11b-587d8cc0fcf3"
      },
      "execution_count": 14,
      "outputs": [
        {
          "output_type": "execute_result",
          "data": {
            "text/plain": [
              "CustomerID                200\n",
              "Gender                    200\n",
              "Age                       200\n",
              "Annual Income (k$)        200\n",
              "Spending Score (1-100)    200\n",
              "dtype: int64"
            ]
          },
          "metadata": {},
          "execution_count": 14
        }
      ]
    },
    {
      "cell_type": "code",
      "source": [
        "df['Annual Income (k$)'].sum()"
      ],
      "metadata": {
        "colab": {
          "base_uri": "https://localhost:8080/"
        },
        "id": "jVqaktveI0Lx",
        "outputId": "17936cfb-a04e-4f2e-8faf-19c578256cc6"
      },
      "execution_count": 15,
      "outputs": [
        {
          "output_type": "execute_result",
          "data": {
            "text/plain": [
              "12112"
            ]
          },
          "metadata": {},
          "execution_count": 15
        }
      ]
    },
    {
      "cell_type": "code",
      "source": [
        "df['Annual Income (k$)'].min()"
      ],
      "metadata": {
        "colab": {
          "base_uri": "https://localhost:8080/"
        },
        "id": "r6eEhfRHI8bd",
        "outputId": "644edbcf-c3de-46be-9b33-cfbbaf49a192"
      },
      "execution_count": 17,
      "outputs": [
        {
          "output_type": "execute_result",
          "data": {
            "text/plain": [
              "15"
            ]
          },
          "metadata": {},
          "execution_count": 17
        }
      ]
    },
    {
      "cell_type": "code",
      "source": [
        "df['Annual Income (k$)'].max()"
      ],
      "metadata": {
        "colab": {
          "base_uri": "https://localhost:8080/"
        },
        "id": "g7r_8sq0JAhf",
        "outputId": "4b49b845-0ff6-4c34-c1a7-03a1d9959ad9"
      },
      "execution_count": 18,
      "outputs": [
        {
          "output_type": "execute_result",
          "data": {
            "text/plain": [
              "137"
            ]
          },
          "metadata": {},
          "execution_count": 18
        }
      ]
    },
    {
      "cell_type": "code",
      "source": [
        "df['Spending Score (1-100)'].abs()"
      ],
      "metadata": {
        "colab": {
          "base_uri": "https://localhost:8080/"
        },
        "id": "kT_-i-dyJaz6",
        "outputId": "6f7a7f15-edb5-43b4-a3c9-9d90bdb34d4e"
      },
      "execution_count": 19,
      "outputs": [
        {
          "output_type": "execute_result",
          "data": {
            "text/plain": [
              "0      39\n",
              "1      81\n",
              "2       6\n",
              "3      77\n",
              "4      40\n",
              "       ..\n",
              "195    79\n",
              "196    28\n",
              "197    74\n",
              "198    18\n",
              "199    83\n",
              "Name: Spending Score (1-100), Length: 200, dtype: int64"
            ]
          },
          "metadata": {},
          "execution_count": 19
        }
      ]
    },
    {
      "cell_type": "code",
      "source": [
        "df['Annual Income (k$)'].prod()"
      ],
      "metadata": {
        "colab": {
          "base_uri": "https://localhost:8080/"
        },
        "id": "sxfBhChoJdiF",
        "outputId": "1866bb9d-5aef-410e-b667-4418dc115f53"
      },
      "execution_count": 20,
      "outputs": [
        {
          "output_type": "execute_result",
          "data": {
            "text/plain": [
              "0"
            ]
          },
          "metadata": {},
          "execution_count": 20
        }
      ]
    },
    {
      "cell_type": "code",
      "source": [
        "df['Annual Income (k$)'].cumprod()"
      ],
      "metadata": {
        "colab": {
          "base_uri": "https://localhost:8080/"
        },
        "id": "h2MQY4aYJjf-",
        "outputId": "e021ae6f-8911-439d-8b70-3b75e69432c4"
      },
      "execution_count": 21,
      "outputs": [
        {
          "output_type": "execute_result",
          "data": {
            "text/plain": [
              "0          15\n",
              "1         225\n",
              "2        3600\n",
              "3       57600\n",
              "4      979200\n",
              "        ...  \n",
              "195         0\n",
              "196         0\n",
              "197         0\n",
              "198         0\n",
              "199         0\n",
              "Name: Annual Income (k$), Length: 200, dtype: int64"
            ]
          },
          "metadata": {},
          "execution_count": 21
        }
      ]
    },
    {
      "cell_type": "code",
      "source": [
        "df['Annual Income (k$)'].cumsum()"
      ],
      "metadata": {
        "colab": {
          "base_uri": "https://localhost:8080/"
        },
        "id": "j064MpqnJniM",
        "outputId": "a2b1b64a-2993-4290-fc6f-f500b4d08599"
      },
      "execution_count": 22,
      "outputs": [
        {
          "output_type": "execute_result",
          "data": {
            "text/plain": [
              "0         15\n",
              "1         30\n",
              "2         46\n",
              "3         62\n",
              "4         79\n",
              "       ...  \n",
              "195    11586\n",
              "196    11712\n",
              "197    11838\n",
              "198    11975\n",
              "199    12112\n",
              "Name: Annual Income (k$), Length: 200, dtype: int64"
            ]
          },
          "metadata": {},
          "execution_count": 22
        }
      ]
    },
    {
      "cell_type": "markdown",
      "source": [
        "5. CHECK FOR MISSING VALUES AND DEAL WITH THEM"
      ],
      "metadata": {
        "id": "bkLuyMCkJt4J"
      }
    },
    {
      "cell_type": "code",
      "source": [
        "df.isnull().sum()"
      ],
      "metadata": {
        "colab": {
          "base_uri": "https://localhost:8080/"
        },
        "id": "NkCkmf33Jnsf",
        "outputId": "e956b114-1572-4cb8-c2ce-34b7f57e812c"
      },
      "execution_count": 23,
      "outputs": [
        {
          "output_type": "execute_result",
          "data": {
            "text/plain": [
              "CustomerID                0\n",
              "Gender                    0\n",
              "Age                       0\n",
              "Annual Income (k$)        0\n",
              "Spending Score (1-100)    0\n",
              "dtype: int64"
            ]
          },
          "metadata": {},
          "execution_count": 23
        }
      ]
    },
    {
      "cell_type": "markdown",
      "source": [
        "6. FIND THE OUTLIERS AND DEAL WITH THEM"
      ],
      "metadata": {
        "id": "gKsIKtQvKBw3"
      }
    },
    {
      "cell_type": "code",
      "source": [
        "Q1 = df.quantile(0.25)\n",
        "Q3 = df.quantile(0.75)\n",
        "IQR = Q3 - Q1\n",
        "print(IQR)"
      ],
      "metadata": {
        "colab": {
          "base_uri": "https://localhost:8080/"
        },
        "id": "5Z2331WxKJBD",
        "outputId": "27d06b67-9029-4743-ebb6-f16129e880d2"
      },
      "execution_count": 24,
      "outputs": [
        {
          "output_type": "stream",
          "name": "stdout",
          "text": [
            "CustomerID                99.50\n",
            "Age                       20.25\n",
            "Annual Income (k$)        36.50\n",
            "Spending Score (1-100)    38.25\n",
            "dtype: float64\n"
          ]
        }
      ]
    },
    {
      "cell_type": "code",
      "source": [
        "quantile = df.quantile(q = [0.75,0.25])\n",
        "quantile"
      ],
      "metadata": {
        "colab": {
          "base_uri": "https://localhost:8080/",
          "height": 112
        },
        "id": "6wTjjs5pKMlz",
        "outputId": "8b83aabf-2cbe-4d33-8ef8-a5208bed1bab"
      },
      "execution_count": 25,
      "outputs": [
        {
          "output_type": "execute_result",
          "data": {
            "text/plain": [
              "      CustomerID    Age  Annual Income (k$)  Spending Score (1-100)\n",
              "0.75      150.25  49.00                78.0                   73.00\n",
              "0.25       50.75  28.75                41.5                   34.75"
            ],
            "text/html": [
              "\n",
              "  <div id=\"df-fb5b70ae-0514-409c-b89f-171fbd727818\">\n",
              "    <div class=\"colab-df-container\">\n",
              "      <div>\n",
              "<style scoped>\n",
              "    .dataframe tbody tr th:only-of-type {\n",
              "        vertical-align: middle;\n",
              "    }\n",
              "\n",
              "    .dataframe tbody tr th {\n",
              "        vertical-align: top;\n",
              "    }\n",
              "\n",
              "    .dataframe thead th {\n",
              "        text-align: right;\n",
              "    }\n",
              "</style>\n",
              "<table border=\"1\" class=\"dataframe\">\n",
              "  <thead>\n",
              "    <tr style=\"text-align: right;\">\n",
              "      <th></th>\n",
              "      <th>CustomerID</th>\n",
              "      <th>Age</th>\n",
              "      <th>Annual Income (k$)</th>\n",
              "      <th>Spending Score (1-100)</th>\n",
              "    </tr>\n",
              "  </thead>\n",
              "  <tbody>\n",
              "    <tr>\n",
              "      <th>0.75</th>\n",
              "      <td>150.25</td>\n",
              "      <td>49.00</td>\n",
              "      <td>78.0</td>\n",
              "      <td>73.00</td>\n",
              "    </tr>\n",
              "    <tr>\n",
              "      <th>0.25</th>\n",
              "      <td>50.75</td>\n",
              "      <td>28.75</td>\n",
              "      <td>41.5</td>\n",
              "      <td>34.75</td>\n",
              "    </tr>\n",
              "  </tbody>\n",
              "</table>\n",
              "</div>\n",
              "      <button class=\"colab-df-convert\" onclick=\"convertToInteractive('df-fb5b70ae-0514-409c-b89f-171fbd727818')\"\n",
              "              title=\"Convert this dataframe to an interactive table.\"\n",
              "              style=\"display:none;\">\n",
              "        \n",
              "  <svg xmlns=\"http://www.w3.org/2000/svg\" height=\"24px\"viewBox=\"0 0 24 24\"\n",
              "       width=\"24px\">\n",
              "    <path d=\"M0 0h24v24H0V0z\" fill=\"none\"/>\n",
              "    <path d=\"M18.56 5.44l.94 2.06.94-2.06 2.06-.94-2.06-.94-.94-2.06-.94 2.06-2.06.94zm-11 1L8.5 8.5l.94-2.06 2.06-.94-2.06-.94L8.5 2.5l-.94 2.06-2.06.94zm10 10l.94 2.06.94-2.06 2.06-.94-2.06-.94-.94-2.06-.94 2.06-2.06.94z\"/><path d=\"M17.41 7.96l-1.37-1.37c-.4-.4-.92-.59-1.43-.59-.52 0-1.04.2-1.43.59L10.3 9.45l-7.72 7.72c-.78.78-.78 2.05 0 2.83L4 21.41c.39.39.9.59 1.41.59.51 0 1.02-.2 1.41-.59l7.78-7.78 2.81-2.81c.8-.78.8-2.07 0-2.86zM5.41 20L4 18.59l7.72-7.72 1.47 1.35L5.41 20z\"/>\n",
              "  </svg>\n",
              "      </button>\n",
              "      \n",
              "  <style>\n",
              "    .colab-df-container {\n",
              "      display:flex;\n",
              "      flex-wrap:wrap;\n",
              "      gap: 12px;\n",
              "    }\n",
              "\n",
              "    .colab-df-convert {\n",
              "      background-color: #E8F0FE;\n",
              "      border: none;\n",
              "      border-radius: 50%;\n",
              "      cursor: pointer;\n",
              "      display: none;\n",
              "      fill: #1967D2;\n",
              "      height: 32px;\n",
              "      padding: 0 0 0 0;\n",
              "      width: 32px;\n",
              "    }\n",
              "\n",
              "    .colab-df-convert:hover {\n",
              "      background-color: #E2EBFA;\n",
              "      box-shadow: 0px 1px 2px rgba(60, 64, 67, 0.3), 0px 1px 3px 1px rgba(60, 64, 67, 0.15);\n",
              "      fill: #174EA6;\n",
              "    }\n",
              "\n",
              "    [theme=dark] .colab-df-convert {\n",
              "      background-color: #3B4455;\n",
              "      fill: #D2E3FC;\n",
              "    }\n",
              "\n",
              "    [theme=dark] .colab-df-convert:hover {\n",
              "      background-color: #434B5C;\n",
              "      box-shadow: 0px 1px 3px 1px rgba(0, 0, 0, 0.15);\n",
              "      filter: drop-shadow(0px 1px 2px rgba(0, 0, 0, 0.3));\n",
              "      fill: #FFFFFF;\n",
              "    }\n",
              "  </style>\n",
              "\n",
              "      <script>\n",
              "        const buttonEl =\n",
              "          document.querySelector('#df-fb5b70ae-0514-409c-b89f-171fbd727818 button.colab-df-convert');\n",
              "        buttonEl.style.display =\n",
              "          google.colab.kernel.accessAllowed ? 'block' : 'none';\n",
              "\n",
              "        async function convertToInteractive(key) {\n",
              "          const element = document.querySelector('#df-fb5b70ae-0514-409c-b89f-171fbd727818');\n",
              "          const dataTable =\n",
              "            await google.colab.kernel.invokeFunction('convertToInteractive',\n",
              "                                                     [key], {});\n",
              "          if (!dataTable) return;\n",
              "\n",
              "          const docLinkHtml = 'Like what you see? Visit the ' +\n",
              "            '<a target=\"_blank\" href=https://colab.research.google.com/notebooks/data_table.ipynb>data table notebook</a>'\n",
              "            + ' to learn more about interactive tables.';\n",
              "          element.innerHTML = '';\n",
              "          dataTable['output_type'] = 'display_data';\n",
              "          await google.colab.output.renderOutput(dataTable, element);\n",
              "          const docLink = document.createElement('div');\n",
              "          docLink.innerHTML = docLinkHtml;\n",
              "          element.appendChild(docLink);\n",
              "        }\n",
              "      </script>\n",
              "    </div>\n",
              "  </div>\n",
              "  "
            ]
          },
          "metadata": {},
          "execution_count": 25
        }
      ]
    },
    {
      "cell_type": "code",
      "source": [
        "Upper_extreme = quantile.iloc[0] + (1.5*IQR)\n",
        "Upper_extreme"
      ],
      "metadata": {
        "colab": {
          "base_uri": "https://localhost:8080/"
        },
        "id": "SjsA_PsLKPLR",
        "outputId": "6415198b-a3d2-481f-8a41-c0b3c7420e58"
      },
      "execution_count": 26,
      "outputs": [
        {
          "output_type": "execute_result",
          "data": {
            "text/plain": [
              "CustomerID                299.500\n",
              "Age                        79.375\n",
              "Annual Income (k$)        132.750\n",
              "Spending Score (1-100)    130.375\n",
              "dtype: float64"
            ]
          },
          "metadata": {},
          "execution_count": 26
        }
      ]
    },
    {
      "cell_type": "code",
      "source": [
        "lower_extreme = quantile.iloc[1] - (1.5*IQR)\n",
        "lower_extreme"
      ],
      "metadata": {
        "colab": {
          "base_uri": "https://localhost:8080/"
        },
        "id": "6ocQ3TZOKR_7",
        "outputId": "8e69ba5a-c1c9-4378-bf99-ecfec8d3c5e4"
      },
      "execution_count": 27,
      "outputs": [
        {
          "output_type": "execute_result",
          "data": {
            "text/plain": [
              "CustomerID               -98.500\n",
              "Age                       -1.625\n",
              "Annual Income (k$)       -13.250\n",
              "Spending Score (1-100)   -22.625\n",
              "dtype: float64"
            ]
          },
          "metadata": {},
          "execution_count": 27
        }
      ]
    },
    {
      "cell_type": "markdown",
      "source": [
        "7. CHECK FOR CATEGORICAL VALUES AND ENCODE THEM"
      ],
      "metadata": {
        "id": "lt6JyeTlKeWE"
      }
    },
    {
      "cell_type": "code",
      "source": [
        "df[\"OHC_Code\"] = np.where(df[\"Gender\"].str.contains(\"ohc\"), 1, 0)"
      ],
      "metadata": {
        "id": "7K9H82CMKlCv"
      },
      "execution_count": 28,
      "outputs": []
    },
    {
      "cell_type": "code",
      "source": [
        "df[[\"Gender\", \"Age\"]].head()"
      ],
      "metadata": {
        "colab": {
          "base_uri": "https://localhost:8080/",
          "height": 206
        },
        "id": "jftMz7qUKor8",
        "outputId": "db6a1546-a587-44a9-abaa-23d6a979d6cf"
      },
      "execution_count": 29,
      "outputs": [
        {
          "output_type": "execute_result",
          "data": {
            "text/plain": [
              "   Gender  Age\n",
              "0    Male   19\n",
              "1    Male   21\n",
              "2  Female   20\n",
              "3  Female   23\n",
              "4  Female   31"
            ],
            "text/html": [
              "\n",
              "  <div id=\"df-fd454599-9c5a-403b-9eef-8d8c1e24c292\">\n",
              "    <div class=\"colab-df-container\">\n",
              "      <div>\n",
              "<style scoped>\n",
              "    .dataframe tbody tr th:only-of-type {\n",
              "        vertical-align: middle;\n",
              "    }\n",
              "\n",
              "    .dataframe tbody tr th {\n",
              "        vertical-align: top;\n",
              "    }\n",
              "\n",
              "    .dataframe thead th {\n",
              "        text-align: right;\n",
              "    }\n",
              "</style>\n",
              "<table border=\"1\" class=\"dataframe\">\n",
              "  <thead>\n",
              "    <tr style=\"text-align: right;\">\n",
              "      <th></th>\n",
              "      <th>Gender</th>\n",
              "      <th>Age</th>\n",
              "    </tr>\n",
              "  </thead>\n",
              "  <tbody>\n",
              "    <tr>\n",
              "      <th>0</th>\n",
              "      <td>Male</td>\n",
              "      <td>19</td>\n",
              "    </tr>\n",
              "    <tr>\n",
              "      <th>1</th>\n",
              "      <td>Male</td>\n",
              "      <td>21</td>\n",
              "    </tr>\n",
              "    <tr>\n",
              "      <th>2</th>\n",
              "      <td>Female</td>\n",
              "      <td>20</td>\n",
              "    </tr>\n",
              "    <tr>\n",
              "      <th>3</th>\n",
              "      <td>Female</td>\n",
              "      <td>23</td>\n",
              "    </tr>\n",
              "    <tr>\n",
              "      <th>4</th>\n",
              "      <td>Female</td>\n",
              "      <td>31</td>\n",
              "    </tr>\n",
              "  </tbody>\n",
              "</table>\n",
              "</div>\n",
              "      <button class=\"colab-df-convert\" onclick=\"convertToInteractive('df-fd454599-9c5a-403b-9eef-8d8c1e24c292')\"\n",
              "              title=\"Convert this dataframe to an interactive table.\"\n",
              "              style=\"display:none;\">\n",
              "        \n",
              "  <svg xmlns=\"http://www.w3.org/2000/svg\" height=\"24px\"viewBox=\"0 0 24 24\"\n",
              "       width=\"24px\">\n",
              "    <path d=\"M0 0h24v24H0V0z\" fill=\"none\"/>\n",
              "    <path d=\"M18.56 5.44l.94 2.06.94-2.06 2.06-.94-2.06-.94-.94-2.06-.94 2.06-2.06.94zm-11 1L8.5 8.5l.94-2.06 2.06-.94-2.06-.94L8.5 2.5l-.94 2.06-2.06.94zm10 10l.94 2.06.94-2.06 2.06-.94-2.06-.94-.94-2.06-.94 2.06-2.06.94z\"/><path d=\"M17.41 7.96l-1.37-1.37c-.4-.4-.92-.59-1.43-.59-.52 0-1.04.2-1.43.59L10.3 9.45l-7.72 7.72c-.78.78-.78 2.05 0 2.83L4 21.41c.39.39.9.59 1.41.59.51 0 1.02-.2 1.41-.59l7.78-7.78 2.81-2.81c.8-.78.8-2.07 0-2.86zM5.41 20L4 18.59l7.72-7.72 1.47 1.35L5.41 20z\"/>\n",
              "  </svg>\n",
              "      </button>\n",
              "      \n",
              "  <style>\n",
              "    .colab-df-container {\n",
              "      display:flex;\n",
              "      flex-wrap:wrap;\n",
              "      gap: 12px;\n",
              "    }\n",
              "\n",
              "    .colab-df-convert {\n",
              "      background-color: #E8F0FE;\n",
              "      border: none;\n",
              "      border-radius: 50%;\n",
              "      cursor: pointer;\n",
              "      display: none;\n",
              "      fill: #1967D2;\n",
              "      height: 32px;\n",
              "      padding: 0 0 0 0;\n",
              "      width: 32px;\n",
              "    }\n",
              "\n",
              "    .colab-df-convert:hover {\n",
              "      background-color: #E2EBFA;\n",
              "      box-shadow: 0px 1px 2px rgba(60, 64, 67, 0.3), 0px 1px 3px 1px rgba(60, 64, 67, 0.15);\n",
              "      fill: #174EA6;\n",
              "    }\n",
              "\n",
              "    [theme=dark] .colab-df-convert {\n",
              "      background-color: #3B4455;\n",
              "      fill: #D2E3FC;\n",
              "    }\n",
              "\n",
              "    [theme=dark] .colab-df-convert:hover {\n",
              "      background-color: #434B5C;\n",
              "      box-shadow: 0px 1px 3px 1px rgba(0, 0, 0, 0.15);\n",
              "      filter: drop-shadow(0px 1px 2px rgba(0, 0, 0, 0.3));\n",
              "      fill: #FFFFFF;\n",
              "    }\n",
              "  </style>\n",
              "\n",
              "      <script>\n",
              "        const buttonEl =\n",
              "          document.querySelector('#df-fd454599-9c5a-403b-9eef-8d8c1e24c292 button.colab-df-convert');\n",
              "        buttonEl.style.display =\n",
              "          google.colab.kernel.accessAllowed ? 'block' : 'none';\n",
              "\n",
              "        async function convertToInteractive(key) {\n",
              "          const element = document.querySelector('#df-fd454599-9c5a-403b-9eef-8d8c1e24c292');\n",
              "          const dataTable =\n",
              "            await google.colab.kernel.invokeFunction('convertToInteractive',\n",
              "                                                     [key], {});\n",
              "          if (!dataTable) return;\n",
              "\n",
              "          const docLinkHtml = 'Like what you see? Visit the ' +\n",
              "            '<a target=\"_blank\" href=https://colab.research.google.com/notebooks/data_table.ipynb>data table notebook</a>'\n",
              "            + ' to learn more about interactive tables.';\n",
              "          element.innerHTML = '';\n",
              "          dataTable['output_type'] = 'display_data';\n",
              "          await google.colab.output.renderOutput(dataTable, element);\n",
              "          const docLink = document.createElement('div');\n",
              "          docLink.innerHTML = docLinkHtml;\n",
              "          element.appendChild(docLink);\n",
              "        }\n",
              "      </script>\n",
              "    </div>\n",
              "  </div>\n",
              "  "
            ]
          },
          "metadata": {},
          "execution_count": 29
        }
      ]
    },
    {
      "cell_type": "code",
      "source": [
        "from sklearn.preprocessing import LabelEncoder\n",
        "lab = LabelEncoder()\n",
        "df.Gender = lab.fit_transform(df.Gender)\n",
        "df.head()"
      ],
      "metadata": {
        "colab": {
          "base_uri": "https://localhost:8080/",
          "height": 206
        },
        "id": "91oRfm_HKxsx",
        "outputId": "22643483-8aee-40eb-a5a7-3991159c70dd"
      },
      "execution_count": 30,
      "outputs": [
        {
          "output_type": "execute_result",
          "data": {
            "text/plain": [
              "   CustomerID  Gender  Age  Annual Income (k$)  Spending Score (1-100)  \\\n",
              "0           1       1   19                  15                      39   \n",
              "1           2       1   21                  15                      81   \n",
              "2           3       0   20                  16                       6   \n",
              "3           4       0   23                  16                      77   \n",
              "4           5       0   31                  17                      40   \n",
              "\n",
              "   OHC_Code  \n",
              "0         0  \n",
              "1         0  \n",
              "2         0  \n",
              "3         0  \n",
              "4         0  "
            ],
            "text/html": [
              "\n",
              "  <div id=\"df-35d392d4-4cf1-455f-9717-5e18be34724a\">\n",
              "    <div class=\"colab-df-container\">\n",
              "      <div>\n",
              "<style scoped>\n",
              "    .dataframe tbody tr th:only-of-type {\n",
              "        vertical-align: middle;\n",
              "    }\n",
              "\n",
              "    .dataframe tbody tr th {\n",
              "        vertical-align: top;\n",
              "    }\n",
              "\n",
              "    .dataframe thead th {\n",
              "        text-align: right;\n",
              "    }\n",
              "</style>\n",
              "<table border=\"1\" class=\"dataframe\">\n",
              "  <thead>\n",
              "    <tr style=\"text-align: right;\">\n",
              "      <th></th>\n",
              "      <th>CustomerID</th>\n",
              "      <th>Gender</th>\n",
              "      <th>Age</th>\n",
              "      <th>Annual Income (k$)</th>\n",
              "      <th>Spending Score (1-100)</th>\n",
              "      <th>OHC_Code</th>\n",
              "    </tr>\n",
              "  </thead>\n",
              "  <tbody>\n",
              "    <tr>\n",
              "      <th>0</th>\n",
              "      <td>1</td>\n",
              "      <td>1</td>\n",
              "      <td>19</td>\n",
              "      <td>15</td>\n",
              "      <td>39</td>\n",
              "      <td>0</td>\n",
              "    </tr>\n",
              "    <tr>\n",
              "      <th>1</th>\n",
              "      <td>2</td>\n",
              "      <td>1</td>\n",
              "      <td>21</td>\n",
              "      <td>15</td>\n",
              "      <td>81</td>\n",
              "      <td>0</td>\n",
              "    </tr>\n",
              "    <tr>\n",
              "      <th>2</th>\n",
              "      <td>3</td>\n",
              "      <td>0</td>\n",
              "      <td>20</td>\n",
              "      <td>16</td>\n",
              "      <td>6</td>\n",
              "      <td>0</td>\n",
              "    </tr>\n",
              "    <tr>\n",
              "      <th>3</th>\n",
              "      <td>4</td>\n",
              "      <td>0</td>\n",
              "      <td>23</td>\n",
              "      <td>16</td>\n",
              "      <td>77</td>\n",
              "      <td>0</td>\n",
              "    </tr>\n",
              "    <tr>\n",
              "      <th>4</th>\n",
              "      <td>5</td>\n",
              "      <td>0</td>\n",
              "      <td>31</td>\n",
              "      <td>17</td>\n",
              "      <td>40</td>\n",
              "      <td>0</td>\n",
              "    </tr>\n",
              "  </tbody>\n",
              "</table>\n",
              "</div>\n",
              "      <button class=\"colab-df-convert\" onclick=\"convertToInteractive('df-35d392d4-4cf1-455f-9717-5e18be34724a')\"\n",
              "              title=\"Convert this dataframe to an interactive table.\"\n",
              "              style=\"display:none;\">\n",
              "        \n",
              "  <svg xmlns=\"http://www.w3.org/2000/svg\" height=\"24px\"viewBox=\"0 0 24 24\"\n",
              "       width=\"24px\">\n",
              "    <path d=\"M0 0h24v24H0V0z\" fill=\"none\"/>\n",
              "    <path d=\"M18.56 5.44l.94 2.06.94-2.06 2.06-.94-2.06-.94-.94-2.06-.94 2.06-2.06.94zm-11 1L8.5 8.5l.94-2.06 2.06-.94-2.06-.94L8.5 2.5l-.94 2.06-2.06.94zm10 10l.94 2.06.94-2.06 2.06-.94-2.06-.94-.94-2.06-.94 2.06-2.06.94z\"/><path d=\"M17.41 7.96l-1.37-1.37c-.4-.4-.92-.59-1.43-.59-.52 0-1.04.2-1.43.59L10.3 9.45l-7.72 7.72c-.78.78-.78 2.05 0 2.83L4 21.41c.39.39.9.59 1.41.59.51 0 1.02-.2 1.41-.59l7.78-7.78 2.81-2.81c.8-.78.8-2.07 0-2.86zM5.41 20L4 18.59l7.72-7.72 1.47 1.35L5.41 20z\"/>\n",
              "  </svg>\n",
              "      </button>\n",
              "      \n",
              "  <style>\n",
              "    .colab-df-container {\n",
              "      display:flex;\n",
              "      flex-wrap:wrap;\n",
              "      gap: 12px;\n",
              "    }\n",
              "\n",
              "    .colab-df-convert {\n",
              "      background-color: #E8F0FE;\n",
              "      border: none;\n",
              "      border-radius: 50%;\n",
              "      cursor: pointer;\n",
              "      display: none;\n",
              "      fill: #1967D2;\n",
              "      height: 32px;\n",
              "      padding: 0 0 0 0;\n",
              "      width: 32px;\n",
              "    }\n",
              "\n",
              "    .colab-df-convert:hover {\n",
              "      background-color: #E2EBFA;\n",
              "      box-shadow: 0px 1px 2px rgba(60, 64, 67, 0.3), 0px 1px 3px 1px rgba(60, 64, 67, 0.15);\n",
              "      fill: #174EA6;\n",
              "    }\n",
              "\n",
              "    [theme=dark] .colab-df-convert {\n",
              "      background-color: #3B4455;\n",
              "      fill: #D2E3FC;\n",
              "    }\n",
              "\n",
              "    [theme=dark] .colab-df-convert:hover {\n",
              "      background-color: #434B5C;\n",
              "      box-shadow: 0px 1px 3px 1px rgba(0, 0, 0, 0.15);\n",
              "      filter: drop-shadow(0px 1px 2px rgba(0, 0, 0, 0.3));\n",
              "      fill: #FFFFFF;\n",
              "    }\n",
              "  </style>\n",
              "\n",
              "      <script>\n",
              "        const buttonEl =\n",
              "          document.querySelector('#df-35d392d4-4cf1-455f-9717-5e18be34724a button.colab-df-convert');\n",
              "        buttonEl.style.display =\n",
              "          google.colab.kernel.accessAllowed ? 'block' : 'none';\n",
              "\n",
              "        async function convertToInteractive(key) {\n",
              "          const element = document.querySelector('#df-35d392d4-4cf1-455f-9717-5e18be34724a');\n",
              "          const dataTable =\n",
              "            await google.colab.kernel.invokeFunction('convertToInteractive',\n",
              "                                                     [key], {});\n",
              "          if (!dataTable) return;\n",
              "\n",
              "          const docLinkHtml = 'Like what you see? Visit the ' +\n",
              "            '<a target=\"_blank\" href=https://colab.research.google.com/notebooks/data_table.ipynb>data table notebook</a>'\n",
              "            + ' to learn more about interactive tables.';\n",
              "          element.innerHTML = '';\n",
              "          dataTable['output_type'] = 'display_data';\n",
              "          await google.colab.output.renderOutput(dataTable, element);\n",
              "          const docLink = document.createElement('div');\n",
              "          docLink.innerHTML = docLinkHtml;\n",
              "          element.appendChild(docLink);\n",
              "        }\n",
              "      </script>\n",
              "    </div>\n",
              "  </div>\n",
              "  "
            ]
          },
          "metadata": {},
          "execution_count": 30
        }
      ]
    },
    {
      "cell_type": "code",
      "source": [
        "categorical_values  = (df.dtypes == 'object')\n",
        "categorical_variables = categorical_variables =[categorical_values.index[ind] \n",
        "for ind, val in enumerate(categorical_values) if val == True]"
      ],
      "metadata": {
        "id": "9PakxRmUK0nS"
      },
      "execution_count": 31,
      "outputs": []
    },
    {
      "cell_type": "code",
      "source": [
        "for types in df.dtypes.unique():\n",
        "    print(types)\n",
        "    print(df.select_dtypes(types).columns)"
      ],
      "metadata": {
        "colab": {
          "base_uri": "https://localhost:8080/"
        },
        "id": "8cQzyKGiK3xQ",
        "outputId": "0b3ad63d-71d5-4ff5-898e-f8e91a687e7a"
      },
      "execution_count": 32,
      "outputs": [
        {
          "output_type": "stream",
          "name": "stdout",
          "text": [
            "int64\n",
            "Index(['CustomerID', 'Gender', 'Age', 'Annual Income (k$)',\n",
            "       'Spending Score (1-100)', 'OHC_Code'],\n",
            "      dtype='object')\n"
          ]
        }
      ]
    },
    {
      "cell_type": "markdown",
      "source": [
        "8. SPLIT THE DATA INTO INDEPENDENT AND DEPENDENT VARIABLES"
      ],
      "metadata": {
        "id": "s4INeN36K9QF"
      }
    },
    {
      "cell_type": "code",
      "source": [
        "X = df.drop(\"Spending Score (1-100)\",axis=1)\n",
        "Y = df['Spending Score (1-100)']"
      ],
      "metadata": {
        "id": "P9URpQeiLDMx"
      },
      "execution_count": 40,
      "outputs": []
    },
    {
      "cell_type": "code",
      "source": [
        "X[:5]"
      ],
      "metadata": {
        "colab": {
          "base_uri": "https://localhost:8080/",
          "height": 206
        },
        "id": "8pVamgXOLFoP",
        "outputId": "fe8c5118-8739-496a-a09b-517ec51e94dd"
      },
      "execution_count": 41,
      "outputs": [
        {
          "output_type": "execute_result",
          "data": {
            "text/plain": [
              "   CustomerID  Gender  Age  Annual Income (k$)  OHC_Code\n",
              "0           1       1   19                  15         0\n",
              "1           2       1   21                  15         0\n",
              "2           3       0   20                  16         0\n",
              "3           4       0   23                  16         0\n",
              "4           5       0   31                  17         0"
            ],
            "text/html": [
              "\n",
              "  <div id=\"df-85cc389d-33d4-4325-b49d-4d4f91e96075\">\n",
              "    <div class=\"colab-df-container\">\n",
              "      <div>\n",
              "<style scoped>\n",
              "    .dataframe tbody tr th:only-of-type {\n",
              "        vertical-align: middle;\n",
              "    }\n",
              "\n",
              "    .dataframe tbody tr th {\n",
              "        vertical-align: top;\n",
              "    }\n",
              "\n",
              "    .dataframe thead th {\n",
              "        text-align: right;\n",
              "    }\n",
              "</style>\n",
              "<table border=\"1\" class=\"dataframe\">\n",
              "  <thead>\n",
              "    <tr style=\"text-align: right;\">\n",
              "      <th></th>\n",
              "      <th>CustomerID</th>\n",
              "      <th>Gender</th>\n",
              "      <th>Age</th>\n",
              "      <th>Annual Income (k$)</th>\n",
              "      <th>OHC_Code</th>\n",
              "    </tr>\n",
              "  </thead>\n",
              "  <tbody>\n",
              "    <tr>\n",
              "      <th>0</th>\n",
              "      <td>1</td>\n",
              "      <td>1</td>\n",
              "      <td>19</td>\n",
              "      <td>15</td>\n",
              "      <td>0</td>\n",
              "    </tr>\n",
              "    <tr>\n",
              "      <th>1</th>\n",
              "      <td>2</td>\n",
              "      <td>1</td>\n",
              "      <td>21</td>\n",
              "      <td>15</td>\n",
              "      <td>0</td>\n",
              "    </tr>\n",
              "    <tr>\n",
              "      <th>2</th>\n",
              "      <td>3</td>\n",
              "      <td>0</td>\n",
              "      <td>20</td>\n",
              "      <td>16</td>\n",
              "      <td>0</td>\n",
              "    </tr>\n",
              "    <tr>\n",
              "      <th>3</th>\n",
              "      <td>4</td>\n",
              "      <td>0</td>\n",
              "      <td>23</td>\n",
              "      <td>16</td>\n",
              "      <td>0</td>\n",
              "    </tr>\n",
              "    <tr>\n",
              "      <th>4</th>\n",
              "      <td>5</td>\n",
              "      <td>0</td>\n",
              "      <td>31</td>\n",
              "      <td>17</td>\n",
              "      <td>0</td>\n",
              "    </tr>\n",
              "  </tbody>\n",
              "</table>\n",
              "</div>\n",
              "      <button class=\"colab-df-convert\" onclick=\"convertToInteractive('df-85cc389d-33d4-4325-b49d-4d4f91e96075')\"\n",
              "              title=\"Convert this dataframe to an interactive table.\"\n",
              "              style=\"display:none;\">\n",
              "        \n",
              "  <svg xmlns=\"http://www.w3.org/2000/svg\" height=\"24px\"viewBox=\"0 0 24 24\"\n",
              "       width=\"24px\">\n",
              "    <path d=\"M0 0h24v24H0V0z\" fill=\"none\"/>\n",
              "    <path d=\"M18.56 5.44l.94 2.06.94-2.06 2.06-.94-2.06-.94-.94-2.06-.94 2.06-2.06.94zm-11 1L8.5 8.5l.94-2.06 2.06-.94-2.06-.94L8.5 2.5l-.94 2.06-2.06.94zm10 10l.94 2.06.94-2.06 2.06-.94-2.06-.94-.94-2.06-.94 2.06-2.06.94z\"/><path d=\"M17.41 7.96l-1.37-1.37c-.4-.4-.92-.59-1.43-.59-.52 0-1.04.2-1.43.59L10.3 9.45l-7.72 7.72c-.78.78-.78 2.05 0 2.83L4 21.41c.39.39.9.59 1.41.59.51 0 1.02-.2 1.41-.59l7.78-7.78 2.81-2.81c.8-.78.8-2.07 0-2.86zM5.41 20L4 18.59l7.72-7.72 1.47 1.35L5.41 20z\"/>\n",
              "  </svg>\n",
              "      </button>\n",
              "      \n",
              "  <style>\n",
              "    .colab-df-container {\n",
              "      display:flex;\n",
              "      flex-wrap:wrap;\n",
              "      gap: 12px;\n",
              "    }\n",
              "\n",
              "    .colab-df-convert {\n",
              "      background-color: #E8F0FE;\n",
              "      border: none;\n",
              "      border-radius: 50%;\n",
              "      cursor: pointer;\n",
              "      display: none;\n",
              "      fill: #1967D2;\n",
              "      height: 32px;\n",
              "      padding: 0 0 0 0;\n",
              "      width: 32px;\n",
              "    }\n",
              "\n",
              "    .colab-df-convert:hover {\n",
              "      background-color: #E2EBFA;\n",
              "      box-shadow: 0px 1px 2px rgba(60, 64, 67, 0.3), 0px 1px 3px 1px rgba(60, 64, 67, 0.15);\n",
              "      fill: #174EA6;\n",
              "    }\n",
              "\n",
              "    [theme=dark] .colab-df-convert {\n",
              "      background-color: #3B4455;\n",
              "      fill: #D2E3FC;\n",
              "    }\n",
              "\n",
              "    [theme=dark] .colab-df-convert:hover {\n",
              "      background-color: #434B5C;\n",
              "      box-shadow: 0px 1px 3px 1px rgba(0, 0, 0, 0.15);\n",
              "      filter: drop-shadow(0px 1px 2px rgba(0, 0, 0, 0.3));\n",
              "      fill: #FFFFFF;\n",
              "    }\n",
              "  </style>\n",
              "\n",
              "      <script>\n",
              "        const buttonEl =\n",
              "          document.querySelector('#df-85cc389d-33d4-4325-b49d-4d4f91e96075 button.colab-df-convert');\n",
              "        buttonEl.style.display =\n",
              "          google.colab.kernel.accessAllowed ? 'block' : 'none';\n",
              "\n",
              "        async function convertToInteractive(key) {\n",
              "          const element = document.querySelector('#df-85cc389d-33d4-4325-b49d-4d4f91e96075');\n",
              "          const dataTable =\n",
              "            await google.colab.kernel.invokeFunction('convertToInteractive',\n",
              "                                                     [key], {});\n",
              "          if (!dataTable) return;\n",
              "\n",
              "          const docLinkHtml = 'Like what you see? Visit the ' +\n",
              "            '<a target=\"_blank\" href=https://colab.research.google.com/notebooks/data_table.ipynb>data table notebook</a>'\n",
              "            + ' to learn more about interactive tables.';\n",
              "          element.innerHTML = '';\n",
              "          dataTable['output_type'] = 'display_data';\n",
              "          await google.colab.output.renderOutput(dataTable, element);\n",
              "          const docLink = document.createElement('div');\n",
              "          docLink.innerHTML = docLinkHtml;\n",
              "          element.appendChild(docLink);\n",
              "        }\n",
              "      </script>\n",
              "    </div>\n",
              "  </div>\n",
              "  "
            ]
          },
          "metadata": {},
          "execution_count": 41
        }
      ]
    },
    {
      "cell_type": "code",
      "source": [
        "Y[:5]"
      ],
      "metadata": {
        "colab": {
          "base_uri": "https://localhost:8080/"
        },
        "id": "scXxJsm2cv6k",
        "outputId": "45a1ba9d-44cb-4028-aff9-b5788e104db9"
      },
      "execution_count": 42,
      "outputs": [
        {
          "output_type": "execute_result",
          "data": {
            "text/plain": [
              "0    39\n",
              "1    81\n",
              "2     6\n",
              "3    77\n",
              "4    40\n",
              "Name: Spending Score (1-100), dtype: int64"
            ]
          },
          "metadata": {},
          "execution_count": 42
        }
      ]
    },
    {
      "cell_type": "markdown",
      "source": [
        "9. SCALE THE INDEPENDENT VARIABLES"
      ],
      "metadata": {
        "id": "EU2R4X1LLHrX"
      }
    },
    {
      "cell_type": "code",
      "source": [
        "from sklearn.preprocessing import StandardScaler\n",
        "object= StandardScaler()\n",
        "scale = object.fit_transform(X) \n",
        "print(scale)"
      ],
      "metadata": {
        "colab": {
          "base_uri": "https://localhost:8080/"
        },
        "id": "lndXJHhILaD8",
        "outputId": "ffa388b6-3ddd-41a2-8ebf-3e7fad56d0c4"
      },
      "execution_count": 43,
      "outputs": [
        {
          "output_type": "stream",
          "name": "stdout",
          "text": [
            "[[-1.7234121   1.12815215 -1.42456879 -1.73899919  0.        ]\n",
            " [-1.70609137  1.12815215 -1.28103541 -1.73899919  0.        ]\n",
            " [-1.68877065 -0.88640526 -1.3528021  -1.70082976  0.        ]\n",
            " [-1.67144992 -0.88640526 -1.13750203 -1.70082976  0.        ]\n",
            " [-1.6541292  -0.88640526 -0.56336851 -1.66266033  0.        ]\n",
            " [-1.63680847 -0.88640526 -1.20926872 -1.66266033  0.        ]\n",
            " [-1.61948775 -0.88640526 -0.27630176 -1.62449091  0.        ]\n",
            " [-1.60216702 -0.88640526 -1.13750203 -1.62449091  0.        ]\n",
            " [-1.5848463   1.12815215  1.80493225 -1.58632148  0.        ]\n",
            " [-1.56752558 -0.88640526 -0.6351352  -1.58632148  0.        ]\n",
            " [-1.55020485  1.12815215  2.02023231 -1.58632148  0.        ]\n",
            " [-1.53288413 -0.88640526 -0.27630176 -1.58632148  0.        ]\n",
            " [-1.5155634  -0.88640526  1.37433211 -1.54815205  0.        ]\n",
            " [-1.49824268 -0.88640526 -1.06573534 -1.54815205  0.        ]\n",
            " [-1.48092195  1.12815215 -0.13276838 -1.54815205  0.        ]\n",
            " [-1.46360123  1.12815215 -1.20926872 -1.54815205  0.        ]\n",
            " [-1.4462805  -0.88640526 -0.27630176 -1.50998262  0.        ]\n",
            " [-1.42895978  1.12815215 -1.3528021  -1.50998262  0.        ]\n",
            " [-1.41163905  1.12815215  0.94373197 -1.43364376  0.        ]\n",
            " [-1.39431833 -0.88640526 -0.27630176 -1.43364376  0.        ]\n",
            " [-1.3769976   1.12815215 -0.27630176 -1.39547433  0.        ]\n",
            " [-1.35967688  1.12815215 -0.99396865 -1.39547433  0.        ]\n",
            " [-1.34235616 -0.88640526  0.51313183 -1.3573049   0.        ]\n",
            " [-1.32503543  1.12815215 -0.56336851 -1.3573049   0.        ]\n",
            " [-1.30771471 -0.88640526  1.08726535 -1.24279661  0.        ]\n",
            " [-1.29039398  1.12815215 -0.70690189 -1.24279661  0.        ]\n",
            " [-1.27307326 -0.88640526  0.44136514 -1.24279661  0.        ]\n",
            " [-1.25575253  1.12815215 -0.27630176 -1.24279661  0.        ]\n",
            " [-1.23843181 -0.88640526  0.08253169 -1.20462718  0.        ]\n",
            " [-1.22111108 -0.88640526 -1.13750203 -1.20462718  0.        ]\n",
            " [-1.20379036  1.12815215  1.51786549 -1.16645776  0.        ]\n",
            " [-1.18646963 -0.88640526 -1.28103541 -1.16645776  0.        ]\n",
            " [-1.16914891  1.12815215  1.01549866 -1.05194947  0.        ]\n",
            " [-1.15182818  1.12815215 -1.49633548 -1.05194947  0.        ]\n",
            " [-1.13450746 -0.88640526  0.7284319  -1.05194947  0.        ]\n",
            " [-1.11718674 -0.88640526 -1.28103541 -1.05194947  0.        ]\n",
            " [-1.09986601 -0.88640526  0.22606507 -1.01378004  0.        ]\n",
            " [-1.08254529 -0.88640526 -0.6351352  -1.01378004  0.        ]\n",
            " [-1.06522456 -0.88640526 -0.20453507 -0.89927175  0.        ]\n",
            " [-1.04790384 -0.88640526 -1.3528021  -0.89927175  0.        ]\n",
            " [-1.03058311 -0.88640526  1.87669894 -0.86110232  0.        ]\n",
            " [-1.01326239  1.12815215 -1.06573534 -0.86110232  0.        ]\n",
            " [-0.99594166  1.12815215  0.65666521 -0.82293289  0.        ]\n",
            " [-0.97862094 -0.88640526 -0.56336851 -0.82293289  0.        ]\n",
            " [-0.96130021 -0.88640526  0.7284319  -0.82293289  0.        ]\n",
            " [-0.94397949 -0.88640526 -1.06573534 -0.82293289  0.        ]\n",
            " [-0.92665877 -0.88640526  0.80019859 -0.78476346  0.        ]\n",
            " [-0.90933804 -0.88640526 -0.85043527 -0.78476346  0.        ]\n",
            " [-0.89201732 -0.88640526 -0.70690189 -0.78476346  0.        ]\n",
            " [-0.87469659 -0.88640526 -0.56336851 -0.78476346  0.        ]\n",
            " [-0.85737587 -0.88640526  0.7284319  -0.70842461  0.        ]\n",
            " [-0.84005514  1.12815215 -0.41983513 -0.70842461  0.        ]\n",
            " [-0.82273442 -0.88640526 -0.56336851 -0.67025518  0.        ]\n",
            " [-0.80541369  1.12815215  1.4460988  -0.67025518  0.        ]\n",
            " [-0.78809297 -0.88640526  0.80019859 -0.67025518  0.        ]\n",
            " [-0.77077224  1.12815215  0.58489852 -0.67025518  0.        ]\n",
            " [-0.75345152 -0.88640526  0.87196528 -0.63208575  0.        ]\n",
            " [-0.73613079  1.12815215  2.16376569 -0.63208575  0.        ]\n",
            " [-0.71881007 -0.88640526 -0.85043527 -0.55574689  0.        ]\n",
            " [-0.70148935  1.12815215  1.01549866 -0.55574689  0.        ]\n",
            " [-0.68416862  1.12815215  2.23553238 -0.55574689  0.        ]\n",
            " [-0.6668479   1.12815215 -1.42456879 -0.55574689  0.        ]\n",
            " [-0.64952717 -0.88640526  2.02023231 -0.51757746  0.        ]\n",
            " [-0.63220645 -0.88640526  1.08726535 -0.51757746  0.        ]\n",
            " [-0.61488572  1.12815215  1.73316556 -0.47940803  0.        ]\n",
            " [-0.597565    1.12815215 -1.49633548 -0.47940803  0.        ]\n",
            " [-0.58024427 -0.88640526  0.29783176 -0.47940803  0.        ]\n",
            " [-0.56292355 -0.88640526  2.091999   -0.47940803  0.        ]\n",
            " [-0.54560282  1.12815215 -1.42456879 -0.47940803  0.        ]\n",
            " [-0.5282821  -0.88640526 -0.49160182 -0.47940803  0.        ]\n",
            " [-0.51096138  1.12815215  2.23553238 -0.4412386   0.        ]\n",
            " [-0.49364065 -0.88640526  0.58489852 -0.4412386   0.        ]\n",
            " [-0.47631993 -0.88640526  1.51786549 -0.40306917  0.        ]\n",
            " [-0.4589992  -0.88640526  1.51786549 -0.40306917  0.        ]\n",
            " [-0.44167848  1.12815215  1.4460988  -0.25039146  0.        ]\n",
            " [-0.42435775  1.12815215 -0.92220196 -0.25039146  0.        ]\n",
            " [-0.40703703 -0.88640526  0.44136514 -0.25039146  0.        ]\n",
            " [-0.3897163   1.12815215  0.08253169 -0.25039146  0.        ]\n",
            " [-0.37239558 -0.88640526 -1.13750203 -0.25039146  0.        ]\n",
            " [-0.35507485 -0.88640526  0.7284319  -0.25039146  0.        ]\n",
            " [-0.33775413  1.12815215  1.30256542 -0.25039146  0.        ]\n",
            " [-0.3204334   1.12815215 -0.06100169 -0.25039146  0.        ]\n",
            " [-0.30311268  1.12815215  2.02023231 -0.25039146  0.        ]\n",
            " [-0.28579196 -0.88640526  0.51313183 -0.25039146  0.        ]\n",
            " [-0.26847123 -0.88640526 -1.28103541 -0.25039146  0.        ]\n",
            " [-0.25115051  1.12815215  0.65666521 -0.25039146  0.        ]\n",
            " [-0.23382978 -0.88640526  1.15903204 -0.13588317  0.        ]\n",
            " [-0.21650906 -0.88640526 -1.20926872 -0.13588317  0.        ]\n",
            " [-0.19918833 -0.88640526 -0.34806844 -0.09771374  0.        ]\n",
            " [-0.18186761 -0.88640526  0.80019859 -0.09771374  0.        ]\n",
            " [-0.16454688 -0.88640526  2.091999   -0.05954431  0.        ]\n",
            " [-0.14722616  1.12815215 -1.49633548 -0.05954431  0.        ]\n",
            " [-0.12990543  1.12815215  0.65666521 -0.02137488  0.        ]\n",
            " [-0.11258471 -0.88640526  0.08253169 -0.02137488  0.        ]\n",
            " [-0.09526399 -0.88640526 -0.49160182 -0.02137488  0.        ]\n",
            " [-0.07794326  1.12815215 -1.06573534 -0.02137488  0.        ]\n",
            " [-0.06062254 -0.88640526  0.58489852 -0.02137488  0.        ]\n",
            " [-0.04330181 -0.88640526 -0.85043527 -0.02137488  0.        ]\n",
            " [-0.02598109  1.12815215  0.65666521  0.01679455  0.        ]\n",
            " [-0.00866036  1.12815215 -1.3528021   0.01679455  0.        ]\n",
            " [ 0.00866036 -0.88640526 -1.13750203  0.05496398  0.        ]\n",
            " [ 0.02598109 -0.88640526  0.7284319   0.05496398  0.        ]\n",
            " [ 0.04330181  1.12815215  2.02023231  0.05496398  0.        ]\n",
            " [ 0.06062254  1.12815215 -0.92220196  0.05496398  0.        ]\n",
            " [ 0.07794326  1.12815215  0.7284319   0.05496398  0.        ]\n",
            " [ 0.09526399 -0.88640526 -1.28103541  0.05496398  0.        ]\n",
            " [ 0.11258471 -0.88640526  1.94846562  0.09313341  0.        ]\n",
            " [ 0.12990543  1.12815215  1.08726535  0.09313341  0.        ]\n",
            " [ 0.14722616  1.12815215  2.091999    0.09313341  0.        ]\n",
            " [ 0.16454688  1.12815215  1.94846562  0.09313341  0.        ]\n",
            " [ 0.18186761  1.12815215  1.87669894  0.09313341  0.        ]\n",
            " [ 0.19918833 -0.88640526 -1.42456879  0.09313341  0.        ]\n",
            " [ 0.21650906 -0.88640526 -0.06100169  0.13130284  0.        ]\n",
            " [ 0.23382978  1.12815215 -1.42456879  0.13130284  0.        ]\n",
            " [ 0.25115051 -0.88640526 -1.49633548  0.16947227  0.        ]\n",
            " [ 0.26847123 -0.88640526 -1.42456879  0.16947227  0.        ]\n",
            " [ 0.28579196 -0.88640526  1.73316556  0.16947227  0.        ]\n",
            " [ 0.30311268 -0.88640526  0.7284319   0.16947227  0.        ]\n",
            " [ 0.3204334  -0.88640526  0.87196528  0.24581112  0.        ]\n",
            " [ 0.33775413 -0.88640526  0.80019859  0.24581112  0.        ]\n",
            " [ 0.35507485  1.12815215 -0.85043527  0.24581112  0.        ]\n",
            " [ 0.37239558 -0.88640526 -0.06100169  0.24581112  0.        ]\n",
            " [ 0.3897163  -0.88640526  0.08253169  0.32214998  0.        ]\n",
            " [ 0.40703703  1.12815215  0.010765    0.32214998  0.        ]\n",
            " [ 0.42435775 -0.88640526 -1.13750203  0.36031941  0.        ]\n",
            " [ 0.44167848 -0.88640526 -0.56336851  0.36031941  0.        ]\n",
            " [ 0.4589992   1.12815215  0.29783176  0.39848884  0.        ]\n",
            " [ 0.47631993  1.12815215  0.08253169  0.39848884  0.        ]\n",
            " [ 0.49364065  1.12815215  1.4460988   0.39848884  0.        ]\n",
            " [ 0.51096138  1.12815215 -0.06100169  0.39848884  0.        ]\n",
            " [ 0.5282821   1.12815215  0.58489852  0.39848884  0.        ]\n",
            " [ 0.54560282  1.12815215  0.010765    0.39848884  0.        ]\n",
            " [ 0.56292355 -0.88640526 -0.99396865  0.43665827  0.        ]\n",
            " [ 0.58024427 -0.88640526 -0.56336851  0.43665827  0.        ]\n",
            " [ 0.597565    1.12815215 -1.3528021   0.4748277   0.        ]\n",
            " [ 0.61488572 -0.88640526 -0.70690189  0.4748277   0.        ]\n",
            " [ 0.63220645 -0.88640526  0.36959845  0.4748277   0.        ]\n",
            " [ 0.64952717  1.12815215 -0.49160182  0.4748277   0.        ]\n",
            " [ 0.6668479   1.12815215 -1.42456879  0.51299713  0.        ]\n",
            " [ 0.68416862 -0.88640526 -0.27630176  0.51299713  0.        ]\n",
            " [ 0.70148935 -0.88640526  1.30256542  0.55116656  0.        ]\n",
            " [ 0.71881007  1.12815215 -0.49160182  0.55116656  0.        ]\n",
            " [ 0.73613079 -0.88640526 -0.77866858  0.58933599  0.        ]\n",
            " [ 0.75345152 -0.88640526 -0.49160182  0.58933599  0.        ]\n",
            " [ 0.77077224  1.12815215 -0.99396865  0.62750542  0.        ]\n",
            " [ 0.78809297  1.12815215 -0.77866858  0.62750542  0.        ]\n",
            " [ 0.80541369  1.12815215  0.65666521  0.62750542  0.        ]\n",
            " [ 0.82273442 -0.88640526 -0.49160182  0.62750542  0.        ]\n",
            " [ 0.84005514 -0.88640526 -0.34806844  0.66567484  0.        ]\n",
            " [ 0.85737587  1.12815215 -0.34806844  0.66567484  0.        ]\n",
            " [ 0.87469659  1.12815215  0.29783176  0.66567484  0.        ]\n",
            " [ 0.89201732  1.12815215  0.010765    0.66567484  0.        ]\n",
            " [ 0.90933804 -0.88640526  0.36959845  0.66567484  0.        ]\n",
            " [ 0.92665877 -0.88640526 -0.06100169  0.66567484  0.        ]\n",
            " [ 0.94397949 -0.88640526  0.58489852  0.66567484  0.        ]\n",
            " [ 0.96130021 -0.88640526 -0.85043527  0.66567484  0.        ]\n",
            " [ 0.97862094  1.12815215 -0.13276838  0.66567484  0.        ]\n",
            " [ 0.99594166 -0.88640526 -0.6351352   0.66567484  0.        ]\n",
            " [ 1.01326239  1.12815215 -0.34806844  0.66567484  0.        ]\n",
            " [ 1.03058311 -0.88640526 -0.6351352   0.66567484  0.        ]\n",
            " [ 1.04790384 -0.88640526  1.23079873  0.70384427  0.        ]\n",
            " [ 1.06522456 -0.88640526 -0.70690189  0.70384427  0.        ]\n",
            " [ 1.08254529  1.12815215 -1.42456879  0.78018313  0.        ]\n",
            " [ 1.09986601 -0.88640526 -0.56336851  0.78018313  0.        ]\n",
            " [ 1.11718674  1.12815215  0.80019859  0.93286085  0.        ]\n",
            " [ 1.13450746 -0.88640526 -0.20453507  0.93286085  0.        ]\n",
            " [ 1.15182818  1.12815215  0.22606507  0.97103028  0.        ]\n",
            " [ 1.16914891 -0.88640526 -0.41983513  0.97103028  0.        ]\n",
            " [ 1.18646963 -0.88640526 -0.20453507  1.00919971  0.        ]\n",
            " [ 1.20379036  1.12815215 -0.49160182  1.00919971  0.        ]\n",
            " [ 1.22111108  1.12815215  0.08253169  1.00919971  0.        ]\n",
            " [ 1.23843181  1.12815215 -0.77866858  1.00919971  0.        ]\n",
            " [ 1.25575253  1.12815215 -0.20453507  1.00919971  0.        ]\n",
            " [ 1.27307326  1.12815215 -0.20453507  1.00919971  0.        ]\n",
            " [ 1.29039398 -0.88640526  0.94373197  1.04736914  0.        ]\n",
            " [ 1.30771471 -0.88640526 -0.6351352   1.04736914  0.        ]\n",
            " [ 1.32503543  1.12815215  1.37433211  1.04736914  0.        ]\n",
            " [ 1.34235616  1.12815215 -0.85043527  1.04736914  0.        ]\n",
            " [ 1.35967688  1.12815215  1.4460988   1.23821628  0.        ]\n",
            " [ 1.3769976   1.12815215 -0.27630176  1.23821628  0.        ]\n",
            " [ 1.39431833 -0.88640526 -0.13276838  1.390894    0.        ]\n",
            " [ 1.41163905 -0.88640526 -0.49160182  1.390894    0.        ]\n",
            " [ 1.42895978  1.12815215  0.51313183  1.42906343  0.        ]\n",
            " [ 1.4462805  -0.88640526 -0.70690189  1.42906343  0.        ]\n",
            " [ 1.46360123 -0.88640526  0.15429838  1.46723286  0.        ]\n",
            " [ 1.48092195  1.12815215 -0.6351352   1.46723286  0.        ]\n",
            " [ 1.49824268 -0.88640526  1.08726535  1.54357172  0.        ]\n",
            " [ 1.5155634   1.12815215 -0.77866858  1.54357172  0.        ]\n",
            " [ 1.53288413 -0.88640526  0.15429838  1.61991057  0.        ]\n",
            " [ 1.55020485 -0.88640526 -0.20453507  1.61991057  0.        ]\n",
            " [ 1.56752558 -0.88640526 -0.34806844  1.61991057  0.        ]\n",
            " [ 1.5848463  -0.88640526 -0.49160182  1.61991057  0.        ]\n",
            " [ 1.60216702  1.12815215 -0.41983513  2.00160487  0.        ]\n",
            " [ 1.61948775 -0.88640526 -0.06100169  2.00160487  0.        ]\n",
            " [ 1.63680847 -0.88640526  0.58489852  2.26879087  0.        ]\n",
            " [ 1.6541292  -0.88640526 -0.27630176  2.26879087  0.        ]\n",
            " [ 1.67144992 -0.88640526  0.44136514  2.49780745  0.        ]\n",
            " [ 1.68877065  1.12815215 -0.49160182  2.49780745  0.        ]\n",
            " [ 1.70609137  1.12815215 -0.49160182  2.91767117  0.        ]\n",
            " [ 1.7234121   1.12815215 -0.6351352   2.91767117  0.        ]]\n"
          ]
        }
      ]
    },
    {
      "cell_type": "code",
      "source": [
        "X_scaled  = pd.DataFrame(scale, columns = X.columns)"
      ],
      "metadata": {
        "id": "kdxF7C6SLfL3"
      },
      "execution_count": 44,
      "outputs": []
    },
    {
      "cell_type": "code",
      "source": [
        "X_scaled"
      ],
      "metadata": {
        "colab": {
          "base_uri": "https://localhost:8080/",
          "height": 424
        },
        "id": "vZzOqqkfc5-m",
        "outputId": "46d19feb-045a-4376-f7c2-9364b162f74e"
      },
      "execution_count": 45,
      "outputs": [
        {
          "output_type": "execute_result",
          "data": {
            "text/plain": [
              "     CustomerID    Gender       Age  Annual Income (k$)  OHC_Code\n",
              "0     -1.723412  1.128152 -1.424569           -1.738999       0.0\n",
              "1     -1.706091  1.128152 -1.281035           -1.738999       0.0\n",
              "2     -1.688771 -0.886405 -1.352802           -1.700830       0.0\n",
              "3     -1.671450 -0.886405 -1.137502           -1.700830       0.0\n",
              "4     -1.654129 -0.886405 -0.563369           -1.662660       0.0\n",
              "..          ...       ...       ...                 ...       ...\n",
              "195    1.654129 -0.886405 -0.276302            2.268791       0.0\n",
              "196    1.671450 -0.886405  0.441365            2.497807       0.0\n",
              "197    1.688771  1.128152 -0.491602            2.497807       0.0\n",
              "198    1.706091  1.128152 -0.491602            2.917671       0.0\n",
              "199    1.723412  1.128152 -0.635135            2.917671       0.0\n",
              "\n",
              "[200 rows x 5 columns]"
            ],
            "text/html": [
              "\n",
              "  <div id=\"df-c075a663-d2c8-4552-9da5-a46dacd44912\">\n",
              "    <div class=\"colab-df-container\">\n",
              "      <div>\n",
              "<style scoped>\n",
              "    .dataframe tbody tr th:only-of-type {\n",
              "        vertical-align: middle;\n",
              "    }\n",
              "\n",
              "    .dataframe tbody tr th {\n",
              "        vertical-align: top;\n",
              "    }\n",
              "\n",
              "    .dataframe thead th {\n",
              "        text-align: right;\n",
              "    }\n",
              "</style>\n",
              "<table border=\"1\" class=\"dataframe\">\n",
              "  <thead>\n",
              "    <tr style=\"text-align: right;\">\n",
              "      <th></th>\n",
              "      <th>CustomerID</th>\n",
              "      <th>Gender</th>\n",
              "      <th>Age</th>\n",
              "      <th>Annual Income (k$)</th>\n",
              "      <th>OHC_Code</th>\n",
              "    </tr>\n",
              "  </thead>\n",
              "  <tbody>\n",
              "    <tr>\n",
              "      <th>0</th>\n",
              "      <td>-1.723412</td>\n",
              "      <td>1.128152</td>\n",
              "      <td>-1.424569</td>\n",
              "      <td>-1.738999</td>\n",
              "      <td>0.0</td>\n",
              "    </tr>\n",
              "    <tr>\n",
              "      <th>1</th>\n",
              "      <td>-1.706091</td>\n",
              "      <td>1.128152</td>\n",
              "      <td>-1.281035</td>\n",
              "      <td>-1.738999</td>\n",
              "      <td>0.0</td>\n",
              "    </tr>\n",
              "    <tr>\n",
              "      <th>2</th>\n",
              "      <td>-1.688771</td>\n",
              "      <td>-0.886405</td>\n",
              "      <td>-1.352802</td>\n",
              "      <td>-1.700830</td>\n",
              "      <td>0.0</td>\n",
              "    </tr>\n",
              "    <tr>\n",
              "      <th>3</th>\n",
              "      <td>-1.671450</td>\n",
              "      <td>-0.886405</td>\n",
              "      <td>-1.137502</td>\n",
              "      <td>-1.700830</td>\n",
              "      <td>0.0</td>\n",
              "    </tr>\n",
              "    <tr>\n",
              "      <th>4</th>\n",
              "      <td>-1.654129</td>\n",
              "      <td>-0.886405</td>\n",
              "      <td>-0.563369</td>\n",
              "      <td>-1.662660</td>\n",
              "      <td>0.0</td>\n",
              "    </tr>\n",
              "    <tr>\n",
              "      <th>...</th>\n",
              "      <td>...</td>\n",
              "      <td>...</td>\n",
              "      <td>...</td>\n",
              "      <td>...</td>\n",
              "      <td>...</td>\n",
              "    </tr>\n",
              "    <tr>\n",
              "      <th>195</th>\n",
              "      <td>1.654129</td>\n",
              "      <td>-0.886405</td>\n",
              "      <td>-0.276302</td>\n",
              "      <td>2.268791</td>\n",
              "      <td>0.0</td>\n",
              "    </tr>\n",
              "    <tr>\n",
              "      <th>196</th>\n",
              "      <td>1.671450</td>\n",
              "      <td>-0.886405</td>\n",
              "      <td>0.441365</td>\n",
              "      <td>2.497807</td>\n",
              "      <td>0.0</td>\n",
              "    </tr>\n",
              "    <tr>\n",
              "      <th>197</th>\n",
              "      <td>1.688771</td>\n",
              "      <td>1.128152</td>\n",
              "      <td>-0.491602</td>\n",
              "      <td>2.497807</td>\n",
              "      <td>0.0</td>\n",
              "    </tr>\n",
              "    <tr>\n",
              "      <th>198</th>\n",
              "      <td>1.706091</td>\n",
              "      <td>1.128152</td>\n",
              "      <td>-0.491602</td>\n",
              "      <td>2.917671</td>\n",
              "      <td>0.0</td>\n",
              "    </tr>\n",
              "    <tr>\n",
              "      <th>199</th>\n",
              "      <td>1.723412</td>\n",
              "      <td>1.128152</td>\n",
              "      <td>-0.635135</td>\n",
              "      <td>2.917671</td>\n",
              "      <td>0.0</td>\n",
              "    </tr>\n",
              "  </tbody>\n",
              "</table>\n",
              "<p>200 rows × 5 columns</p>\n",
              "</div>\n",
              "      <button class=\"colab-df-convert\" onclick=\"convertToInteractive('df-c075a663-d2c8-4552-9da5-a46dacd44912')\"\n",
              "              title=\"Convert this dataframe to an interactive table.\"\n",
              "              style=\"display:none;\">\n",
              "        \n",
              "  <svg xmlns=\"http://www.w3.org/2000/svg\" height=\"24px\"viewBox=\"0 0 24 24\"\n",
              "       width=\"24px\">\n",
              "    <path d=\"M0 0h24v24H0V0z\" fill=\"none\"/>\n",
              "    <path d=\"M18.56 5.44l.94 2.06.94-2.06 2.06-.94-2.06-.94-.94-2.06-.94 2.06-2.06.94zm-11 1L8.5 8.5l.94-2.06 2.06-.94-2.06-.94L8.5 2.5l-.94 2.06-2.06.94zm10 10l.94 2.06.94-2.06 2.06-.94-2.06-.94-.94-2.06-.94 2.06-2.06.94z\"/><path d=\"M17.41 7.96l-1.37-1.37c-.4-.4-.92-.59-1.43-.59-.52 0-1.04.2-1.43.59L10.3 9.45l-7.72 7.72c-.78.78-.78 2.05 0 2.83L4 21.41c.39.39.9.59 1.41.59.51 0 1.02-.2 1.41-.59l7.78-7.78 2.81-2.81c.8-.78.8-2.07 0-2.86zM5.41 20L4 18.59l7.72-7.72 1.47 1.35L5.41 20z\"/>\n",
              "  </svg>\n",
              "      </button>\n",
              "      \n",
              "  <style>\n",
              "    .colab-df-container {\n",
              "      display:flex;\n",
              "      flex-wrap:wrap;\n",
              "      gap: 12px;\n",
              "    }\n",
              "\n",
              "    .colab-df-convert {\n",
              "      background-color: #E8F0FE;\n",
              "      border: none;\n",
              "      border-radius: 50%;\n",
              "      cursor: pointer;\n",
              "      display: none;\n",
              "      fill: #1967D2;\n",
              "      height: 32px;\n",
              "      padding: 0 0 0 0;\n",
              "      width: 32px;\n",
              "    }\n",
              "\n",
              "    .colab-df-convert:hover {\n",
              "      background-color: #E2EBFA;\n",
              "      box-shadow: 0px 1px 2px rgba(60, 64, 67, 0.3), 0px 1px 3px 1px rgba(60, 64, 67, 0.15);\n",
              "      fill: #174EA6;\n",
              "    }\n",
              "\n",
              "    [theme=dark] .colab-df-convert {\n",
              "      background-color: #3B4455;\n",
              "      fill: #D2E3FC;\n",
              "    }\n",
              "\n",
              "    [theme=dark] .colab-df-convert:hover {\n",
              "      background-color: #434B5C;\n",
              "      box-shadow: 0px 1px 3px 1px rgba(0, 0, 0, 0.15);\n",
              "      filter: drop-shadow(0px 1px 2px rgba(0, 0, 0, 0.3));\n",
              "      fill: #FFFFFF;\n",
              "    }\n",
              "  </style>\n",
              "\n",
              "      <script>\n",
              "        const buttonEl =\n",
              "          document.querySelector('#df-c075a663-d2c8-4552-9da5-a46dacd44912 button.colab-df-convert');\n",
              "        buttonEl.style.display =\n",
              "          google.colab.kernel.accessAllowed ? 'block' : 'none';\n",
              "\n",
              "        async function convertToInteractive(key) {\n",
              "          const element = document.querySelector('#df-c075a663-d2c8-4552-9da5-a46dacd44912');\n",
              "          const dataTable =\n",
              "            await google.colab.kernel.invokeFunction('convertToInteractive',\n",
              "                                                     [key], {});\n",
              "          if (!dataTable) return;\n",
              "\n",
              "          const docLinkHtml = 'Like what you see? Visit the ' +\n",
              "            '<a target=\"_blank\" href=https://colab.research.google.com/notebooks/data_table.ipynb>data table notebook</a>'\n",
              "            + ' to learn more about interactive tables.';\n",
              "          element.innerHTML = '';\n",
              "          dataTable['output_type'] = 'display_data';\n",
              "          await google.colab.output.renderOutput(dataTable, element);\n",
              "          const docLink = document.createElement('div');\n",
              "          docLink.innerHTML = docLinkHtml;\n",
              "          element.appendChild(docLink);\n",
              "        }\n",
              "      </script>\n",
              "    </div>\n",
              "  </div>\n",
              "  "
            ]
          },
          "metadata": {},
          "execution_count": 45
        }
      ]
    },
    {
      "cell_type": "code",
      "source": [
        "from sklearn.model_selection import train_test_split\n",
        "X_train, X_test, y_train, y_test = train_test_split(\n",
        "    X_scaled, Y, test_size=0.05, random_state=0)"
      ],
      "metadata": {
        "id": "0PwQ3-MGLrgu"
      },
      "execution_count": 46,
      "outputs": []
    },
    {
      "cell_type": "code",
      "source": [
        "print(X_test, y_test)"
      ],
      "metadata": {
        "colab": {
          "base_uri": "https://localhost:8080/"
        },
        "id": "GKhqXOdJLwDv",
        "outputId": "f689e2a6-d83c-4c3a-b867-fcfa06b6a342"
      },
      "execution_count": 47,
      "outputs": [
        {
          "output_type": "stream",
          "name": "stdout",
          "text": [
            "     CustomerID    Gender       Age  Annual Income (k$)  OHC_Code\n",
            "18    -1.411639  1.128152  0.943732           -1.433644       0.0\n",
            "170    1.221111  1.128152  0.082532            1.009200       0.0\n",
            "107    0.129905  1.128152  1.087265            0.093133       0.0\n",
            "98    -0.025981  1.128152  0.656665            0.016795       0.0\n",
            "177    1.342356  1.128152 -0.850435            1.047369       0.0\n",
            "182    1.428960  1.128152  0.513132            1.429063       0.0\n",
            "5     -1.636808 -0.886405 -1.209269           -1.662660       0.0\n",
            "146    0.805414  1.128152  0.656665            0.627505       0.0\n",
            "12    -1.515563 -0.886405  1.374332           -1.548152       0.0\n",
            "152    0.909338 -0.886405  0.369598            0.665675       0.0 18     29\n",
            "170    13\n",
            "107    46\n",
            "98     42\n",
            "177    69\n",
            "182    15\n",
            "5      76\n",
            "146    36\n",
            "12     15\n",
            "152    20\n",
            "Name: Spending Score (1-100), dtype: int64\n"
          ]
        }
      ]
    },
    {
      "cell_type": "markdown",
      "source": [
        "11. BUILD THE MODEL"
      ],
      "metadata": {
        "id": "QVu1PzBOLyqP"
      }
    },
    {
      "cell_type": "code",
      "source": [
        "x = df.iloc[:, [3, 4]].values"
      ],
      "metadata": {
        "id": "ZGF9-ftlL0Tp"
      },
      "execution_count": 49,
      "outputs": []
    },
    {
      "cell_type": "code",
      "source": [
        "#finding optimal number of clusters using the elbow method  \n",
        "from sklearn.cluster import KMeans  \n",
        "wcss_list= []  #Initializing the list for the values of WCSS  \n",
        "  \n",
        "#Using for loop for iterations from 1 to 10.  \n",
        "for i in range(1, 11):  \n",
        "    kmeans = KMeans(n_clusters=i, init='k-means++', random_state= 42)  \n",
        "    kmeans.fit(x)  \n",
        "    wcss_list.append(kmeans.inertia_)  \n",
        "plt.plot(range(1, 11), wcss_list)  \n",
        "plt.title('The Elbow Method Graph')  \n",
        "plt.xlabel('Number of clusters(k)')  \n",
        "plt.ylabel('wcss_list')  \n",
        "plt.show()"
      ],
      "metadata": {
        "id": "xqU6YOpnL3ah",
        "colab": {
          "base_uri": "https://localhost:8080/",
          "height": 306
        },
        "outputId": "390fd468-7aa8-48a5-b4ee-227948b0479c"
      },
      "execution_count": 50,
      "outputs": [
        {
          "output_type": "display_data",
          "data": {
            "text/plain": [
              "<Figure size 432x288 with 1 Axes>"
            ],
            "image/png": "[encoded data removed]"
          },
          "metadata": {}
        }
      ]
    },
    {
      "cell_type": "code",
      "source": [
        "#training the K-means model on a dataset  \n",
        "kmeans = KMeans(n_clusters=5, init='k-means++', random_state= 42)  \n",
        "y_predict= kmeans.fit_predict(x)"
      ],
      "metadata": {
        "id": "xB9UZ-DSdkG-"
      },
      "execution_count": 51,
      "outputs": []
    },
    {
      "cell_type": "code",
      "source": [
        "#visulaizing the clusters  \n",
        "plt.scatter(x[y_predict == 0, 0], x[y_predict == 0, 1], s = 100, c = 'blue', label = 'Cluster 1') #for first cluster  \n",
        "plt.scatter(x[y_predict == 1, 0], x[y_predict == 1, 1], s = 100, c = 'green', label = 'Cluster 2') #for second cluster  \n",
        "plt.scatter(x[y_predict== 2, 0], x[y_predict == 2, 1], s = 100, c = 'red', label = 'Cluster 3') #for third cluster  \n",
        "plt.scatter(x[y_predict == 3, 0], x[y_predict == 3, 1], s = 100, c = 'cyan', label = 'Cluster 4') #for fourth cluster  \n",
        "plt.scatter(x[y_predict == 4, 0], x[y_predict == 4, 1], s = 100, c = 'magenta', label = 'Cluster 5') #for fifth cluster  \n",
        "plt.scatter(kmeans.cluster_centers_[:, 0], kmeans.cluster_centers_[:, 1], s = 300, c = 'yellow', label = 'Centroid')   \n",
        "plt.title('Clusters of customers')  \n",
        "plt.xlabel('Annual Income (k$)')  \n",
        "plt.ylabel('Spending Score (1-100)')  \n",
        "plt.legend()  \n",
        "plt.show()"
      ],
      "metadata": {
        "id": "DVOS2LI-dnQe",
        "outputId": "63a95d43-edf4-42c0-e446-ae9b1f036984",
        "colab": {
          "base_uri": "https://localhost:8080/",
          "height": 306
        }
      },
      "execution_count": 52,
      "outputs": [
        {
          "output_type": "display_data",
          "data": {
            "text/plain": [
              "<Figure size 432x288 with 1 Axes>"
            ],
            "image/png": "[encoded data removed]"
          },
          "metadata": {}
        }
      ]
    }
  ]
}