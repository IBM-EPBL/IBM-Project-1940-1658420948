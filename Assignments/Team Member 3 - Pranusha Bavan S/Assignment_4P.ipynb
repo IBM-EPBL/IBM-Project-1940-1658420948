{
  "cells": [
    {
      "cell_type": "code",
      "execution_count": 1,
      "metadata": {
        "colab": {
          "base_uri": "https://localhost:8080/"
        },
        "id": "MXmr5QNVrpQg",
        "outputId": "367abf30-0b81-48f7-eb4c-a195b5a2d78a"
      },
      "outputs": [
        {
          "name": "stdout",
          "output_type": "stream",
          "text": [
            "Mounted at /content/drive\n",
            "/content/drive/My Drive/IBM\n"
          ]
        }
      ],
      "source": [
        "from google.colab import drive\n",
        "drive.mount(\"/content/drive\", force_remount=True)\n",
        "%cd '/content/drive/My Drive/IBM/'"
      ]
    },
    {
      "cell_type": "code",
      "execution_count": 6,
      "metadata": {
        "colab": {
          "base_uri": "https://localhost:8080/",
          "height": 206
        },
        "id": "KafO9GWEQBYX",
        "outputId": "9ca3ea55-611c-49a0-e39f-aaf2a6c63c9e"
      },
      "outputs": [
        {
          "data": {
            "text/html": [
              "\n",
              "  <div id=\"df-3e690445-a2a4-444c-b18d-8dd55c6ee1e4\">\n",
              "    <div class=\"colab-df-container\">\n",
              "      <div>\n",
              "<style scoped>\n",
              "    .dataframe tbody tr th:only-of-type {\n",
              "        vertical-align: middle;\n",
              "    }\n",
              "\n",
              "    .dataframe tbody tr th {\n",
              "        vertical-align: top;\n",
              "    }\n",
              "\n",
              "    .dataframe thead th {\n",
              "        text-align: right;\n",
              "    }\n",
              "</style>\n",
              "<table border=\"1\" class=\"dataframe\">\n",
              "  <thead>\n",
              "    <tr style=\"text-align: right;\">\n",
              "      <th></th>\n",
              "      <th>CustomerID</th>\n",
              "      <th>Gender</th>\n",
              "      <th>Age</th>\n",
              "      <th>Annual Income (k$)</th>\n",
              "      <th>Spending Score (1-100)</th>\n",
              "    </tr>\n",
              "  </thead>\n",
              "  <tbody>\n",
              "    <tr>\n",
              "      <th>0</th>\n",
              "      <td>1</td>\n",
              "      <td>Male</td>\n",
              "      <td>19</td>\n",
              "      <td>15</td>\n",
              "      <td>39</td>\n",
              "    </tr>\n",
              "    <tr>\n",
              "      <th>1</th>\n",
              "      <td>2</td>\n",
              "      <td>Male</td>\n",
              "      <td>21</td>\n",
              "      <td>15</td>\n",
              "      <td>81</td>\n",
              "    </tr>\n",
              "    <tr>\n",
              "      <th>2</th>\n",
              "      <td>3</td>\n",
              "      <td>Female</td>\n",
              "      <td>20</td>\n",
              "      <td>16</td>\n",
              "      <td>6</td>\n",
              "    </tr>\n",
              "    <tr>\n",
              "      <th>3</th>\n",
              "      <td>4</td>\n",
              "      <td>Female</td>\n",
              "      <td>23</td>\n",
              "      <td>16</td>\n",
              "      <td>77</td>\n",
              "    </tr>\n",
              "    <tr>\n",
              "      <th>4</th>\n",
              "      <td>5</td>\n",
              "      <td>Female</td>\n",
              "      <td>31</td>\n",
              "      <td>17</td>\n",
              "      <td>40</td>\n",
              "    </tr>\n",
              "  </tbody>\n",
              "</table>\n",
              "</div>\n",
              "      <button class=\"colab-df-convert\" onclick=\"convertToInteractive('df-3e690445-a2a4-444c-b18d-8dd55c6ee1e4')\"\n",
              "              title=\"Convert this dataframe to an interactive table.\"\n",
              "              style=\"display:none;\">\n",
              "        \n",
              "  <svg xmlns=\"http://www.w3.org/2000/svg\" height=\"24px\"viewBox=\"0 0 24 24\"\n",
              "       width=\"24px\">\n",
              "    <path d=\"M0 0h24v24H0V0z\" fill=\"none\"/>\n",
              "    <path d=\"M18.56 5.44l.94 2.06.94-2.06 2.06-.94-2.06-.94-.94-2.06-.94 2.06-2.06.94zm-11 1L8.5 8.5l.94-2.06 2.06-.94-2.06-.94L8.5 2.5l-.94 2.06-2.06.94zm10 10l.94 2.06.94-2.06 2.06-.94-2.06-.94-.94-2.06-.94 2.06-2.06.94z\"/><path d=\"M17.41 7.96l-1.37-1.37c-.4-.4-.92-.59-1.43-.59-.52 0-1.04.2-1.43.59L10.3 9.45l-7.72 7.72c-.78.78-.78 2.05 0 2.83L4 21.41c.39.39.9.59 1.41.59.51 0 1.02-.2 1.41-.59l7.78-7.78 2.81-2.81c.8-.78.8-2.07 0-2.86zM5.41 20L4 18.59l7.72-7.72 1.47 1.35L5.41 20z\"/>\n",
              "  </svg>\n",
              "      </button>\n",
              "      \n",
              "  <style>\n",
              "    .colab-df-container {\n",
              "      display:flex;\n",
              "      flex-wrap:wrap;\n",
              "      gap: 12px;\n",
              "    }\n",
              "\n",
              "    .colab-df-convert {\n",
              "      background-color: #E8F0FE;\n",
              "      border: none;\n",
              "      border-radius: 50%;\n",
              "      cursor: pointer;\n",
              "      display: none;\n",
              "      fill: #1967D2;\n",
              "      height: 32px;\n",
              "      padding: 0 0 0 0;\n",
              "      width: 32px;\n",
              "    }\n",
              "\n",
              "    .colab-df-convert:hover {\n",
              "      background-color: #E2EBFA;\n",
              "      box-shadow: 0px 1px 2px rgba(60, 64, 67, 0.3), 0px 1px 3px 1px rgba(60, 64, 67, 0.15);\n",
              "      fill: #174EA6;\n",
              "    }\n",
              "\n",
              "    [theme=dark] .colab-df-convert {\n",
              "      background-color: #3B4455;\n",
              "      fill: #D2E3FC;\n",
              "    }\n",
              "\n",
              "    [theme=dark] .colab-df-convert:hover {\n",
              "      background-color: #434B5C;\n",
              "      box-shadow: 0px 1px 3px 1px rgba(0, 0, 0, 0.15);\n",
              "      filter: drop-shadow(0px 1px 2px rgba(0, 0, 0, 0.3));\n",
              "      fill: #FFFFFF;\n",
              "    }\n",
              "  </style>\n",
              "\n",
              "      <script>\n",
              "        const buttonEl =\n",
              "          document.querySelector('#df-3e690445-a2a4-444c-b18d-8dd55c6ee1e4 button.colab-df-convert');\n",
              "        buttonEl.style.display =\n",
              "          google.colab.kernel.accessAllowed ? 'block' : 'none';\n",
              "\n",
              "        async function convertToInteractive(key) {\n",
              "          const element = document.querySelector('#df-3e690445-a2a4-444c-b18d-8dd55c6ee1e4');\n",
              "          const dataTable =\n",
              "            await google.colab.kernel.invokeFunction('convertToInteractive',\n",
              "                                                     [key], {});\n",
              "          if (!dataTable) return;\n",
              "\n",
              "          const docLinkHtml = 'Like what you see? Visit the ' +\n",
              "            '<a target=\"_blank\" href=https://colab.research.google.com/notebooks/data_table.ipynb>data table notebook</a>'\n",
              "            + ' to learn more about interactive tables.';\n",
              "          element.innerHTML = '';\n",
              "          dataTable['output_type'] = 'display_data';\n",
              "          await google.colab.output.renderOutput(dataTable, element);\n",
              "          const docLink = document.createElement('div');\n",
              "          docLink.innerHTML = docLinkHtml;\n",
              "          element.appendChild(docLink);\n",
              "        }\n",
              "      </script>\n",
              "    </div>\n",
              "  </div>\n",
              "  "
            ],
            "text/plain": [
              "   CustomerID  Gender  Age  Annual Income (k$)  Spending Score (1-100)\n",
              "0           1    Male   19                  15                      39\n",
              "1           2    Male   21                  15                      81\n",
              "2           3  Female   20                  16                       6\n",
              "3           4  Female   23                  16                      77\n",
              "4           5  Female   31                  17                      40"
            ]
          },
          "execution_count": 6,
          "metadata": {},
          "output_type": "execute_result"
        }
      ],
      "source": [
        "import pandas as pd\n",
        "import numpy as np\n",
        "dt=pd.read_csv('Mall_Customers.csv')\n",
        "dt.head()"
      ]
    },
    {
      "cell_type": "markdown",
      "metadata": {
        "id": "WkFJywbSQv7X"
      },
      "source": [
        "### **UNIVARIATE VISUALIZATION**"
      ]
    },
    {
      "cell_type": "code",
      "execution_count": 7,
      "metadata": {
        "id": "cHDZ6FLIQlR_"
      },
      "outputs": [],
      "source": [
        "import matplotlib.pyplot as plt\n",
        "import seaborn as sns\n",
        "%matplotlib inline"
      ]
    },
    {
      "cell_type": "code",
      "execution_count": 8,
      "metadata": {
        "colab": {
          "base_uri": "https://localhost:8080/",
          "height": 265
        },
        "id": "DZV1CmqFRb2-",
        "outputId": "26c6a598-458f-45b8-db71-65720111cd92"
      },
      "outputs": [
        {
          "data": {
            "image/png": "[encoded data removed]",
            "text/plain": [
              "<Figure size 432x288 with 1 Axes>"
            ]
          },
          "metadata": {
            "needs_background": "light"
          },
          "output_type": "display_data"
        }
      ],
      "source": [
        "plt.plot(dt['Annual Income (k$)'])\n",
        "plt.show()"
      ]
    },
    {
      "cell_type": "code",
      "execution_count": 9,
      "metadata": {
        "colab": {
          "base_uri": "https://localhost:8080/",
          "height": 336
        },
        "id": "U-PyVhG1R0cb",
        "outputId": "1eecb54b-b16b-4f83-f954-a2d2690ac553"
      },
      "outputs": [
        {
          "data": {
            "text/plain": [
              "(array([24., 22., 28., 38., 30., 36.,  8.,  6.,  4.,  4.]),\n",
              " array([ 15. ,  27.2,  39.4,  51.6,  63.8,  76. ,  88.2, 100.4, 112.6,\n",
              "        124.8, 137. ]),\n",
              " <a list of 10 Patch objects>)"
            ]
          },
          "execution_count": 9,
          "metadata": {},
          "output_type": "execute_result"
        },
        {
          "data": {
            "image/png": "[encoded data removed]",
            "text/plain": [
              "<Figure size 432x288 with 1 Axes>"
            ]
          },
          "metadata": {
            "needs_background": "light"
          },
          "output_type": "display_data"
        }
      ],
      "source": [
        "plt.hist(dt['Annual Income (k$)'])"
      ]
    },
    {
      "cell_type": "code",
      "execution_count": null,
      "metadata": {
        "colab": {
          "base_uri": "https://localhost:8080/",
          "height": 282
        },
        "id": "n5TjDhbbR0fI",
        "outputId": "4def135f-f8e7-4a69-b3c6-7a77aadddb19"
      },
      "outputs": [
        {
          "data": {
            "text/plain": [
              "[<matplotlib.lines.Line2D at 0x7f332a186290>]"
            ]
          },
          "execution_count": 5,
          "metadata": {},
          "output_type": "execute_result"
        },
        {
          "data": {
            "image/png": "[encoded data removed]",
            "text/plain": [
              "<Figure size 432x288 with 1 Axes>"
            ]
          },
          "metadata": {
            "needs_background": "light"
          },
          "output_type": "display_data"
        }
      ],
      "source": [
        "dt=np.array(dt['Annual Income (k$)'])\n",
        "plt.plot(dt,linestyle = 'dotted')"
      ]
    },
    {
      "cell_type": "code",
      "execution_count": 10,
      "metadata": {
        "colab": {
          "base_uri": "https://localhost:8080/",
          "height": 353
        },
        "id": "d5oQZflISOSA",
        "outputId": "99bb1b79-dee1-4254-aed3-e31776087204"
      },
      "outputs": [
        {
          "name": "stderr",
          "output_type": "stream",
          "text": [
            "/usr/local/lib/python3.7/dist-packages/seaborn/_decorators.py:43: FutureWarning: Pass the following variable as a keyword arg: x. From version 0.12, the only valid positional argument will be `data`, and passing other arguments without an explicit keyword will result in an error or misinterpretation.\n",
            "  FutureWarning\n"
          ]
        },
        {
          "data": {
            "text/plain": [
              "<matplotlib.axes._subplots.AxesSubplot at 0x7f7025c39410>"
            ]
          },
          "execution_count": 10,
          "metadata": {},
          "output_type": "execute_result"
        },
        {
          "data": {
            "image/png": "[encoded data removed]",
            "text/plain": [
              "<Figure size 432x288 with 1 Axes>"
            ]
          },
          "metadata": {
            "needs_background": "light"
          },
          "output_type": "display_data"
        }
      ],
      "source": [
        "sns.boxplot(dt['Age'])"
      ]
    },
    {
      "cell_type": "code",
      "execution_count": 11,
      "metadata": {
        "colab": {
          "base_uri": "https://localhost:8080/",
          "height": 353
        },
        "id": "iseunRGgSOVK",
        "outputId": "ce84ab9d-3a9a-4790-a599-5a7d73041b41"
      },
      "outputs": [
        {
          "name": "stderr",
          "output_type": "stream",
          "text": [
            "/usr/local/lib/python3.7/dist-packages/seaborn/_decorators.py:43: FutureWarning: Pass the following variable as a keyword arg: x. From version 0.12, the only valid positional argument will be `data`, and passing other arguments without an explicit keyword will result in an error or misinterpretation.\n",
            "  FutureWarning\n"
          ]
        },
        {
          "data": {
            "text/plain": [
              "<matplotlib.axes._subplots.AxesSubplot at 0x7f7025bcdd50>"
            ]
          },
          "execution_count": 11,
          "metadata": {},
          "output_type": "execute_result"
        },
        {
          "data": {
            "image/png": "[encoded data removed]",
            "text/plain": [
              "<Figure size 432x288 with 1 Axes>"
            ]
          },
          "metadata": {
            "needs_background": "light"
          },
          "output_type": "display_data"
        }
      ],
      "source": [
        "sns.countplot(dt['Age'])"
      ]
    },
    {
      "cell_type": "code",
      "execution_count": 12,
      "metadata": {
        "colab": {
          "base_uri": "https://localhost:8080/",
          "height": 353
        },
        "id": "gJMfz47BUkMF",
        "outputId": "a5b4d345-2997-4ee9-b245-06e7573a1b2a"
      },
      "outputs": [
        {
          "name": "stderr",
          "output_type": "stream",
          "text": [
            "/usr/local/lib/python3.7/dist-packages/seaborn/_decorators.py:43: FutureWarning: Pass the following variable as a keyword arg: x. From version 0.12, the only valid positional argument will be `data`, and passing other arguments without an explicit keyword will result in an error or misinterpretation.\n",
            "  FutureWarning\n"
          ]
        },
        {
          "data": {
            "text/plain": [
              "<matplotlib.axes._subplots.AxesSubplot at 0x7f7025c24250>"
            ]
          },
          "execution_count": 12,
          "metadata": {},
          "output_type": "execute_result"
        },
        {
          "data": {
            "image/png": "[encoded data removed]",
            "text/plain": [
              "<Figure size 432x288 with 1 Axes>"
            ]
          },
          "metadata": {
            "needs_background": "light"
          },
          "output_type": "display_data"
        }
      ],
      "source": [
        "sns.countplot(dt['Gender'])"
      ]
    },
    {
      "cell_type": "code",
      "execution_count": 13,
      "metadata": {
        "colab": {
          "base_uri": "https://localhost:8080/",
          "height": 283
        },
        "id": "3G_PNbc3YmYP",
        "outputId": "c551a5a0-c44e-46a1-aa5d-079ad60050c5"
      },
      "outputs": [
        {
          "data": {
            "text/plain": [
              "<matplotlib.axes._subplots.AxesSubplot at 0x7f702599dad0>"
            ]
          },
          "execution_count": 13,
          "metadata": {},
          "output_type": "execute_result"
        },
        {
          "data": {
            "image/png": "[encoded data removed]",
            "text/plain": [
              "<Figure size 432x288 with 1 Axes>"
            ]
          },
          "metadata": {
            "needs_background": "light"
          },
          "output_type": "display_data"
        }
      ],
      "source": [
        "dt['Age'].plot(kind='density')"
      ]
    },
    {
      "cell_type": "markdown",
      "metadata": {
        "id": "-jqjleEpVi9j"
      },
      "source": [
        "### **BIVARIATE ANALYSIS VISUALIZATIONS**"
      ]
    },
    {
      "cell_type": "code",
      "execution_count": 14,
      "metadata": {
        "colab": {
          "base_uri": "https://localhost:8080/",
          "height": 297
        },
        "id": "NngE18iASszv",
        "outputId": "037ae201-1655-418d-a6a3-9bf0b70637a1"
      },
      "outputs": [
        {
          "data": {
            "text/plain": [
              "<matplotlib.axes._subplots.AxesSubplot at 0x7f70258cf890>"
            ]
          },
          "execution_count": 14,
          "metadata": {},
          "output_type": "execute_result"
        },
        {
          "data": {
            "image/png": "[encoded data removed]",
            "text/plain": [
              "<Figure size 432x288 with 1 Axes>"
            ]
          },
          "metadata": {
            "needs_background": "light"
          },
          "output_type": "display_data"
        }
      ],
      "source": [
        "sns.stripplot(x=dt['Annual Income (k$)'],y=dt['Spending Score (1-100)'])"
      ]
    },
    {
      "cell_type": "code",
      "execution_count": 15,
      "metadata": {
        "colab": {
          "base_uri": "https://localhost:8080/",
          "height": 297
        },
        "id": "MbQcOPEFVaZp",
        "outputId": "f71f4b8e-8565-4bdf-b3da-ce1abaf9d397"
      },
      "outputs": [
        {
          "data": {
            "text/plain": [
              "Text(0, 0.5, 'Age')"
            ]
          },
          "execution_count": 15,
          "metadata": {},
          "output_type": "execute_result"
        },
        {
          "data": {
            "image/png": "[encoded data removed]",
            "text/plain": [
              "<Figure size 432x288 with 1 Axes>"
            ]
          },
          "metadata": {
            "needs_background": "light"
          },
          "output_type": "display_data"
        }
      ],
      "source": [
        "plt.scatter(dt['Annual Income (k$)'],dt['Age'],color='purple')\n",
        "plt.xlabel(\"Annual Income (k$)\")\n",
        "plt.ylabel(\"Age\")"
      ]
    },
    {
      "cell_type": "code",
      "execution_count": 16,
      "metadata": {
        "colab": {
          "base_uri": "https://localhost:8080/",
          "height": 297
        },
        "id": "qsy2aILTSsxA",
        "outputId": "6026efe4-aa7e-4296-ffd4-ec2f18a1d1c3"
      },
      "outputs": [
        {
          "data": {
            "text/plain": [
              "<matplotlib.axes._subplots.AxesSubplot at 0x7f7025724c10>"
            ]
          },
          "execution_count": 16,
          "metadata": {},
          "output_type": "execute_result"
        },
        {
          "data": {
            "image/png": "[encoded data removed]",
            "text/plain": [
              "<Figure size 432x288 with 1 Axes>"
            ]
          },
          "metadata": {
            "needs_background": "light"
          },
          "output_type": "display_data"
        }
      ],
      "source": [
        "sns.stripplot(x=dt['Annual Income (k$)'],y=dt['Age'])"
      ]
    },
    {
      "cell_type": "markdown",
      "metadata": {
        "id": "ZOZ3iFyrc6ro"
      },
      "source": [
        "### **MULTIVARIATE ANALYSIS VISUALIZATION**"
      ]
    },
    {
      "cell_type": "code",
      "execution_count": 18,
      "metadata": {
        "colab": {
          "base_uri": "https://localhost:8080/",
          "height": 744
        },
        "id": "4jDV6dgDXque",
        "outputId": "befd3242-9033-429a-bbba-5f5e0cb91e17"
      },
      "outputs": [
        {
          "data": {
            "text/plain": [
              "<seaborn.axisgrid.PairGrid at 0x7f70254da390>"
            ]
          },
          "execution_count": 18,
          "metadata": {},
          "output_type": "execute_result"
        },
        {
          "data": {
            "image/png": "[encoded data removed]",
            "text/plain": [
              "<Figure size 720x720 with 20 Axes>"
            ]
          },
          "metadata": {
            "needs_background": "light"
          },
          "output_type": "display_data"
        }
      ],
      "source": [
        "sns.pairplot(dt)"
      ]
    },
    {
      "cell_type": "code",
      "execution_count": 19,
      "metadata": {
        "colab": {
          "base_uri": "https://localhost:8080/",
          "height": 395
        },
        "id": "l8I24jUIcdvW",
        "outputId": "dd794d33-7452-419f-b5fd-567e1e5f9ea9"
      },
      "outputs": [
        {
          "data": {
            "text/plain": [
              "<matplotlib.axes._subplots.AxesSubplot at 0x7f7022551650>"
            ]
          },
          "execution_count": 19,
          "metadata": {},
          "output_type": "execute_result"
        },
        {
          "data": {
            "image/png": "[encoded data removed]",
            "text/plain": [
              "<Figure size 432x288 with 2 Axes>"
            ]
          },
          "metadata": {
            "needs_background": "light"
          },
          "output_type": "display_data"
        }
      ],
      "source": [
        "sns.heatmap(dt.corr(),annot=True)"
      ]
    },
    {
      "cell_type": "markdown",
      "metadata": {
        "id": "_Qhyw3RRdCcQ"
      },
      "source": [
        "### **DESCRIPTIVE STATISTICS**"
      ]
    },
    {
      "cell_type": "code",
      "execution_count": 20,
      "metadata": {
        "colab": {
          "base_uri": "https://localhost:8080/"
        },
        "id": "XiHZ27TjRzur",
        "outputId": "79eeb91b-13e3-4cac-a716-174c9af27476"
      },
      "outputs": [
        {
          "data": {
            "text/plain": [
              "(200, 5)"
            ]
          },
          "execution_count": 20,
          "metadata": {},
          "output_type": "execute_result"
        }
      ],
      "source": [
        "dt.shape"
      ]
    },
    {
      "cell_type": "code",
      "execution_count": 21,
      "metadata": {
        "colab": {
          "base_uri": "https://localhost:8080/"
        },
        "id": "7JDtsvrUcdyO",
        "outputId": "8f89a298-0ec3-4e61-f01d-37bbe4ebaeab"
      },
      "outputs": [
        {
          "name": "stdout",
          "output_type": "stream",
          "text": [
            "<class 'pandas.core.frame.DataFrame'>\n",
            "RangeIndex: 200 entries, 0 to 199\n",
            "Data columns (total 5 columns):\n",
            " #   Column                  Non-Null Count  Dtype \n",
            "---  ------                  --------------  ----- \n",
            " 0   CustomerID              200 non-null    int64 \n",
            " 1   Gender                  200 non-null    object\n",
            " 2   Age                     200 non-null    int64 \n",
            " 3   Annual Income (k$)      200 non-null    int64 \n",
            " 4   Spending Score (1-100)  200 non-null    int64 \n",
            "dtypes: int64(4), object(1)\n",
            "memory usage: 7.9+ KB\n"
          ]
        }
      ],
      "source": [
        "dt.info()"
      ]
    },
    {
      "cell_type": "code",
      "execution_count": 22,
      "metadata": {
        "colab": {
          "base_uri": "https://localhost:8080/"
        },
        "id": "xGNJySUDdQSl",
        "outputId": "472e2779-9941-4e12-fedd-e170313b9b2a"
      },
      "outputs": [
        {
          "data": {
            "text/plain": [
              "CustomerID                0\n",
              "Gender                    0\n",
              "Age                       0\n",
              "Annual Income (k$)        0\n",
              "Spending Score (1-100)    0\n",
              "dtype: int64"
            ]
          },
          "execution_count": 22,
          "metadata": {},
          "output_type": "execute_result"
        }
      ],
      "source": [
        "dt.isnull().sum()"
      ]
    },
    {
      "cell_type": "code",
      "execution_count": 23,
      "metadata": {
        "colab": {
          "base_uri": "https://localhost:8080/",
          "height": 300
        },
        "id": "TPaaiRrrdQW-",
        "outputId": "3bc9afcf-7d67-40d6-e9dd-cb767c5afec8"
      },
      "outputs": [
        {
          "data": {
            "text/html": [
              "\n",
              "  <div id=\"df-fb083ea4-41ef-41b1-abbb-dbead191b2d3\">\n",
              "    <div class=\"colab-df-container\">\n",
              "      <div>\n",
              "<style scoped>\n",
              "    .dataframe tbody tr th:only-of-type {\n",
              "        vertical-align: middle;\n",
              "    }\n",
              "\n",
              "    .dataframe tbody tr th {\n",
              "        vertical-align: top;\n",
              "    }\n",
              "\n",
              "    .dataframe thead th {\n",
              "        text-align: right;\n",
              "    }\n",
              "</style>\n",
              "<table border=\"1\" class=\"dataframe\">\n",
              "  <thead>\n",
              "    <tr style=\"text-align: right;\">\n",
              "      <th></th>\n",
              "      <th>CustomerID</th>\n",
              "      <th>Age</th>\n",
              "      <th>Annual Income (k$)</th>\n",
              "      <th>Spending Score (1-100)</th>\n",
              "    </tr>\n",
              "  </thead>\n",
              "  <tbody>\n",
              "    <tr>\n",
              "      <th>count</th>\n",
              "      <td>200.000000</td>\n",
              "      <td>200.000000</td>\n",
              "      <td>200.000000</td>\n",
              "      <td>200.000000</td>\n",
              "    </tr>\n",
              "    <tr>\n",
              "      <th>mean</th>\n",
              "      <td>100.500000</td>\n",
              "      <td>38.850000</td>\n",
              "      <td>60.560000</td>\n",
              "      <td>50.200000</td>\n",
              "    </tr>\n",
              "    <tr>\n",
              "      <th>std</th>\n",
              "      <td>57.879185</td>\n",
              "      <td>13.969007</td>\n",
              "      <td>26.264721</td>\n",
              "      <td>25.823522</td>\n",
              "    </tr>\n",
              "    <tr>\n",
              "      <th>min</th>\n",
              "      <td>1.000000</td>\n",
              "      <td>18.000000</td>\n",
              "      <td>15.000000</td>\n",
              "      <td>1.000000</td>\n",
              "    </tr>\n",
              "    <tr>\n",
              "      <th>25%</th>\n",
              "      <td>50.750000</td>\n",
              "      <td>28.750000</td>\n",
              "      <td>41.500000</td>\n",
              "      <td>34.750000</td>\n",
              "    </tr>\n",
              "    <tr>\n",
              "      <th>50%</th>\n",
              "      <td>100.500000</td>\n",
              "      <td>36.000000</td>\n",
              "      <td>61.500000</td>\n",
              "      <td>50.000000</td>\n",
              "    </tr>\n",
              "    <tr>\n",
              "      <th>75%</th>\n",
              "      <td>150.250000</td>\n",
              "      <td>49.000000</td>\n",
              "      <td>78.000000</td>\n",
              "      <td>73.000000</td>\n",
              "    </tr>\n",
              "    <tr>\n",
              "      <th>max</th>\n",
              "      <td>200.000000</td>\n",
              "      <td>70.000000</td>\n",
              "      <td>137.000000</td>\n",
              "      <td>99.000000</td>\n",
              "    </tr>\n",
              "  </tbody>\n",
              "</table>\n",
              "</div>\n",
              "      <button class=\"colab-df-convert\" onclick=\"convertToInteractive('df-fb083ea4-41ef-41b1-abbb-dbead191b2d3')\"\n",
              "              title=\"Convert this dataframe to an interactive table.\"\n",
              "              style=\"display:none;\">\n",
              "        \n",
              "  <svg xmlns=\"http://www.w3.org/2000/svg\" height=\"24px\"viewBox=\"0 0 24 24\"\n",
              "       width=\"24px\">\n",
              "    <path d=\"M0 0h24v24H0V0z\" fill=\"none\"/>\n",
              "    <path d=\"M18.56 5.44l.94 2.06.94-2.06 2.06-.94-2.06-.94-.94-2.06-.94 2.06-2.06.94zm-11 1L8.5 8.5l.94-2.06 2.06-.94-2.06-.94L8.5 2.5l-.94 2.06-2.06.94zm10 10l.94 2.06.94-2.06 2.06-.94-2.06-.94-.94-2.06-.94 2.06-2.06.94z\"/><path d=\"M17.41 7.96l-1.37-1.37c-.4-.4-.92-.59-1.43-.59-.52 0-1.04.2-1.43.59L10.3 9.45l-7.72 7.72c-.78.78-.78 2.05 0 2.83L4 21.41c.39.39.9.59 1.41.59.51 0 1.02-.2 1.41-.59l7.78-7.78 2.81-2.81c.8-.78.8-2.07 0-2.86zM5.41 20L4 18.59l7.72-7.72 1.47 1.35L5.41 20z\"/>\n",
              "  </svg>\n",
              "      </button>\n",
              "      \n",
              "  <style>\n",
              "    .colab-df-container {\n",
              "      display:flex;\n",
              "      flex-wrap:wrap;\n",
              "      gap: 12px;\n",
              "    }\n",
              "\n",
              "    .colab-df-convert {\n",
              "      background-color: #E8F0FE;\n",
              "      border: none;\n",
              "      border-radius: 50%;\n",
              "      cursor: pointer;\n",
              "      display: none;\n",
              "      fill: #1967D2;\n",
              "      height: 32px;\n",
              "      padding: 0 0 0 0;\n",
              "      width: 32px;\n",
              "    }\n",
              "\n",
              "    .colab-df-convert:hover {\n",
              "      background-color: #E2EBFA;\n",
              "      box-shadow: 0px 1px 2px rgba(60, 64, 67, 0.3), 0px 1px 3px 1px rgba(60, 64, 67, 0.15);\n",
              "      fill: #174EA6;\n",
              "    }\n",
              "\n",
              "    [theme=dark] .colab-df-convert {\n",
              "      background-color: #3B4455;\n",
              "      fill: #D2E3FC;\n",
              "    }\n",
              "\n",
              "    [theme=dark] .colab-df-convert:hover {\n",
              "      background-color: #434B5C;\n",
              "      box-shadow: 0px 1px 3px 1px rgba(0, 0, 0, 0.15);\n",
              "      filter: drop-shadow(0px 1px 2px rgba(0, 0, 0, 0.3));\n",
              "      fill: #FFFFFF;\n",
              "    }\n",
              "  </style>\n",
              "\n",
              "      <script>\n",
              "        const buttonEl =\n",
              "          document.querySelector('#df-fb083ea4-41ef-41b1-abbb-dbead191b2d3 button.colab-df-convert');\n",
              "        buttonEl.style.display =\n",
              "          google.colab.kernel.accessAllowed ? 'block' : 'none';\n",
              "\n",
              "        async function convertToInteractive(key) {\n",
              "          const element = document.querySelector('#df-fb083ea4-41ef-41b1-abbb-dbead191b2d3');\n",
              "          const dataTable =\n",
              "            await google.colab.kernel.invokeFunction('convertToInteractive',\n",
              "                                                     [key], {});\n",
              "          if (!dataTable) return;\n",
              "\n",
              "          const docLinkHtml = 'Like what you see? Visit the ' +\n",
              "            '<a target=\"_blank\" href=https://colab.research.google.com/notebooks/data_table.ipynb>data table notebook</a>'\n",
              "            + ' to learn more about interactive tables.';\n",
              "          element.innerHTML = '';\n",
              "          dataTable['output_type'] = 'display_data';\n",
              "          await google.colab.output.renderOutput(dataTable, element);\n",
              "          const docLink = document.createElement('div');\n",
              "          docLink.innerHTML = docLinkHtml;\n",
              "          element.appendChild(docLink);\n",
              "        }\n",
              "      </script>\n",
              "    </div>\n",
              "  </div>\n",
              "  "
            ],
            "text/plain": [
              "       CustomerID         Age  Annual Income (k$)  Spending Score (1-100)\n",
              "count  200.000000  200.000000          200.000000              200.000000\n",
              "mean   100.500000   38.850000           60.560000               50.200000\n",
              "std     57.879185   13.969007           26.264721               25.823522\n",
              "min      1.000000   18.000000           15.000000                1.000000\n",
              "25%     50.750000   28.750000           41.500000               34.750000\n",
              "50%    100.500000   36.000000           61.500000               50.000000\n",
              "75%    150.250000   49.000000           78.000000               73.000000\n",
              "max    200.000000   70.000000          137.000000               99.000000"
            ]
          },
          "execution_count": 23,
          "metadata": {},
          "output_type": "execute_result"
        }
      ],
      "source": [
        "dt.describe()"
      ]
    },
    {
      "cell_type": "code",
      "execution_count": 24,
      "metadata": {
        "colab": {
          "base_uri": "https://localhost:8080/"
        },
        "id": "vgmh-ChldQbY",
        "outputId": "402179c6-1979-4ef2-91f0-e122eec7911b"
      },
      "outputs": [
        {
          "data": {
            "text/plain": [
              "38.85"
            ]
          },
          "execution_count": 24,
          "metadata": {},
          "output_type": "execute_result"
        }
      ],
      "source": [
        "dt['Age'].mean()"
      ]
    },
    {
      "cell_type": "code",
      "execution_count": 25,
      "metadata": {
        "colab": {
          "base_uri": "https://localhost:8080/"
        },
        "id": "1Jxr4ZqGRdxQ",
        "outputId": "5eee9a4d-0a46-4826-d132-382385ee3b5c"
      },
      "outputs": [
        {
          "name": "stderr",
          "output_type": "stream",
          "text": [
            "/usr/local/lib/python3.7/dist-packages/ipykernel_launcher.py:1: FutureWarning: Dropping of nuisance columns in DataFrame reductions (with 'numeric_only=None') is deprecated; in a future version this will raise TypeError.  Select only valid columns before calling the reduction.\n",
            "  \"\"\"Entry point for launching an IPython kernel.\n"
          ]
        },
        {
          "data": {
            "text/plain": [
              "CustomerID                100.50\n",
              "Age                        38.85\n",
              "Annual Income (k$)         60.56\n",
              "Spending Score (1-100)     50.20\n",
              "dtype: float64"
            ]
          },
          "execution_count": 25,
          "metadata": {},
          "output_type": "execute_result"
        }
      ],
      "source": [
        "dt.mean()"
      ]
    },
    {
      "cell_type": "code",
      "execution_count": 26,
      "metadata": {
        "colab": {
          "base_uri": "https://localhost:8080/",
          "height": 424
        },
        "id": "C3lUHrkASShO",
        "outputId": "08eaabc4-d202-4528-fac1-49b34589a598"
      },
      "outputs": [
        {
          "data": {
            "text/html": [
              "\n",
              "  <div id=\"df-c8d86092-2752-4fa7-91c4-3fc0d3fb2c13\">\n",
              "    <div class=\"colab-df-container\">\n",
              "      <div>\n",
              "<style scoped>\n",
              "    .dataframe tbody tr th:only-of-type {\n",
              "        vertical-align: middle;\n",
              "    }\n",
              "\n",
              "    .dataframe tbody tr th {\n",
              "        vertical-align: top;\n",
              "    }\n",
              "\n",
              "    .dataframe thead th {\n",
              "        text-align: right;\n",
              "    }\n",
              "</style>\n",
              "<table border=\"1\" class=\"dataframe\">\n",
              "  <thead>\n",
              "    <tr style=\"text-align: right;\">\n",
              "      <th></th>\n",
              "      <th>CustomerID</th>\n",
              "      <th>Gender</th>\n",
              "      <th>Age</th>\n",
              "      <th>Annual Income (k$)</th>\n",
              "      <th>Spending Score (1-100)</th>\n",
              "    </tr>\n",
              "  </thead>\n",
              "  <tbody>\n",
              "    <tr>\n",
              "      <th>0</th>\n",
              "      <td>1</td>\n",
              "      <td>Female</td>\n",
              "      <td>32.0</td>\n",
              "      <td>54.0</td>\n",
              "      <td>42.0</td>\n",
              "    </tr>\n",
              "    <tr>\n",
              "      <th>1</th>\n",
              "      <td>2</td>\n",
              "      <td>NaN</td>\n",
              "      <td>NaN</td>\n",
              "      <td>78.0</td>\n",
              "      <td>NaN</td>\n",
              "    </tr>\n",
              "    <tr>\n",
              "      <th>2</th>\n",
              "      <td>3</td>\n",
              "      <td>NaN</td>\n",
              "      <td>NaN</td>\n",
              "      <td>NaN</td>\n",
              "      <td>NaN</td>\n",
              "    </tr>\n",
              "    <tr>\n",
              "      <th>3</th>\n",
              "      <td>4</td>\n",
              "      <td>NaN</td>\n",
              "      <td>NaN</td>\n",
              "      <td>NaN</td>\n",
              "      <td>NaN</td>\n",
              "    </tr>\n",
              "    <tr>\n",
              "      <th>4</th>\n",
              "      <td>5</td>\n",
              "      <td>NaN</td>\n",
              "      <td>NaN</td>\n",
              "      <td>NaN</td>\n",
              "      <td>NaN</td>\n",
              "    </tr>\n",
              "    <tr>\n",
              "      <th>...</th>\n",
              "      <td>...</td>\n",
              "      <td>...</td>\n",
              "      <td>...</td>\n",
              "      <td>...</td>\n",
              "      <td>...</td>\n",
              "    </tr>\n",
              "    <tr>\n",
              "      <th>195</th>\n",
              "      <td>196</td>\n",
              "      <td>NaN</td>\n",
              "      <td>NaN</td>\n",
              "      <td>NaN</td>\n",
              "      <td>NaN</td>\n",
              "    </tr>\n",
              "    <tr>\n",
              "      <th>196</th>\n",
              "      <td>197</td>\n",
              "      <td>NaN</td>\n",
              "      <td>NaN</td>\n",
              "      <td>NaN</td>\n",
              "      <td>NaN</td>\n",
              "    </tr>\n",
              "    <tr>\n",
              "      <th>197</th>\n",
              "      <td>198</td>\n",
              "      <td>NaN</td>\n",
              "      <td>NaN</td>\n",
              "      <td>NaN</td>\n",
              "      <td>NaN</td>\n",
              "    </tr>\n",
              "    <tr>\n",
              "      <th>198</th>\n",
              "      <td>199</td>\n",
              "      <td>NaN</td>\n",
              "      <td>NaN</td>\n",
              "      <td>NaN</td>\n",
              "      <td>NaN</td>\n",
              "    </tr>\n",
              "    <tr>\n",
              "      <th>199</th>\n",
              "      <td>200</td>\n",
              "      <td>NaN</td>\n",
              "      <td>NaN</td>\n",
              "      <td>NaN</td>\n",
              "      <td>NaN</td>\n",
              "    </tr>\n",
              "  </tbody>\n",
              "</table>\n",
              "<p>200 rows × 5 columns</p>\n",
              "</div>\n",
              "      <button class=\"colab-df-convert\" onclick=\"convertToInteractive('df-c8d86092-2752-4fa7-91c4-3fc0d3fb2c13')\"\n",
              "              title=\"Convert this dataframe to an interactive table.\"\n",
              "              style=\"display:none;\">\n",
              "        \n",
              "  <svg xmlns=\"http://www.w3.org/2000/svg\" height=\"24px\"viewBox=\"0 0 24 24\"\n",
              "       width=\"24px\">\n",
              "    <path d=\"M0 0h24v24H0V0z\" fill=\"none\"/>\n",
              "    <path d=\"M18.56 5.44l.94 2.06.94-2.06 2.06-.94-2.06-.94-.94-2.06-.94 2.06-2.06.94zm-11 1L8.5 8.5l.94-2.06 2.06-.94-2.06-.94L8.5 2.5l-.94 2.06-2.06.94zm10 10l.94 2.06.94-2.06 2.06-.94-2.06-.94-.94-2.06-.94 2.06-2.06.94z\"/><path d=\"M17.41 7.96l-1.37-1.37c-.4-.4-.92-.59-1.43-.59-.52 0-1.04.2-1.43.59L10.3 9.45l-7.72 7.72c-.78.78-.78 2.05 0 2.83L4 21.41c.39.39.9.59 1.41.59.51 0 1.02-.2 1.41-.59l7.78-7.78 2.81-2.81c.8-.78.8-2.07 0-2.86zM5.41 20L4 18.59l7.72-7.72 1.47 1.35L5.41 20z\"/>\n",
              "  </svg>\n",
              "      </button>\n",
              "      \n",
              "  <style>\n",
              "    .colab-df-container {\n",
              "      display:flex;\n",
              "      flex-wrap:wrap;\n",
              "      gap: 12px;\n",
              "    }\n",
              "\n",
              "    .colab-df-convert {\n",
              "      background-color: #E8F0FE;\n",
              "      border: none;\n",
              "      border-radius: 50%;\n",
              "      cursor: pointer;\n",
              "      display: none;\n",
              "      fill: #1967D2;\n",
              "      height: 32px;\n",
              "      padding: 0 0 0 0;\n",
              "      width: 32px;\n",
              "    }\n",
              "\n",
              "    .colab-df-convert:hover {\n",
              "      background-color: #E2EBFA;\n",
              "      box-shadow: 0px 1px 2px rgba(60, 64, 67, 0.3), 0px 1px 3px 1px rgba(60, 64, 67, 0.15);\n",
              "      fill: #174EA6;\n",
              "    }\n",
              "\n",
              "    [theme=dark] .colab-df-convert {\n",
              "      background-color: #3B4455;\n",
              "      fill: #D2E3FC;\n",
              "    }\n",
              "\n",
              "    [theme=dark] .colab-df-convert:hover {\n",
              "      background-color: #434B5C;\n",
              "      box-shadow: 0px 1px 3px 1px rgba(0, 0, 0, 0.15);\n",
              "      filter: drop-shadow(0px 1px 2px rgba(0, 0, 0, 0.3));\n",
              "      fill: #FFFFFF;\n",
              "    }\n",
              "  </style>\n",
              "\n",
              "      <script>\n",
              "        const buttonEl =\n",
              "          document.querySelector('#df-c8d86092-2752-4fa7-91c4-3fc0d3fb2c13 button.colab-df-convert');\n",
              "        buttonEl.style.display =\n",
              "          google.colab.kernel.accessAllowed ? 'block' : 'none';\n",
              "\n",
              "        async function convertToInteractive(key) {\n",
              "          const element = document.querySelector('#df-c8d86092-2752-4fa7-91c4-3fc0d3fb2c13');\n",
              "          const dataTable =\n",
              "            await google.colab.kernel.invokeFunction('convertToInteractive',\n",
              "                                                     [key], {});\n",
              "          if (!dataTable) return;\n",
              "\n",
              "          const docLinkHtml = 'Like what you see? Visit the ' +\n",
              "            '<a target=\"_blank\" href=https://colab.research.google.com/notebooks/data_table.ipynb>data table notebook</a>'\n",
              "            + ' to learn more about interactive tables.';\n",
              "          element.innerHTML = '';\n",
              "          dataTable['output_type'] = 'display_data';\n",
              "          await google.colab.output.renderOutput(dataTable, element);\n",
              "          const docLink = document.createElement('div');\n",
              "          docLink.innerHTML = docLinkHtml;\n",
              "          element.appendChild(docLink);\n",
              "        }\n",
              "      </script>\n",
              "    </div>\n",
              "  </div>\n",
              "  "
            ],
            "text/plain": [
              "     CustomerID  Gender   Age  Annual Income (k$)  Spending Score (1-100)\n",
              "0             1  Female  32.0                54.0                    42.0\n",
              "1             2     NaN   NaN                78.0                     NaN\n",
              "2             3     NaN   NaN                 NaN                     NaN\n",
              "3             4     NaN   NaN                 NaN                     NaN\n",
              "4             5     NaN   NaN                 NaN                     NaN\n",
              "..          ...     ...   ...                 ...                     ...\n",
              "195         196     NaN   NaN                 NaN                     NaN\n",
              "196         197     NaN   NaN                 NaN                     NaN\n",
              "197         198     NaN   NaN                 NaN                     NaN\n",
              "198         199     NaN   NaN                 NaN                     NaN\n",
              "199         200     NaN   NaN                 NaN                     NaN\n",
              "\n",
              "[200 rows x 5 columns]"
            ]
          },
          "execution_count": 26,
          "metadata": {},
          "output_type": "execute_result"
        }
      ],
      "source": [
        "dt.mode()"
      ]
    },
    {
      "cell_type": "code",
      "execution_count": 27,
      "metadata": {
        "colab": {
          "base_uri": "https://localhost:8080/"
        },
        "id": "o88ya7Dud1IG",
        "outputId": "eeb1d718-66ea-4580-a413-fa1ca9d02def"
      },
      "outputs": [
        {
          "name": "stderr",
          "output_type": "stream",
          "text": [
            "/usr/local/lib/python3.7/dist-packages/ipykernel_launcher.py:1: FutureWarning: Dropping of nuisance columns in DataFrame reductions (with 'numeric_only=None') is deprecated; in a future version this will raise TypeError.  Select only valid columns before calling the reduction.\n",
            "  \"\"\"Entry point for launching an IPython kernel.\n"
          ]
        },
        {
          "data": {
            "text/plain": [
              "CustomerID                100.5\n",
              "Age                        36.0\n",
              "Annual Income (k$)         61.5\n",
              "Spending Score (1-100)     50.0\n",
              "dtype: float64"
            ]
          },
          "execution_count": 27,
          "metadata": {},
          "output_type": "execute_result"
        }
      ],
      "source": [
        "dt.median()"
      ]
    },
    {
      "cell_type": "code",
      "execution_count": 28,
      "metadata": {
        "colab": {
          "base_uri": "https://localhost:8080/"
        },
        "id": "ecEp52ZHd3D4",
        "outputId": "b8225c14-f279-4ded-aed1-942377d10803"
      },
      "outputs": [
        {
          "data": {
            "text/plain": [
              "Female    112\n",
              "Male       88\n",
              "Name: Gender, dtype: int64"
            ]
          },
          "execution_count": 28,
          "metadata": {},
          "output_type": "execute_result"
        }
      ],
      "source": [
        "dt['Gender'].value_counts()"
      ]
    },
    {
      "cell_type": "markdown",
      "metadata": {
        "id": "mqWE6OM8ePhD"
      },
      "source": [
        "### **HANDLE MISSING VALUES**"
      ]
    },
    {
      "cell_type": "code",
      "execution_count": 29,
      "metadata": {
        "colab": {
          "base_uri": "https://localhost:8080/"
        },
        "id": "sJIWiwkTd8S2",
        "outputId": "58926f00-6ede-4db1-dc3f-c625eafcefb3"
      },
      "outputs": [
        {
          "data": {
            "text/plain": [
              "CustomerID                0\n",
              "Gender                    0\n",
              "Age                       0\n",
              "Annual Income (k$)        0\n",
              "Spending Score (1-100)    0\n",
              "dtype: int64"
            ]
          },
          "execution_count": 29,
          "metadata": {},
          "output_type": "execute_result"
        }
      ],
      "source": [
        "dt.isna().sum()"
      ]
    },
    {
      "cell_type": "code",
      "execution_count": 30,
      "metadata": {
        "id": "TkIbkMC1eU4Q"
      },
      "outputs": [],
      "source": [
        "#there is no missing values.. \n",
        "#updated_dt['Spending Score (1-100)']=dt['Spending Score (1-100)'].fillna(dt['Age'].mean())"
      ]
    },
    {
      "cell_type": "markdown",
      "metadata": {
        "id": "0I319v3WfISS"
      },
      "source": [
        "### **HANDLING OUTLIERS**"
      ]
    },
    {
      "cell_type": "code",
      "execution_count": 31,
      "metadata": {
        "colab": {
          "base_uri": "https://localhost:8080/",
          "height": 353
        },
        "id": "I-g7ID_lfG3M",
        "outputId": "eed1531b-c321-4417-acd3-f81d475a278f"
      },
      "outputs": [
        {
          "name": "stderr",
          "output_type": "stream",
          "text": [
            "/usr/local/lib/python3.7/dist-packages/seaborn/_decorators.py:43: FutureWarning: Pass the following variable as a keyword arg: x. From version 0.12, the only valid positional argument will be `data`, and passing other arguments without an explicit keyword will result in an error or misinterpretation.\n",
            "  FutureWarning\n"
          ]
        },
        {
          "data": {
            "text/plain": [
              "<matplotlib.axes._subplots.AxesSubplot at 0x7f7020c33790>"
            ]
          },
          "execution_count": 31,
          "metadata": {},
          "output_type": "execute_result"
        },
        {
          "data": {
            "image/png": "[encoded data removed]",
            "text/plain": [
              "<Figure size 432x288 with 1 Axes>"
            ]
          },
          "metadata": {
            "needs_background": "light"
          },
          "output_type": "display_data"
        }
      ],
      "source": [
        "sns.boxplot(dt['Spending Score (1-100)'])"
      ]
    },
    {
      "cell_type": "code",
      "execution_count": 32,
      "metadata": {
        "id": "6jBZtI_VfR7r"
      },
      "outputs": [],
      "source": [
        "Q1 = dt['Spending Score (1-100)'].quantile(0.25)\n",
        "Q3 = dt['Spending Score (1-100)'].quantile(0.75)\n",
        "IQR = Q3 - Q1\n",
        "whisker_width = 1.5\n",
        "lower_whisker = Q1 -(whisker_width*IQR)\n",
        "upper_whisker = Q3 +(whisker_width*IQR)\n",
        "dt['Spending Score (1-100)']=np.where(dt['Spending Score (1-100)']>upper_whisker,upper_whisker,np.where(dt['Spending Score (1-100)']<lower_whisker,lower_whisker,dt['Spending Score (1-100)']))"
      ]
    },
    {
      "cell_type": "code",
      "execution_count": 33,
      "metadata": {
        "colab": {
          "base_uri": "https://localhost:8080/",
          "height": 353
        },
        "id": "W8lZItcLga-Z",
        "outputId": "367e6343-c7ea-4785-8f43-b65b6e2b5654"
      },
      "outputs": [
        {
          "name": "stderr",
          "output_type": "stream",
          "text": [
            "/usr/local/lib/python3.7/dist-packages/seaborn/_decorators.py:43: FutureWarning: Pass the following variable as a keyword arg: x. From version 0.12, the only valid positional argument will be `data`, and passing other arguments without an explicit keyword will result in an error or misinterpretation.\n",
            "  FutureWarning\n"
          ]
        },
        {
          "data": {
            "text/plain": [
              "<matplotlib.axes._subplots.AxesSubplot at 0x7f7020c18d90>"
            ]
          },
          "execution_count": 33,
          "metadata": {},
          "output_type": "execute_result"
        },
        {
          "data": {
            "image/png": "[encoded data removed]",
            "text/plain": [
              "<Figure size 432x288 with 1 Axes>"
            ]
          },
          "metadata": {
            "needs_background": "light"
          },
          "output_type": "display_data"
        }
      ],
      "source": [
        "sns.boxplot(dt['Spending Score (1-100)'])"
      ]
    },
    {
      "cell_type": "markdown",
      "metadata": {
        "id": "-KP8fADjhkL8"
      },
      "source": [
        "### **CATEGORICAL VARIABLE AND ENCODING**"
      ]
    },
    {
      "cell_type": "code",
      "execution_count": 34,
      "metadata": {
        "colab": {
          "base_uri": "https://localhost:8080/"
        },
        "id": "jjTkKJOHhtlv",
        "outputId": "0c2d68b2-f136-43f4-8e4b-ce9fcfe4183a"
      },
      "outputs": [
        {
          "name": "stdout",
          "output_type": "stream",
          "text": [
            "Number of numerical variables:  4\n",
            "Number of categorical variables:  1\n"
          ]
        }
      ],
      "source": [
        "numeric_dt = dt.select_dtypes(include=[np.number]) \n",
        "categorical_dt = dt.select_dtypes(exclude=[np.number]) \n",
        "print(\"Number of numerical variables: \", numeric_dt.shape[1]) \n",
        "print(\"Number of categorical variables: \", categorical_dt.shape[1])"
      ]
    },
    {
      "cell_type": "code",
      "execution_count": 35,
      "metadata": {
        "colab": {
          "base_uri": "https://localhost:8080/"
        },
        "id": "mB44GUL0htom",
        "outputId": "87d137ef-bff4-451f-d0df-6bb5450e8543"
      },
      "outputs": [
        {
          "name": "stdout",
          "output_type": "stream",
          "text": [
            "Number of categorical variables:  1\n"
          ]
        },
        {
          "data": {
            "text/plain": [
              "['Gender']"
            ]
          },
          "execution_count": 35,
          "metadata": {},
          "output_type": "execute_result"
        }
      ],
      "source": [
        "print(\"Number of categorical variables: \", categorical_dt.shape[1]) \n",
        "Categorical_variables = list(categorical_dt.columns)\n",
        "Categorical_variables"
      ]
    },
    {
      "cell_type": "code",
      "execution_count": 36,
      "metadata": {
        "colab": {
          "base_uri": "https://localhost:8080/"
        },
        "id": "t5uMFSX_iLnK",
        "outputId": "bf1633cf-e8de-45a5-9aaa-9600600d6451"
      },
      "outputs": [
        {
          "data": {
            "text/plain": [
              "Female    112\n",
              "Male       88\n",
              "Name: Gender, dtype: int64"
            ]
          },
          "execution_count": 36,
          "metadata": {},
          "output_type": "execute_result"
        }
      ],
      "source": [
        "dt['Gender'].value_counts()"
      ]
    },
    {
      "cell_type": "code",
      "execution_count": 37,
      "metadata": {
        "id": "ZP1EJ71phtrv"
      },
      "outputs": [],
      "source": [
        "from sklearn.preprocessing import LabelEncoder\n",
        "le = LabelEncoder()\n",
        "label = le.fit_transform(dt['Gender'])\n",
        "dt[\"Gender\"] = label"
      ]
    },
    {
      "cell_type": "code",
      "execution_count": 38,
      "metadata": {
        "colab": {
          "base_uri": "https://localhost:8080/"
        },
        "id": "XLhGLjB6iX_6",
        "outputId": "269453c1-7597-40a6-85ec-d40f15602586"
      },
      "outputs": [
        {
          "data": {
            "text/plain": [
              "0    112\n",
              "1     88\n",
              "Name: Gender, dtype: int64"
            ]
          },
          "execution_count": 38,
          "metadata": {},
          "output_type": "execute_result"
        }
      ],
      "source": [
        "dt['Gender'].value_counts()"
      ]
    },
    {
      "cell_type": "markdown",
      "metadata": {
        "id": "cTLD_8G27lbW"
      },
      "source": [
        "### **Independent and dependent variable**\n"
      ]
    },
    {
      "cell_type": "code",
      "execution_count": 39,
      "metadata": {
        "id": "QmF8kTTR7mzM"
      },
      "outputs": [],
      "source": [
        "X = dt.drop(\"Spending Score (1-100)\",axis=1)\n",
        "Y = dt['Spending Score (1-100)']"
      ]
    },
    {
      "cell_type": "code",
      "execution_count": 40,
      "metadata": {
        "colab": {
          "base_uri": "https://localhost:8080/",
          "height": 206
        },
        "id": "ExLkz2AO8z5J",
        "outputId": "e9171ddb-a5de-4018-fd32-99300c834902"
      },
      "outputs": [
        {
          "data": {
            "text/html": [
              "\n",
              "  <div id=\"df-e940ffe9-c23d-4f71-ba41-d3589f1ea925\">\n",
              "    <div class=\"colab-df-container\">\n",
              "      <div>\n",
              "<style scoped>\n",
              "    .dataframe tbody tr th:only-of-type {\n",
              "        vertical-align: middle;\n",
              "    }\n",
              "\n",
              "    .dataframe tbody tr th {\n",
              "        vertical-align: top;\n",
              "    }\n",
              "\n",
              "    .dataframe thead th {\n",
              "        text-align: right;\n",
              "    }\n",
              "</style>\n",
              "<table border=\"1\" class=\"dataframe\">\n",
              "  <thead>\n",
              "    <tr style=\"text-align: right;\">\n",
              "      <th></th>\n",
              "      <th>CustomerID</th>\n",
              "      <th>Gender</th>\n",
              "      <th>Age</th>\n",
              "      <th>Annual Income (k$)</th>\n",
              "    </tr>\n",
              "  </thead>\n",
              "  <tbody>\n",
              "    <tr>\n",
              "      <th>0</th>\n",
              "      <td>1</td>\n",
              "      <td>1</td>\n",
              "      <td>19</td>\n",
              "      <td>15</td>\n",
              "    </tr>\n",
              "    <tr>\n",
              "      <th>1</th>\n",
              "      <td>2</td>\n",
              "      <td>1</td>\n",
              "      <td>21</td>\n",
              "      <td>15</td>\n",
              "    </tr>\n",
              "    <tr>\n",
              "      <th>2</th>\n",
              "      <td>3</td>\n",
              "      <td>0</td>\n",
              "      <td>20</td>\n",
              "      <td>16</td>\n",
              "    </tr>\n",
              "    <tr>\n",
              "      <th>3</th>\n",
              "      <td>4</td>\n",
              "      <td>0</td>\n",
              "      <td>23</td>\n",
              "      <td>16</td>\n",
              "    </tr>\n",
              "    <tr>\n",
              "      <th>4</th>\n",
              "      <td>5</td>\n",
              "      <td>0</td>\n",
              "      <td>31</td>\n",
              "      <td>17</td>\n",
              "    </tr>\n",
              "  </tbody>\n",
              "</table>\n",
              "</div>\n",
              "      <button class=\"colab-df-convert\" onclick=\"convertToInteractive('df-e940ffe9-c23d-4f71-ba41-d3589f1ea925')\"\n",
              "              title=\"Convert this dataframe to an interactive table.\"\n",
              "              style=\"display:none;\">\n",
              "        \n",
              "  <svg xmlns=\"http://www.w3.org/2000/svg\" height=\"24px\"viewBox=\"0 0 24 24\"\n",
              "       width=\"24px\">\n",
              "    <path d=\"M0 0h24v24H0V0z\" fill=\"none\"/>\n",
              "    <path d=\"M18.56 5.44l.94 2.06.94-2.06 2.06-.94-2.06-.94-.94-2.06-.94 2.06-2.06.94zm-11 1L8.5 8.5l.94-2.06 2.06-.94-2.06-.94L8.5 2.5l-.94 2.06-2.06.94zm10 10l.94 2.06.94-2.06 2.06-.94-2.06-.94-.94-2.06-.94 2.06-2.06.94z\"/><path d=\"M17.41 7.96l-1.37-1.37c-.4-.4-.92-.59-1.43-.59-.52 0-1.04.2-1.43.59L10.3 9.45l-7.72 7.72c-.78.78-.78 2.05 0 2.83L4 21.41c.39.39.9.59 1.41.59.51 0 1.02-.2 1.41-.59l7.78-7.78 2.81-2.81c.8-.78.8-2.07 0-2.86zM5.41 20L4 18.59l7.72-7.72 1.47 1.35L5.41 20z\"/>\n",
              "  </svg>\n",
              "      </button>\n",
              "      \n",
              "  <style>\n",
              "    .colab-df-container {\n",
              "      display:flex;\n",
              "      flex-wrap:wrap;\n",
              "      gap: 12px;\n",
              "    }\n",
              "\n",
              "    .colab-df-convert {\n",
              "      background-color: #E8F0FE;\n",
              "      border: none;\n",
              "      border-radius: 50%;\n",
              "      cursor: pointer;\n",
              "      display: none;\n",
              "      fill: #1967D2;\n",
              "      height: 32px;\n",
              "      padding: 0 0 0 0;\n",
              "      width: 32px;\n",
              "    }\n",
              "\n",
              "    .colab-df-convert:hover {\n",
              "      background-color: #E2EBFA;\n",
              "      box-shadow: 0px 1px 2px rgba(60, 64, 67, 0.3), 0px 1px 3px 1px rgba(60, 64, 67, 0.15);\n",
              "      fill: #174EA6;\n",
              "    }\n",
              "\n",
              "    [theme=dark] .colab-df-convert {\n",
              "      background-color: #3B4455;\n",
              "      fill: #D2E3FC;\n",
              "    }\n",
              "\n",
              "    [theme=dark] .colab-df-convert:hover {\n",
              "      background-color: #434B5C;\n",
              "      box-shadow: 0px 1px 3px 1px rgba(0, 0, 0, 0.15);\n",
              "      filter: drop-shadow(0px 1px 2px rgba(0, 0, 0, 0.3));\n",
              "      fill: #FFFFFF;\n",
              "    }\n",
              "  </style>\n",
              "\n",
              "      <script>\n",
              "        const buttonEl =\n",
              "          document.querySelector('#df-e940ffe9-c23d-4f71-ba41-d3589f1ea925 button.colab-df-convert');\n",
              "        buttonEl.style.display =\n",
              "          google.colab.kernel.accessAllowed ? 'block' : 'none';\n",
              "\n",
              "        async function convertToInteractive(key) {\n",
              "          const element = document.querySelector('#df-e940ffe9-c23d-4f71-ba41-d3589f1ea925');\n",
              "          const dataTable =\n",
              "            await google.colab.kernel.invokeFunction('convertToInteractive',\n",
              "                                                     [key], {});\n",
              "          if (!dataTable) return;\n",
              "\n",
              "          const docLinkHtml = 'Like what you see? Visit the ' +\n",
              "            '<a target=\"_blank\" href=https://colab.research.google.com/notebooks/data_table.ipynb>data table notebook</a>'\n",
              "            + ' to learn more about interactive tables.';\n",
              "          element.innerHTML = '';\n",
              "          dataTable['output_type'] = 'display_data';\n",
              "          await google.colab.output.renderOutput(dataTable, element);\n",
              "          const docLink = document.createElement('div');\n",
              "          docLink.innerHTML = docLinkHtml;\n",
              "          element.appendChild(docLink);\n",
              "        }\n",
              "      </script>\n",
              "    </div>\n",
              "  </div>\n",
              "  "
            ],
            "text/plain": [
              "   CustomerID  Gender  Age  Annual Income (k$)\n",
              "0           1       1   19                  15\n",
              "1           2       1   21                  15\n",
              "2           3       0   20                  16\n",
              "3           4       0   23                  16\n",
              "4           5       0   31                  17"
            ]
          },
          "execution_count": 40,
          "metadata": {},
          "output_type": "execute_result"
        }
      ],
      "source": [
        "X[:5]"
      ]
    },
    {
      "cell_type": "code",
      "execution_count": 41,
      "metadata": {
        "colab": {
          "base_uri": "https://localhost:8080/"
        },
        "id": "vMSfAyi4_iJa",
        "outputId": "a842d4ec-3acb-4313-b6b6-5e1a582bb963"
      },
      "outputs": [
        {
          "data": {
            "text/plain": [
              "0    39.0\n",
              "1    81.0\n",
              "2     6.0\n",
              "3    77.0\n",
              "4    40.0\n",
              "Name: Spending Score (1-100), dtype: float64"
            ]
          },
          "execution_count": 41,
          "metadata": {},
          "output_type": "execute_result"
        }
      ],
      "source": [
        "Y[:5]"
      ]
    },
    {
      "cell_type": "markdown",
      "metadata": {
        "id": "Sp6PL0bC7vch"
      },
      "source": [
        "### **Scale independent variables**"
      ]
    },
    {
      "cell_type": "code",
      "execution_count": 42,
      "metadata": {
        "colab": {
          "base_uri": "https://localhost:8080/",
          "height": 424
        },
        "id": "VJI1LwJUC6XL",
        "outputId": "06d1734f-c352-474c-abb1-710f98aadc14"
      },
      "outputs": [
        {
          "data": {
            "text/html": [
              "\n",
              "  <div id=\"df-41a222cb-5bf4-4cbb-9428-5efbe61d0514\">\n",
              "    <div class=\"colab-df-container\">\n",
              "      <div>\n",
              "<style scoped>\n",
              "    .dataframe tbody tr th:only-of-type {\n",
              "        vertical-align: middle;\n",
              "    }\n",
              "\n",
              "    .dataframe tbody tr th {\n",
              "        vertical-align: top;\n",
              "    }\n",
              "\n",
              "    .dataframe thead th {\n",
              "        text-align: right;\n",
              "    }\n",
              "</style>\n",
              "<table border=\"1\" class=\"dataframe\">\n",
              "  <thead>\n",
              "    <tr style=\"text-align: right;\">\n",
              "      <th></th>\n",
              "      <th>CustomerID</th>\n",
              "      <th>Gender</th>\n",
              "      <th>Age</th>\n",
              "      <th>Annual Income (k$)</th>\n",
              "    </tr>\n",
              "  </thead>\n",
              "  <tbody>\n",
              "    <tr>\n",
              "      <th>0</th>\n",
              "      <td>1</td>\n",
              "      <td>1</td>\n",
              "      <td>19</td>\n",
              "      <td>15</td>\n",
              "    </tr>\n",
              "    <tr>\n",
              "      <th>1</th>\n",
              "      <td>2</td>\n",
              "      <td>1</td>\n",
              "      <td>21</td>\n",
              "      <td>15</td>\n",
              "    </tr>\n",
              "    <tr>\n",
              "      <th>2</th>\n",
              "      <td>3</td>\n",
              "      <td>0</td>\n",
              "      <td>20</td>\n",
              "      <td>16</td>\n",
              "    </tr>\n",
              "    <tr>\n",
              "      <th>3</th>\n",
              "      <td>4</td>\n",
              "      <td>0</td>\n",
              "      <td>23</td>\n",
              "      <td>16</td>\n",
              "    </tr>\n",
              "    <tr>\n",
              "      <th>4</th>\n",
              "      <td>5</td>\n",
              "      <td>0</td>\n",
              "      <td>31</td>\n",
              "      <td>17</td>\n",
              "    </tr>\n",
              "    <tr>\n",
              "      <th>...</th>\n",
              "      <td>...</td>\n",
              "      <td>...</td>\n",
              "      <td>...</td>\n",
              "      <td>...</td>\n",
              "    </tr>\n",
              "    <tr>\n",
              "      <th>195</th>\n",
              "      <td>196</td>\n",
              "      <td>0</td>\n",
              "      <td>35</td>\n",
              "      <td>120</td>\n",
              "    </tr>\n",
              "    <tr>\n",
              "      <th>196</th>\n",
              "      <td>197</td>\n",
              "      <td>0</td>\n",
              "      <td>45</td>\n",
              "      <td>126</td>\n",
              "    </tr>\n",
              "    <tr>\n",
              "      <th>197</th>\n",
              "      <td>198</td>\n",
              "      <td>1</td>\n",
              "      <td>32</td>\n",
              "      <td>126</td>\n",
              "    </tr>\n",
              "    <tr>\n",
              "      <th>198</th>\n",
              "      <td>199</td>\n",
              "      <td>1</td>\n",
              "      <td>32</td>\n",
              "      <td>137</td>\n",
              "    </tr>\n",
              "    <tr>\n",
              "      <th>199</th>\n",
              "      <td>200</td>\n",
              "      <td>1</td>\n",
              "      <td>30</td>\n",
              "      <td>137</td>\n",
              "    </tr>\n",
              "  </tbody>\n",
              "</table>\n",
              "<p>200 rows × 4 columns</p>\n",
              "</div>\n",
              "      <button class=\"colab-df-convert\" onclick=\"convertToInteractive('df-41a222cb-5bf4-4cbb-9428-5efbe61d0514')\"\n",
              "              title=\"Convert this dataframe to an interactive table.\"\n",
              "              style=\"display:none;\">\n",
              "        \n",
              "  <svg xmlns=\"http://www.w3.org/2000/svg\" height=\"24px\"viewBox=\"0 0 24 24\"\n",
              "       width=\"24px\">\n",
              "    <path d=\"M0 0h24v24H0V0z\" fill=\"none\"/>\n",
              "    <path d=\"M18.56 5.44l.94 2.06.94-2.06 2.06-.94-2.06-.94-.94-2.06-.94 2.06-2.06.94zm-11 1L8.5 8.5l.94-2.06 2.06-.94-2.06-.94L8.5 2.5l-.94 2.06-2.06.94zm10 10l.94 2.06.94-2.06 2.06-.94-2.06-.94-.94-2.06-.94 2.06-2.06.94z\"/><path d=\"M17.41 7.96l-1.37-1.37c-.4-.4-.92-.59-1.43-.59-.52 0-1.04.2-1.43.59L10.3 9.45l-7.72 7.72c-.78.78-.78 2.05 0 2.83L4 21.41c.39.39.9.59 1.41.59.51 0 1.02-.2 1.41-.59l7.78-7.78 2.81-2.81c.8-.78.8-2.07 0-2.86zM5.41 20L4 18.59l7.72-7.72 1.47 1.35L5.41 20z\"/>\n",
              "  </svg>\n",
              "      </button>\n",
              "      \n",
              "  <style>\n",
              "    .colab-df-container {\n",
              "      display:flex;\n",
              "      flex-wrap:wrap;\n",
              "      gap: 12px;\n",
              "    }\n",
              "\n",
              "    .colab-df-convert {\n",
              "      background-color: #E8F0FE;\n",
              "      border: none;\n",
              "      border-radius: 50%;\n",
              "      cursor: pointer;\n",
              "      display: none;\n",
              "      fill: #1967D2;\n",
              "      height: 32px;\n",
              "      padding: 0 0 0 0;\n",
              "      width: 32px;\n",
              "    }\n",
              "\n",
              "    .colab-df-convert:hover {\n",
              "      background-color: #E2EBFA;\n",
              "      box-shadow: 0px 1px 2px rgba(60, 64, 67, 0.3), 0px 1px 3px 1px rgba(60, 64, 67, 0.15);\n",
              "      fill: #174EA6;\n",
              "    }\n",
              "\n",
              "    [theme=dark] .colab-df-convert {\n",
              "      background-color: #3B4455;\n",
              "      fill: #D2E3FC;\n",
              "    }\n",
              "\n",
              "    [theme=dark] .colab-df-convert:hover {\n",
              "      background-color: #434B5C;\n",
              "      box-shadow: 0px 1px 3px 1px rgba(0, 0, 0, 0.15);\n",
              "      filter: drop-shadow(0px 1px 2px rgba(0, 0, 0, 0.3));\n",
              "      fill: #FFFFFF;\n",
              "    }\n",
              "  </style>\n",
              "\n",
              "      <script>\n",
              "        const buttonEl =\n",
              "          document.querySelector('#df-41a222cb-5bf4-4cbb-9428-5efbe61d0514 button.colab-df-convert');\n",
              "        buttonEl.style.display =\n",
              "          google.colab.kernel.accessAllowed ? 'block' : 'none';\n",
              "\n",
              "        async function convertToInteractive(key) {\n",
              "          const element = document.querySelector('#df-41a222cb-5bf4-4cbb-9428-5efbe61d0514');\n",
              "          const dataTable =\n",
              "            await google.colab.kernel.invokeFunction('convertToInteractive',\n",
              "                                                     [key], {});\n",
              "          if (!dataTable) return;\n",
              "\n",
              "          const docLinkHtml = 'Like what you see? Visit the ' +\n",
              "            '<a target=\"_blank\" href=https://colab.research.google.com/notebooks/data_table.ipynb>data table notebook</a>'\n",
              "            + ' to learn more about interactive tables.';\n",
              "          element.innerHTML = '';\n",
              "          dataTable['output_type'] = 'display_data';\n",
              "          await google.colab.output.renderOutput(dataTable, element);\n",
              "          const docLink = document.createElement('div');\n",
              "          docLink.innerHTML = docLinkHtml;\n",
              "          element.appendChild(docLink);\n",
              "        }\n",
              "      </script>\n",
              "    </div>\n",
              "  </div>\n",
              "  "
            ],
            "text/plain": [
              "     CustomerID  Gender  Age  Annual Income (k$)\n",
              "0             1       1   19                  15\n",
              "1             2       1   21                  15\n",
              "2             3       0   20                  16\n",
              "3             4       0   23                  16\n",
              "4             5       0   31                  17\n",
              "..          ...     ...  ...                 ...\n",
              "195         196       0   35                 120\n",
              "196         197       0   45                 126\n",
              "197         198       1   32                 126\n",
              "198         199       1   32                 137\n",
              "199         200       1   30                 137\n",
              "\n",
              "[200 rows x 4 columns]"
            ]
          },
          "execution_count": 42,
          "metadata": {},
          "output_type": "execute_result"
        }
      ],
      "source": [
        "X"
      ]
    },
    {
      "cell_type": "code",
      "execution_count": 43,
      "metadata": {
        "colab": {
          "base_uri": "https://localhost:8080/"
        },
        "id": "wdokgMNt7m1v",
        "outputId": "938118f0-37c5-4e52-985f-6e295dfd7250"
      },
      "outputs": [
        {
          "name": "stdout",
          "output_type": "stream",
          "text": [
            "[[-1.7234121   1.12815215 -1.42456879 -1.73899919]\n",
            " [-1.70609137  1.12815215 -1.28103541 -1.73899919]\n",
            " [-1.68877065 -0.88640526 -1.3528021  -1.70082976]\n",
            " [-1.67144992 -0.88640526 -1.13750203 -1.70082976]\n",
            " [-1.6541292  -0.88640526 -0.56336851 -1.66266033]\n",
            " [-1.63680847 -0.88640526 -1.20926872 -1.66266033]\n",
            " [-1.61948775 -0.88640526 -0.27630176 -1.62449091]\n",
            " [-1.60216702 -0.88640526 -1.13750203 -1.62449091]\n",
            " [-1.5848463   1.12815215  1.80493225 -1.58632148]\n",
            " [-1.56752558 -0.88640526 -0.6351352  -1.58632148]\n",
            " [-1.55020485  1.12815215  2.02023231 -1.58632148]\n",
            " [-1.53288413 -0.88640526 -0.27630176 -1.58632148]\n",
            " [-1.5155634  -0.88640526  1.37433211 -1.54815205]\n",
            " [-1.49824268 -0.88640526 -1.06573534 -1.54815205]\n",
            " [-1.48092195  1.12815215 -0.13276838 -1.54815205]\n",
            " [-1.46360123  1.12815215 -1.20926872 -1.54815205]\n",
            " [-1.4462805  -0.88640526 -0.27630176 -1.50998262]\n",
            " [-1.42895978  1.12815215 -1.3528021  -1.50998262]\n",
            " [-1.41163905  1.12815215  0.94373197 -1.43364376]\n",
            " [-1.39431833 -0.88640526 -0.27630176 -1.43364376]\n",
            " [-1.3769976   1.12815215 -0.27630176 -1.39547433]\n",
            " [-1.35967688  1.12815215 -0.99396865 -1.39547433]\n",
            " [-1.34235616 -0.88640526  0.51313183 -1.3573049 ]\n",
            " [-1.32503543  1.12815215 -0.56336851 -1.3573049 ]\n",
            " [-1.30771471 -0.88640526  1.08726535 -1.24279661]\n",
            " [-1.29039398  1.12815215 -0.70690189 -1.24279661]\n",
            " [-1.27307326 -0.88640526  0.44136514 -1.24279661]\n",
            " [-1.25575253  1.12815215 -0.27630176 -1.24279661]\n",
            " [-1.23843181 -0.88640526  0.08253169 -1.20462718]\n",
            " [-1.22111108 -0.88640526 -1.13750203 -1.20462718]\n",
            " [-1.20379036  1.12815215  1.51786549 -1.16645776]\n",
            " [-1.18646963 -0.88640526 -1.28103541 -1.16645776]\n",
            " [-1.16914891  1.12815215  1.01549866 -1.05194947]\n",
            " [-1.15182818  1.12815215 -1.49633548 -1.05194947]\n",
            " [-1.13450746 -0.88640526  0.7284319  -1.05194947]\n",
            " [-1.11718674 -0.88640526 -1.28103541 -1.05194947]\n",
            " [-1.09986601 -0.88640526  0.22606507 -1.01378004]\n",
            " [-1.08254529 -0.88640526 -0.6351352  -1.01378004]\n",
            " [-1.06522456 -0.88640526 -0.20453507 -0.89927175]\n",
            " [-1.04790384 -0.88640526 -1.3528021  -0.89927175]\n",
            " [-1.03058311 -0.88640526  1.87669894 -0.86110232]\n",
            " [-1.01326239  1.12815215 -1.06573534 -0.86110232]\n",
            " [-0.99594166  1.12815215  0.65666521 -0.82293289]\n",
            " [-0.97862094 -0.88640526 -0.56336851 -0.82293289]\n",
            " [-0.96130021 -0.88640526  0.7284319  -0.82293289]\n",
            " [-0.94397949 -0.88640526 -1.06573534 -0.82293289]\n",
            " [-0.92665877 -0.88640526  0.80019859 -0.78476346]\n",
            " [-0.90933804 -0.88640526 -0.85043527 -0.78476346]\n",
            " [-0.89201732 -0.88640526 -0.70690189 -0.78476346]\n",
            " [-0.87469659 -0.88640526 -0.56336851 -0.78476346]\n",
            " [-0.85737587 -0.88640526  0.7284319  -0.70842461]\n",
            " [-0.84005514  1.12815215 -0.41983513 -0.70842461]\n",
            " [-0.82273442 -0.88640526 -0.56336851 -0.67025518]\n",
            " [-0.80541369  1.12815215  1.4460988  -0.67025518]\n",
            " [-0.78809297 -0.88640526  0.80019859 -0.67025518]\n",
            " [-0.77077224  1.12815215  0.58489852 -0.67025518]\n",
            " [-0.75345152 -0.88640526  0.87196528 -0.63208575]\n",
            " [-0.73613079  1.12815215  2.16376569 -0.63208575]\n",
            " [-0.71881007 -0.88640526 -0.85043527 -0.55574689]\n",
            " [-0.70148935  1.12815215  1.01549866 -0.55574689]\n",
            " [-0.68416862  1.12815215  2.23553238 -0.55574689]\n",
            " [-0.6668479   1.12815215 -1.42456879 -0.55574689]\n",
            " [-0.64952717 -0.88640526  2.02023231 -0.51757746]\n",
            " [-0.63220645 -0.88640526  1.08726535 -0.51757746]\n",
            " [-0.61488572  1.12815215  1.73316556 -0.47940803]\n",
            " [-0.597565    1.12815215 -1.49633548 -0.47940803]\n",
            " [-0.58024427 -0.88640526  0.29783176 -0.47940803]\n",
            " [-0.56292355 -0.88640526  2.091999   -0.47940803]\n",
            " [-0.54560282  1.12815215 -1.42456879 -0.47940803]\n",
            " [-0.5282821  -0.88640526 -0.49160182 -0.47940803]\n",
            " [-0.51096138  1.12815215  2.23553238 -0.4412386 ]\n",
            " [-0.49364065 -0.88640526  0.58489852 -0.4412386 ]\n",
            " [-0.47631993 -0.88640526  1.51786549 -0.40306917]\n",
            " [-0.4589992  -0.88640526  1.51786549 -0.40306917]\n",
            " [-0.44167848  1.12815215  1.4460988  -0.25039146]\n",
            " [-0.42435775  1.12815215 -0.92220196 -0.25039146]\n",
            " [-0.40703703 -0.88640526  0.44136514 -0.25039146]\n",
            " [-0.3897163   1.12815215  0.08253169 -0.25039146]\n",
            " [-0.37239558 -0.88640526 -1.13750203 -0.25039146]\n",
            " [-0.35507485 -0.88640526  0.7284319  -0.25039146]\n",
            " [-0.33775413  1.12815215  1.30256542 -0.25039146]\n",
            " [-0.3204334   1.12815215 -0.06100169 -0.25039146]\n",
            " [-0.30311268  1.12815215  2.02023231 -0.25039146]\n",
            " [-0.28579196 -0.88640526  0.51313183 -0.25039146]\n",
            " [-0.26847123 -0.88640526 -1.28103541 -0.25039146]\n",
            " [-0.25115051  1.12815215  0.65666521 -0.25039146]\n",
            " [-0.23382978 -0.88640526  1.15903204 -0.13588317]\n",
            " [-0.21650906 -0.88640526 -1.20926872 -0.13588317]\n",
            " [-0.19918833 -0.88640526 -0.34806844 -0.09771374]\n",
            " [-0.18186761 -0.88640526  0.80019859 -0.09771374]\n",
            " [-0.16454688 -0.88640526  2.091999   -0.05954431]\n",
            " [-0.14722616  1.12815215 -1.49633548 -0.05954431]\n",
            " [-0.12990543  1.12815215  0.65666521 -0.02137488]\n",
            " [-0.11258471 -0.88640526  0.08253169 -0.02137488]\n",
            " [-0.09526399 -0.88640526 -0.49160182 -0.02137488]\n",
            " [-0.07794326  1.12815215 -1.06573534 -0.02137488]\n",
            " [-0.06062254 -0.88640526  0.58489852 -0.02137488]\n",
            " [-0.04330181 -0.88640526 -0.85043527 -0.02137488]\n",
            " [-0.02598109  1.12815215  0.65666521  0.01679455]\n",
            " [-0.00866036  1.12815215 -1.3528021   0.01679455]\n",
            " [ 0.00866036 -0.88640526 -1.13750203  0.05496398]\n",
            " [ 0.02598109 -0.88640526  0.7284319   0.05496398]\n",
            " [ 0.04330181  1.12815215  2.02023231  0.05496398]\n",
            " [ 0.06062254  1.12815215 -0.92220196  0.05496398]\n",
            " [ 0.07794326  1.12815215  0.7284319   0.05496398]\n",
            " [ 0.09526399 -0.88640526 -1.28103541  0.05496398]\n",
            " [ 0.11258471 -0.88640526  1.94846562  0.09313341]\n",
            " [ 0.12990543  1.12815215  1.08726535  0.09313341]\n",
            " [ 0.14722616  1.12815215  2.091999    0.09313341]\n",
            " [ 0.16454688  1.12815215  1.94846562  0.09313341]\n",
            " [ 0.18186761  1.12815215  1.87669894  0.09313341]\n",
            " [ 0.19918833 -0.88640526 -1.42456879  0.09313341]\n",
            " [ 0.21650906 -0.88640526 -0.06100169  0.13130284]\n",
            " [ 0.23382978  1.12815215 -1.42456879  0.13130284]\n",
            " [ 0.25115051 -0.88640526 -1.49633548  0.16947227]\n",
            " [ 0.26847123 -0.88640526 -1.42456879  0.16947227]\n",
            " [ 0.28579196 -0.88640526  1.73316556  0.16947227]\n",
            " [ 0.30311268 -0.88640526  0.7284319   0.16947227]\n",
            " [ 0.3204334  -0.88640526  0.87196528  0.24581112]\n",
            " [ 0.33775413 -0.88640526  0.80019859  0.24581112]\n",
            " [ 0.35507485  1.12815215 -0.85043527  0.24581112]\n",
            " [ 0.37239558 -0.88640526 -0.06100169  0.24581112]\n",
            " [ 0.3897163  -0.88640526  0.08253169  0.32214998]\n",
            " [ 0.40703703  1.12815215  0.010765    0.32214998]\n",
            " [ 0.42435775 -0.88640526 -1.13750203  0.36031941]\n",
            " [ 0.44167848 -0.88640526 -0.56336851  0.36031941]\n",
            " [ 0.4589992   1.12815215  0.29783176  0.39848884]\n",
            " [ 0.47631993  1.12815215  0.08253169  0.39848884]\n",
            " [ 0.49364065  1.12815215  1.4460988   0.39848884]\n",
            " [ 0.51096138  1.12815215 -0.06100169  0.39848884]\n",
            " [ 0.5282821   1.12815215  0.58489852  0.39848884]\n",
            " [ 0.54560282  1.12815215  0.010765    0.39848884]\n",
            " [ 0.56292355 -0.88640526 -0.99396865  0.43665827]\n",
            " [ 0.58024427 -0.88640526 -0.56336851  0.43665827]\n",
            " [ 0.597565    1.12815215 -1.3528021   0.4748277 ]\n",
            " [ 0.61488572 -0.88640526 -0.70690189  0.4748277 ]\n",
            " [ 0.63220645 -0.88640526  0.36959845  0.4748277 ]\n",
            " [ 0.64952717  1.12815215 -0.49160182  0.4748277 ]\n",
            " [ 0.6668479   1.12815215 -1.42456879  0.51299713]\n",
            " [ 0.68416862 -0.88640526 -0.27630176  0.51299713]\n",
            " [ 0.70148935 -0.88640526  1.30256542  0.55116656]\n",
            " [ 0.71881007  1.12815215 -0.49160182  0.55116656]\n",
            " [ 0.73613079 -0.88640526 -0.77866858  0.58933599]\n",
            " [ 0.75345152 -0.88640526 -0.49160182  0.58933599]\n",
            " [ 0.77077224  1.12815215 -0.99396865  0.62750542]\n",
            " [ 0.78809297  1.12815215 -0.77866858  0.62750542]\n",
            " [ 0.80541369  1.12815215  0.65666521  0.62750542]\n",
            " [ 0.82273442 -0.88640526 -0.49160182  0.62750542]\n",
            " [ 0.84005514 -0.88640526 -0.34806844  0.66567484]\n",
            " [ 0.85737587  1.12815215 -0.34806844  0.66567484]\n",
            " [ 0.87469659  1.12815215  0.29783176  0.66567484]\n",
            " [ 0.89201732  1.12815215  0.010765    0.66567484]\n",
            " [ 0.90933804 -0.88640526  0.36959845  0.66567484]\n",
            " [ 0.92665877 -0.88640526 -0.06100169  0.66567484]\n",
            " [ 0.94397949 -0.88640526  0.58489852  0.66567484]\n",
            " [ 0.96130021 -0.88640526 -0.85043527  0.66567484]\n",
            " [ 0.97862094  1.12815215 -0.13276838  0.66567484]\n",
            " [ 0.99594166 -0.88640526 -0.6351352   0.66567484]\n",
            " [ 1.01326239  1.12815215 -0.34806844  0.66567484]\n",
            " [ 1.03058311 -0.88640526 -0.6351352   0.66567484]\n",
            " [ 1.04790384 -0.88640526  1.23079873  0.70384427]\n",
            " [ 1.06522456 -0.88640526 -0.70690189  0.70384427]\n",
            " [ 1.08254529  1.12815215 -1.42456879  0.78018313]\n",
            " [ 1.09986601 -0.88640526 -0.56336851  0.78018313]\n",
            " [ 1.11718674  1.12815215  0.80019859  0.93286085]\n",
            " [ 1.13450746 -0.88640526 -0.20453507  0.93286085]\n",
            " [ 1.15182818  1.12815215  0.22606507  0.97103028]\n",
            " [ 1.16914891 -0.88640526 -0.41983513  0.97103028]\n",
            " [ 1.18646963 -0.88640526 -0.20453507  1.00919971]\n",
            " [ 1.20379036  1.12815215 -0.49160182  1.00919971]\n",
            " [ 1.22111108  1.12815215  0.08253169  1.00919971]\n",
            " [ 1.23843181  1.12815215 -0.77866858  1.00919971]\n",
            " [ 1.25575253  1.12815215 -0.20453507  1.00919971]\n",
            " [ 1.27307326  1.12815215 -0.20453507  1.00919971]\n",
            " [ 1.29039398 -0.88640526  0.94373197  1.04736914]\n",
            " [ 1.30771471 -0.88640526 -0.6351352   1.04736914]\n",
            " [ 1.32503543  1.12815215  1.37433211  1.04736914]\n",
            " [ 1.34235616  1.12815215 -0.85043527  1.04736914]\n",
            " [ 1.35967688  1.12815215  1.4460988   1.23821628]\n",
            " [ 1.3769976   1.12815215 -0.27630176  1.23821628]\n",
            " [ 1.39431833 -0.88640526 -0.13276838  1.390894  ]\n",
            " [ 1.41163905 -0.88640526 -0.49160182  1.390894  ]\n",
            " [ 1.42895978  1.12815215  0.51313183  1.42906343]\n",
            " [ 1.4462805  -0.88640526 -0.70690189  1.42906343]\n",
            " [ 1.46360123 -0.88640526  0.15429838  1.46723286]\n",
            " [ 1.48092195  1.12815215 -0.6351352   1.46723286]\n",
            " [ 1.49824268 -0.88640526  1.08726535  1.54357172]\n",
            " [ 1.5155634   1.12815215 -0.77866858  1.54357172]\n",
            " [ 1.53288413 -0.88640526  0.15429838  1.61991057]\n",
            " [ 1.55020485 -0.88640526 -0.20453507  1.61991057]\n",
            " [ 1.56752558 -0.88640526 -0.34806844  1.61991057]\n",
            " [ 1.5848463  -0.88640526 -0.49160182  1.61991057]\n",
            " [ 1.60216702  1.12815215 -0.41983513  2.00160487]\n",
            " [ 1.61948775 -0.88640526 -0.06100169  2.00160487]\n",
            " [ 1.63680847 -0.88640526  0.58489852  2.26879087]\n",
            " [ 1.6541292  -0.88640526 -0.27630176  2.26879087]\n",
            " [ 1.67144992 -0.88640526  0.44136514  2.49780745]\n",
            " [ 1.68877065  1.12815215 -0.49160182  2.49780745]\n",
            " [ 1.70609137  1.12815215 -0.49160182  2.91767117]\n",
            " [ 1.7234121   1.12815215 -0.6351352   2.91767117]]\n"
          ]
        }
      ],
      "source": [
        "from sklearn.preprocessing import StandardScaler\n",
        "o= StandardScaler()\n",
        "s = o.fit_transform(X) \n",
        "print(s)"
      ]
    },
    {
      "cell_type": "code",
      "execution_count": 46,
      "metadata": {
        "colab": {
          "base_uri": "https://localhost:8080/"
        },
        "id": "ZFhAT7MVECUT",
        "outputId": "b6d47846-883c-49a9-dfd5-4aaff06c56ed"
      },
      "outputs": [
        {
          "data": {
            "text/plain": [
              "array([[-1.7234121 ,  1.12815215, -1.42456879, -1.73899919],\n",
              "       [-1.70609137,  1.12815215, -1.28103541, -1.73899919],\n",
              "       [-1.68877065, -0.88640526, -1.3528021 , -1.70082976],\n",
              "       [-1.67144992, -0.88640526, -1.13750203, -1.70082976],\n",
              "       [-1.6541292 , -0.88640526, -0.56336851, -1.66266033],\n",
              "       [-1.63680847, -0.88640526, -1.20926872, -1.66266033],\n",
              "       [-1.61948775, -0.88640526, -0.27630176, -1.62449091],\n",
              "       [-1.60216702, -0.88640526, -1.13750203, -1.62449091],\n",
              "       [-1.5848463 ,  1.12815215,  1.80493225, -1.58632148],\n",
              "       [-1.56752558, -0.88640526, -0.6351352 , -1.58632148],\n",
              "       [-1.55020485,  1.12815215,  2.02023231, -1.58632148],\n",
              "       [-1.53288413, -0.88640526, -0.27630176, -1.58632148],\n",
              "       [-1.5155634 , -0.88640526,  1.37433211, -1.54815205],\n",
              "       [-1.49824268, -0.88640526, -1.06573534, -1.54815205],\n",
              "       [-1.48092195,  1.12815215, -0.13276838, -1.54815205],\n",
              "       [-1.46360123,  1.12815215, -1.20926872, -1.54815205],\n",
              "       [-1.4462805 , -0.88640526, -0.27630176, -1.50998262],\n",
              "       [-1.42895978,  1.12815215, -1.3528021 , -1.50998262],\n",
              "       [-1.41163905,  1.12815215,  0.94373197, -1.43364376],\n",
              "       [-1.39431833, -0.88640526, -0.27630176, -1.43364376],\n",
              "       [-1.3769976 ,  1.12815215, -0.27630176, -1.39547433],\n",
              "       [-1.35967688,  1.12815215, -0.99396865, -1.39547433],\n",
              "       [-1.34235616, -0.88640526,  0.51313183, -1.3573049 ],\n",
              "       [-1.32503543,  1.12815215, -0.56336851, -1.3573049 ],\n",
              "       [-1.30771471, -0.88640526,  1.08726535, -1.24279661],\n",
              "       [-1.29039398,  1.12815215, -0.70690189, -1.24279661],\n",
              "       [-1.27307326, -0.88640526,  0.44136514, -1.24279661],\n",
              "       [-1.25575253,  1.12815215, -0.27630176, -1.24279661],\n",
              "       [-1.23843181, -0.88640526,  0.08253169, -1.20462718],\n",
              "       [-1.22111108, -0.88640526, -1.13750203, -1.20462718],\n",
              "       [-1.20379036,  1.12815215,  1.51786549, -1.16645776],\n",
              "       [-1.18646963, -0.88640526, -1.28103541, -1.16645776],\n",
              "       [-1.16914891,  1.12815215,  1.01549866, -1.05194947],\n",
              "       [-1.15182818,  1.12815215, -1.49633548, -1.05194947],\n",
              "       [-1.13450746, -0.88640526,  0.7284319 , -1.05194947],\n",
              "       [-1.11718674, -0.88640526, -1.28103541, -1.05194947],\n",
              "       [-1.09986601, -0.88640526,  0.22606507, -1.01378004],\n",
              "       [-1.08254529, -0.88640526, -0.6351352 , -1.01378004],\n",
              "       [-1.06522456, -0.88640526, -0.20453507, -0.89927175],\n",
              "       [-1.04790384, -0.88640526, -1.3528021 , -0.89927175],\n",
              "       [-1.03058311, -0.88640526,  1.87669894, -0.86110232],\n",
              "       [-1.01326239,  1.12815215, -1.06573534, -0.86110232],\n",
              "       [-0.99594166,  1.12815215,  0.65666521, -0.82293289],\n",
              "       [-0.97862094, -0.88640526, -0.56336851, -0.82293289],\n",
              "       [-0.96130021, -0.88640526,  0.7284319 , -0.82293289],\n",
              "       [-0.94397949, -0.88640526, -1.06573534, -0.82293289],\n",
              "       [-0.92665877, -0.88640526,  0.80019859, -0.78476346],\n",
              "       [-0.90933804, -0.88640526, -0.85043527, -0.78476346],\n",
              "       [-0.89201732, -0.88640526, -0.70690189, -0.78476346],\n",
              "       [-0.87469659, -0.88640526, -0.56336851, -0.78476346],\n",
              "       [-0.85737587, -0.88640526,  0.7284319 , -0.70842461],\n",
              "       [-0.84005514,  1.12815215, -0.41983513, -0.70842461],\n",
              "       [-0.82273442, -0.88640526, -0.56336851, -0.67025518],\n",
              "       [-0.80541369,  1.12815215,  1.4460988 , -0.67025518],\n",
              "       [-0.78809297, -0.88640526,  0.80019859, -0.67025518],\n",
              "       [-0.77077224,  1.12815215,  0.58489852, -0.67025518],\n",
              "       [-0.75345152, -0.88640526,  0.87196528, -0.63208575],\n",
              "       [-0.73613079,  1.12815215,  2.16376569, -0.63208575],\n",
              "       [-0.71881007, -0.88640526, -0.85043527, -0.55574689],\n",
              "       [-0.70148935,  1.12815215,  1.01549866, -0.55574689],\n",
              "       [-0.68416862,  1.12815215,  2.23553238, -0.55574689],\n",
              "       [-0.6668479 ,  1.12815215, -1.42456879, -0.55574689],\n",
              "       [-0.64952717, -0.88640526,  2.02023231, -0.51757746],\n",
              "       [-0.63220645, -0.88640526,  1.08726535, -0.51757746],\n",
              "       [-0.61488572,  1.12815215,  1.73316556, -0.47940803],\n",
              "       [-0.597565  ,  1.12815215, -1.49633548, -0.47940803],\n",
              "       [-0.58024427, -0.88640526,  0.29783176, -0.47940803],\n",
              "       [-0.56292355, -0.88640526,  2.091999  , -0.47940803],\n",
              "       [-0.54560282,  1.12815215, -1.42456879, -0.47940803],\n",
              "       [-0.5282821 , -0.88640526, -0.49160182, -0.47940803],\n",
              "       [-0.51096138,  1.12815215,  2.23553238, -0.4412386 ],\n",
              "       [-0.49364065, -0.88640526,  0.58489852, -0.4412386 ],\n",
              "       [-0.47631993, -0.88640526,  1.51786549, -0.40306917],\n",
              "       [-0.4589992 , -0.88640526,  1.51786549, -0.40306917],\n",
              "       [-0.44167848,  1.12815215,  1.4460988 , -0.25039146],\n",
              "       [-0.42435775,  1.12815215, -0.92220196, -0.25039146],\n",
              "       [-0.40703703, -0.88640526,  0.44136514, -0.25039146],\n",
              "       [-0.3897163 ,  1.12815215,  0.08253169, -0.25039146],\n",
              "       [-0.37239558, -0.88640526, -1.13750203, -0.25039146],\n",
              "       [-0.35507485, -0.88640526,  0.7284319 , -0.25039146],\n",
              "       [-0.33775413,  1.12815215,  1.30256542, -0.25039146],\n",
              "       [-0.3204334 ,  1.12815215, -0.06100169, -0.25039146],\n",
              "       [-0.30311268,  1.12815215,  2.02023231, -0.25039146],\n",
              "       [-0.28579196, -0.88640526,  0.51313183, -0.25039146],\n",
              "       [-0.26847123, -0.88640526, -1.28103541, -0.25039146],\n",
              "       [-0.25115051,  1.12815215,  0.65666521, -0.25039146],\n",
              "       [-0.23382978, -0.88640526,  1.15903204, -0.13588317],\n",
              "       [-0.21650906, -0.88640526, -1.20926872, -0.13588317],\n",
              "       [-0.19918833, -0.88640526, -0.34806844, -0.09771374],\n",
              "       [-0.18186761, -0.88640526,  0.80019859, -0.09771374],\n",
              "       [-0.16454688, -0.88640526,  2.091999  , -0.05954431],\n",
              "       [-0.14722616,  1.12815215, -1.49633548, -0.05954431],\n",
              "       [-0.12990543,  1.12815215,  0.65666521, -0.02137488],\n",
              "       [-0.11258471, -0.88640526,  0.08253169, -0.02137488],\n",
              "       [-0.09526399, -0.88640526, -0.49160182, -0.02137488],\n",
              "       [-0.07794326,  1.12815215, -1.06573534, -0.02137488],\n",
              "       [-0.06062254, -0.88640526,  0.58489852, -0.02137488],\n",
              "       [-0.04330181, -0.88640526, -0.85043527, -0.02137488],\n",
              "       [-0.02598109,  1.12815215,  0.65666521,  0.01679455],\n",
              "       [-0.00866036,  1.12815215, -1.3528021 ,  0.01679455],\n",
              "       [ 0.00866036, -0.88640526, -1.13750203,  0.05496398],\n",
              "       [ 0.02598109, -0.88640526,  0.7284319 ,  0.05496398],\n",
              "       [ 0.04330181,  1.12815215,  2.02023231,  0.05496398],\n",
              "       [ 0.06062254,  1.12815215, -0.92220196,  0.05496398],\n",
              "       [ 0.07794326,  1.12815215,  0.7284319 ,  0.05496398],\n",
              "       [ 0.09526399, -0.88640526, -1.28103541,  0.05496398],\n",
              "       [ 0.11258471, -0.88640526,  1.94846562,  0.09313341],\n",
              "       [ 0.12990543,  1.12815215,  1.08726535,  0.09313341],\n",
              "       [ 0.14722616,  1.12815215,  2.091999  ,  0.09313341],\n",
              "       [ 0.16454688,  1.12815215,  1.94846562,  0.09313341],\n",
              "       [ 0.18186761,  1.12815215,  1.87669894,  0.09313341],\n",
              "       [ 0.19918833, -0.88640526, -1.42456879,  0.09313341],\n",
              "       [ 0.21650906, -0.88640526, -0.06100169,  0.13130284],\n",
              "       [ 0.23382978,  1.12815215, -1.42456879,  0.13130284],\n",
              "       [ 0.25115051, -0.88640526, -1.49633548,  0.16947227],\n",
              "       [ 0.26847123, -0.88640526, -1.42456879,  0.16947227],\n",
              "       [ 0.28579196, -0.88640526,  1.73316556,  0.16947227],\n",
              "       [ 0.30311268, -0.88640526,  0.7284319 ,  0.16947227],\n",
              "       [ 0.3204334 , -0.88640526,  0.87196528,  0.24581112],\n",
              "       [ 0.33775413, -0.88640526,  0.80019859,  0.24581112],\n",
              "       [ 0.35507485,  1.12815215, -0.85043527,  0.24581112],\n",
              "       [ 0.37239558, -0.88640526, -0.06100169,  0.24581112],\n",
              "       [ 0.3897163 , -0.88640526,  0.08253169,  0.32214998],\n",
              "       [ 0.40703703,  1.12815215,  0.010765  ,  0.32214998],\n",
              "       [ 0.42435775, -0.88640526, -1.13750203,  0.36031941],\n",
              "       [ 0.44167848, -0.88640526, -0.56336851,  0.36031941],\n",
              "       [ 0.4589992 ,  1.12815215,  0.29783176,  0.39848884],\n",
              "       [ 0.47631993,  1.12815215,  0.08253169,  0.39848884],\n",
              "       [ 0.49364065,  1.12815215,  1.4460988 ,  0.39848884],\n",
              "       [ 0.51096138,  1.12815215, -0.06100169,  0.39848884],\n",
              "       [ 0.5282821 ,  1.12815215,  0.58489852,  0.39848884],\n",
              "       [ 0.54560282,  1.12815215,  0.010765  ,  0.39848884],\n",
              "       [ 0.56292355, -0.88640526, -0.99396865,  0.43665827],\n",
              "       [ 0.58024427, -0.88640526, -0.56336851,  0.43665827],\n",
              "       [ 0.597565  ,  1.12815215, -1.3528021 ,  0.4748277 ],\n",
              "       [ 0.61488572, -0.88640526, -0.70690189,  0.4748277 ],\n",
              "       [ 0.63220645, -0.88640526,  0.36959845,  0.4748277 ],\n",
              "       [ 0.64952717,  1.12815215, -0.49160182,  0.4748277 ],\n",
              "       [ 0.6668479 ,  1.12815215, -1.42456879,  0.51299713],\n",
              "       [ 0.68416862, -0.88640526, -0.27630176,  0.51299713],\n",
              "       [ 0.70148935, -0.88640526,  1.30256542,  0.55116656],\n",
              "       [ 0.71881007,  1.12815215, -0.49160182,  0.55116656],\n",
              "       [ 0.73613079, -0.88640526, -0.77866858,  0.58933599],\n",
              "       [ 0.75345152, -0.88640526, -0.49160182,  0.58933599],\n",
              "       [ 0.77077224,  1.12815215, -0.99396865,  0.62750542],\n",
              "       [ 0.78809297,  1.12815215, -0.77866858,  0.62750542],\n",
              "       [ 0.80541369,  1.12815215,  0.65666521,  0.62750542],\n",
              "       [ 0.82273442, -0.88640526, -0.49160182,  0.62750542],\n",
              "       [ 0.84005514, -0.88640526, -0.34806844,  0.66567484],\n",
              "       [ 0.85737587,  1.12815215, -0.34806844,  0.66567484],\n",
              "       [ 0.87469659,  1.12815215,  0.29783176,  0.66567484],\n",
              "       [ 0.89201732,  1.12815215,  0.010765  ,  0.66567484],\n",
              "       [ 0.90933804, -0.88640526,  0.36959845,  0.66567484],\n",
              "       [ 0.92665877, -0.88640526, -0.06100169,  0.66567484],\n",
              "       [ 0.94397949, -0.88640526,  0.58489852,  0.66567484],\n",
              "       [ 0.96130021, -0.88640526, -0.85043527,  0.66567484],\n",
              "       [ 0.97862094,  1.12815215, -0.13276838,  0.66567484],\n",
              "       [ 0.99594166, -0.88640526, -0.6351352 ,  0.66567484],\n",
              "       [ 1.01326239,  1.12815215, -0.34806844,  0.66567484],\n",
              "       [ 1.03058311, -0.88640526, -0.6351352 ,  0.66567484],\n",
              "       [ 1.04790384, -0.88640526,  1.23079873,  0.70384427],\n",
              "       [ 1.06522456, -0.88640526, -0.70690189,  0.70384427],\n",
              "       [ 1.08254529,  1.12815215, -1.42456879,  0.78018313],\n",
              "       [ 1.09986601, -0.88640526, -0.56336851,  0.78018313],\n",
              "       [ 1.11718674,  1.12815215,  0.80019859,  0.93286085],\n",
              "       [ 1.13450746, -0.88640526, -0.20453507,  0.93286085],\n",
              "       [ 1.15182818,  1.12815215,  0.22606507,  0.97103028],\n",
              "       [ 1.16914891, -0.88640526, -0.41983513,  0.97103028],\n",
              "       [ 1.18646963, -0.88640526, -0.20453507,  1.00919971],\n",
              "       [ 1.20379036,  1.12815215, -0.49160182,  1.00919971],\n",
              "       [ 1.22111108,  1.12815215,  0.08253169,  1.00919971],\n",
              "       [ 1.23843181,  1.12815215, -0.77866858,  1.00919971],\n",
              "       [ 1.25575253,  1.12815215, -0.20453507,  1.00919971],\n",
              "       [ 1.27307326,  1.12815215, -0.20453507,  1.00919971],\n",
              "       [ 1.29039398, -0.88640526,  0.94373197,  1.04736914],\n",
              "       [ 1.30771471, -0.88640526, -0.6351352 ,  1.04736914],\n",
              "       [ 1.32503543,  1.12815215,  1.37433211,  1.04736914],\n",
              "       [ 1.34235616,  1.12815215, -0.85043527,  1.04736914],\n",
              "       [ 1.35967688,  1.12815215,  1.4460988 ,  1.23821628],\n",
              "       [ 1.3769976 ,  1.12815215, -0.27630176,  1.23821628],\n",
              "       [ 1.39431833, -0.88640526, -0.13276838,  1.390894  ],\n",
              "       [ 1.41163905, -0.88640526, -0.49160182,  1.390894  ],\n",
              "       [ 1.42895978,  1.12815215,  0.51313183,  1.42906343],\n",
              "       [ 1.4462805 , -0.88640526, -0.70690189,  1.42906343],\n",
              "       [ 1.46360123, -0.88640526,  0.15429838,  1.46723286],\n",
              "       [ 1.48092195,  1.12815215, -0.6351352 ,  1.46723286],\n",
              "       [ 1.49824268, -0.88640526,  1.08726535,  1.54357172],\n",
              "       [ 1.5155634 ,  1.12815215, -0.77866858,  1.54357172],\n",
              "       [ 1.53288413, -0.88640526,  0.15429838,  1.61991057],\n",
              "       [ 1.55020485, -0.88640526, -0.20453507,  1.61991057],\n",
              "       [ 1.56752558, -0.88640526, -0.34806844,  1.61991057],\n",
              "       [ 1.5848463 , -0.88640526, -0.49160182,  1.61991057],\n",
              "       [ 1.60216702,  1.12815215, -0.41983513,  2.00160487],\n",
              "       [ 1.61948775, -0.88640526, -0.06100169,  2.00160487],\n",
              "       [ 1.63680847, -0.88640526,  0.58489852,  2.26879087],\n",
              "       [ 1.6541292 , -0.88640526, -0.27630176,  2.26879087],\n",
              "       [ 1.67144992, -0.88640526,  0.44136514,  2.49780745],\n",
              "       [ 1.68877065,  1.12815215, -0.49160182,  2.49780745],\n",
              "       [ 1.70609137,  1.12815215, -0.49160182,  2.91767117],\n",
              "       [ 1.7234121 ,  1.12815215, -0.6351352 ,  2.91767117]])"
            ]
          },
          "execution_count": 46,
          "metadata": {},
          "output_type": "execute_result"
        }
      ],
      "source": [
        "s"
      ]
    },
    {
      "cell_type": "markdown",
      "metadata": {
        "id": "N36ZWMNg77LO"
      },
      "source": [
        "### **Train and Test split**"
      ]
    },
    {
      "cell_type": "code",
      "execution_count": 47,
      "metadata": {
        "id": "a7tiMW4Z7m4X"
      },
      "outputs": [],
      "source": [
        "from sklearn.model_selection import train_test_split\n",
        "# split the dtset\n",
        "X_train, X_test, Y_train, Y_test = train_test_split(s, Y, test_size=0.20, random_state=0)"
      ]
    },
    {
      "cell_type": "code",
      "execution_count": 48,
      "metadata": {
        "colab": {
          "base_uri": "https://localhost:8080/"
        },
        "id": "jiau1p2l8BmO",
        "outputId": "4fa65a97-a99f-4775-e35e-458895f4ba6c"
      },
      "outputs": [
        {
          "data": {
            "text/plain": [
              "(160, 4)"
            ]
          },
          "execution_count": 48,
          "metadata": {},
          "output_type": "execute_result"
        }
      ],
      "source": [
        "X_train.shape"
      ]
    },
    {
      "cell_type": "code",
      "execution_count": 49,
      "metadata": {
        "colab": {
          "base_uri": "https://localhost:8080/"
        },
        "id": "Vo-ZeRsc8BvI",
        "outputId": "980ee381-2fa6-4531-a750-43cbdde9c744"
      },
      "outputs": [
        {
          "data": {
            "text/plain": [
              "(40, 4)"
            ]
          },
          "execution_count": 49,
          "metadata": {},
          "output_type": "execute_result"
        }
      ],
      "source": [
        "X_test.shape"
      ]
    },
    {
      "cell_type": "code",
      "execution_count": 50,
      "metadata": {
        "colab": {
          "base_uri": "https://localhost:8080/"
        },
        "id": "smSqovfG8Bx3",
        "outputId": "67a949bd-62ed-44c5-c93f-4a21af0ee0e3"
      },
      "outputs": [
        {
          "data": {
            "text/plain": [
              "(160,)"
            ]
          },
          "execution_count": 50,
          "metadata": {},
          "output_type": "execute_result"
        }
      ],
      "source": [
        "Y_train.shape"
      ]
    },
    {
      "cell_type": "code",
      "execution_count": 51,
      "metadata": {
        "colab": {
          "base_uri": "https://localhost:8080/"
        },
        "id": "0nHjYLHk8KeS",
        "outputId": "c7096c54-54d8-4921-f127-05ce58cb7caf"
      },
      "outputs": [
        {
          "data": {
            "text/plain": [
              "(40,)"
            ]
          },
          "execution_count": 51,
          "metadata": {},
          "output_type": "execute_result"
        }
      ],
      "source": [
        "Y_test.shape"
      ]
    },
    {
      "cell_type": "markdown",
      "metadata": {
        "id": "-kr91vZM8RfD"
      },
      "source": [
        "### **BUILD THE MODEL**"
      ]
    },
    {
      "cell_type": "code",
      "execution_count": 52,
      "metadata": {
        "id": "cQs2mvPD4Zfl"
      },
      "outputs": [],
      "source": [
        "x = dt.iloc[:, [3, 4]].values  "
      ]
    },
    {
      "cell_type": "code",
      "execution_count": 53,
      "metadata": {
        "colab": {
          "base_uri": "https://localhost:8080/",
          "height": 295
        },
        "id": "PhGe1o7-8Qv2",
        "outputId": "288d42df-e75e-4adc-9933-1aadec167177"
      },
      "outputs": [
        {
          "data": {
            "image/png": "[encoded data removed]",
            "text/plain": [
              "<Figure size 432x288 with 1 Axes>"
            ]
          },
          "metadata": {
            "needs_background": "light"
          },
          "output_type": "display_data"
        }
      ],
      "source": [
        " \n",
        "from sklearn.cluster import KMeans  \n",
        "wcss_list= []  \n",
        "   \n",
        "for i in range(1, 11):  \n",
        "    kmeans = KMeans(n_clusters=i, init='k-means++', random_state= 42)  \n",
        "    kmeans.fit(x)  \n",
        "    wcss_list.append(kmeans.inertia_)  \n",
        "plt.plot(range(1, 11), wcss_list)  \n",
        "plt.title('The Elbow Method Graph')  \n",
        "plt.xlabel('Number of clusters(k)')  \n",
        "plt.ylabel('wcss_list')  \n",
        "plt.show() "
      ]
    },
    {
      "cell_type": "code",
      "execution_count": 54,
      "metadata": {
        "id": "22e8DCK1Oi-h"
      },
      "outputs": [],
      "source": [
        "\n",
        "kmeans = KMeans(n_clusters=5, init='k-means++', random_state= 42)  \n",
        "y_predict= kmeans.fit_predict(x) "
      ]
    },
    {
      "cell_type": "code",
      "execution_count": 55,
      "metadata": {
        "colab": {
          "base_uri": "https://localhost:8080/",
          "height": 295
        },
        "id": "vleJ3AWwOjBa",
        "outputId": "97ba0f91-e9ce-4c6e-8470-119ebe6988bf"
      },
      "outputs": [
        {
          "data": {
            "image/png": "[encoded data removed]",
            "text/plain": [
              "<Figure size 432x288 with 1 Axes>"
            ]
          },
          "metadata": {
            "needs_background": "light"
          },
          "output_type": "display_data"
        }
      ],
      "source": [
        "\n",
        "plt.scatter(x[y_predict == 0, 0], x[y_predict == 0, 1], s = 100, c = 'blue', label = 'Cluster 1') \n",
        "plt.scatter(x[y_predict == 1, 0], x[y_predict == 1, 1], s = 100, c = 'green', label = 'Cluster 2')  \n",
        "plt.scatter(x[y_predict== 2, 0], x[y_predict == 2, 1], s = 100, c = 'red', label = 'Cluster 3')  \n",
        "plt.scatter(x[y_predict == 3, 0], x[y_predict == 3, 1], s = 100, c = 'cyan', label = 'Cluster 4') \n",
        "plt.scatter(x[y_predict == 4, 0], x[y_predict == 4, 1], s = 100, c = 'magenta', label = 'Cluster 5') \n",
        "plt.scatter(kmeans.cluster_centers_[:, 0], kmeans.cluster_centers_[:, 1], s = 300, c = 'yellow', label = 'Centroid')   \n",
        "plt.title('Clusters of customers')  \n",
        "plt.xlabel('Annual Income (k$)')  \n",
        "plt.ylabel('Spending Score (1-100)')  \n",
        "plt.legend()  \n",
        "plt.show()  "
      ]
    }
  ],
  "metadata": {
    "colab": {
      "collapsed_sections": [],
      "provenance": []
    },
    "kernelspec": {
      "display_name": "Python 3.10.1 64-bit",
      "language": "python",
      "name": "python3"
    },
    "language_info": {
      "name": "python",
      "version": "3.10.1"
    },
    "vscode": {
      "interpreter": {
        "hash": "aee8b7b246df8f9039afb4144a1f6fd8d2ca17a180786b69acc140d282b71a49"
      }
    }
  },
  "nbformat": 4,
  "nbformat_minor": 0
}
